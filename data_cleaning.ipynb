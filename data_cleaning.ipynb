{
 "cells": [
  {
   "cell_type": "markdown",
   "id": "ce8f0a9c",
   "metadata": {},
   "source": [
    "### 1.  Data Collection And Preparation"
   ]
  },
  {
   "cell_type": "code",
   "execution_count": 3,
   "id": "e1897482",
   "metadata": {},
   "outputs": [],
   "source": [
    "import pandas as pd"
   ]
  },
  {
   "cell_type": "code",
   "execution_count": null,
   "id": "2f7d2054",
   "metadata": {},
   "outputs": [
    {
     "name": "stdout",
     "output_type": "stream",
     "text": [
      "Id                           0\n",
      "Genetics                     0\n",
      "Hormonal Changes             0\n",
      "Medical Conditions           0\n",
      "Medications & Treatments     0\n",
      "Nutritional Deficiencies     0\n",
      "Stress                       0\n",
      "Age                          0\n",
      "Poor Hair Care Habits        0\n",
      "Environmental Factors        0\n",
      "Smoking                      0\n",
      "Weight Loss                  0\n",
      "Hair Loss                    0\n",
      "dtype: int64\n",
      "date                        0\n",
      "hair_loss                   0\n",
      "stay_up_late                0\n",
      "pressure_level              0\n",
      "coffee_consumed             0\n",
      "brain_working_duration      0\n",
      "school_assesssment        305\n",
      "stress_level                0\n",
      "shampoo_brand               0\n",
      "swimming                    0\n",
      "hair_washing                0\n",
      "hair_grease                 4\n",
      "dandruff                  289\n",
      "libido                      0\n",
      "dtype: int64\n"
     ]
    }
   ],
   "source": [
    "hair_data = pd.read_csv('Data/Predict Hair Fall.csv')\n",
    "luke_hair_data = pd.read_csv('Data/Luke_hair_loss_documentation.csv')\n",
    "print(hair_data.info())\n",
    "print(luke_hair_data.isnull().sum())"
   ]
  }
 ],
 "metadata": {
  "kernelspec": {
   "display_name": "base",
   "language": "python",
   "name": "python3"
  },
  "language_info": {
   "codemirror_mode": {
    "name": "ipython",
    "version": 3
   },
   "file_extension": ".py",
   "mimetype": "text/x-python",
   "name": "python",
   "nbconvert_exporter": "python",
   "pygments_lexer": "ipython3",
   "version": "3.11.7"
  }
 },
 "nbformat": 4,
 "nbformat_minor": 5
}
