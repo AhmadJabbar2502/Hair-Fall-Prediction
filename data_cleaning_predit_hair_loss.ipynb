{
 "cells": [
  {
   "cell_type": "markdown",
   "id": "ce8f0a9c",
   "metadata": {},
   "source": [
    "### 1.  Data Collection And Preparation"
   ]
  },
  {
   "cell_type": "code",
   "execution_count": 65,
   "id": "e1897482",
   "metadata": {},
   "outputs": [],
   "source": [
    "import pandas as pd\n",
    "import numpy as np\n",
    "import matplotlib.pyplot as plt"
   ]
  },
  {
   "cell_type": "code",
   "execution_count": 66,
   "id": "2f7d2054",
   "metadata": {},
   "outputs": [
    {
     "name": "stdout",
     "output_type": "stream",
     "text": [
      "<class 'pandas.core.frame.DataFrame'>\n",
      "RangeIndex: 999 entries, 0 to 998\n",
      "Data columns (total 13 columns):\n",
      " #   Column                     Non-Null Count  Dtype \n",
      "---  ------                     --------------  ----- \n",
      " 0   Id                         999 non-null    int64 \n",
      " 1   Genetics                   999 non-null    object\n",
      " 2   Hormonal Changes           999 non-null    object\n",
      " 3   Medical Conditions         999 non-null    object\n",
      " 4   Medications & Treatments   999 non-null    object\n",
      " 5   Nutritional Deficiencies   999 non-null    object\n",
      " 6   Stress                     999 non-null    object\n",
      " 7   Age                        999 non-null    int64 \n",
      " 8   Poor Hair Care Habits      999 non-null    object\n",
      " 9   Environmental Factors      999 non-null    object\n",
      " 10  Smoking                    999 non-null    object\n",
      " 11  Weight Loss                999 non-null    object\n",
      " 12  Hair Loss                  999 non-null    int64 \n",
      "dtypes: int64(3), object(10)\n",
      "memory usage: 101.6+ KB\n",
      "None \n",
      "\n",
      "\n",
      "Id                           0\n",
      "Genetics                     0\n",
      "Hormonal Changes             0\n",
      "Medical Conditions           0\n",
      "Medications & Treatments     0\n",
      "Nutritional Deficiencies     0\n",
      "Stress                       0\n",
      "Age                          0\n",
      "Poor Hair Care Habits        0\n",
      "Environmental Factors        0\n",
      "Smoking                      0\n",
      "Weight Loss                  0\n",
      "Hair Loss                    0\n",
      "dtype: int64 \n",
      "\n",
      "\n",
      "Id                             0\n",
      "Genetics                       0\n",
      "Hormonal Changes               0\n",
      "Medical Conditions           110\n",
      "Medications & Treatments       2\n",
      "Nutritional Deficiencies      80\n",
      "Stress                         0\n",
      "Age                            0\n",
      "Poor Hair Care Habits          0\n",
      "Environmental Factors          0\n",
      "Smoking                        0\n",
      "Weight Loss                    0\n",
      "Hair Loss                      0\n",
      "dtype: int64\n"
     ]
    }
   ],
   "source": [
    "# Loading the dataset\n",
    "hair_data = pd.read_csv('Data/Predict Hair Fall.csv')\n",
    "hair_data.reset_index(drop=True, inplace=True)\n",
    "\n",
    "# Checking the structure of the dataset\n",
    "print(hair_data.info(), '\\n\\n')\n",
    "print(hair_data.isnull().sum(), '\\n\\n')\n",
    "\n",
    "# Although it looks like there are no missing values in this dataset, however, the missing data is represented as 'No Data' string\n",
    "hair_data.replace(['No Data', 'No data'], pd.NA , inplace=True)\n",
    "print(hair_data.isnull().sum())"
   ]
  },
  {
   "cell_type": "code",
   "execution_count": 67,
   "id": "d172e11c",
   "metadata": {},
   "outputs": [
    {
     "name": "stdout",
     "output_type": "stream",
     "text": [
      "Index(['Id', 'Genetics', 'Hormonal_Changes', 'Medical_Conditions',\n",
      "       'Medications_and_Treatments', 'Nutritional_Deficiencies', 'Stress',\n",
      "       'Age', 'Poor_Hair_Care_Habits', 'Environmental_Factors', 'Smoking',\n",
      "       'Weight_Loss', 'Hair_Loss'],\n",
      "      dtype='object')\n"
     ]
    }
   ],
   "source": [
    "# Changing the column names and adding underscore for better readability\n",
    "columns = ['Id', 'Genetics', 'Hormonal_Changes', 'Medical_Conditions',\n",
    "       'Medications_and_Treatments', 'Nutritional_Deficiencies', 'Stress',\n",
    "       'Age', 'Poor_Hair_Care_Habits', 'Environmental_Factors', 'Smoking',\n",
    "       'Weight_Loss', 'Hair_Loss']\n",
    "\n",
    "hair_data.columns = columns\n",
    "\n",
    "hair_data.columns = [col.replace(' ', '_') for col in hair_data.columns]\n",
    "print(hair_data.columns)"
   ]
  },
  {
   "cell_type": "code",
   "execution_count": 68,
   "id": "0b411a67",
   "metadata": {},
   "outputs": [
    {
     "name": "stdout",
     "output_type": "stream",
     "text": [
      "['Yes' 'No']\n",
      "['No' 'Yes']\n",
      "['Yes' 'No']\n",
      "['Yes' 'No']\n",
      "['No' 'Yes']\n",
      "['No' 'Yes']\n"
     ]
    }
   ],
   "source": [
    "# Printing the unqiue values in a column to see which columns need encoding\n",
    "print(hair_data['Genetics'].unique())\n",
    "print(hair_data['Hormonal_Changes'].unique())\n",
    "print(hair_data['Poor_Hair_Care_Habits'].unique())\n",
    "print(hair_data['Environmental_Factors'].unique())\n",
    "print(hair_data['Smoking'].unique())\n",
    "print(hair_data['Weight_Loss'].unique())\n",
    "\n"
   ]
  },
  {
   "cell_type": "code",
   "execution_count": 69,
   "id": "efe33fa3",
   "metadata": {},
   "outputs": [
    {
     "name": "stdout",
     "output_type": "stream",
     "text": [
      "       Id Genetics Hormonal_Changes Medical_Conditions  \\\n",
      "0  133992      Yes               No               <NA>   \n",
      "1  148393       No               No             Eczema   \n",
      "2  155074       No               No         Dermatosis   \n",
      "3  118261      Yes              Yes           Ringworm   \n",
      "4  111915       No               No          Psoriasis   \n",
      "\n",
      "  Medications_and_Treatments Nutritional_Deficiencies    Stress  Age  \\\n",
      "0                       <NA>     Magnesium deficiency  Moderate   19   \n",
      "1                Antibiotics     Magnesium deficiency      High   43   \n",
      "2           Antifungal Cream       Protein deficiency  Moderate   26   \n",
      "3                Antibiotics       Biotin Deficiency   Moderate   46   \n",
      "4                   Accutane          Iron deficiency  Moderate   30   \n",
      "\n",
      "  Poor_Hair_Care_Habits Environmental_Factors Smoking Weight_Loss  Hair_Loss  \n",
      "0                   Yes                   Yes      No          No          0  \n",
      "1                   Yes                   Yes      No          No          0  \n",
      "2                   Yes                   Yes      No         Yes          0  \n",
      "3                   Yes                   Yes      No          No          0  \n",
      "4                    No                   Yes     Yes          No          1  \n"
     ]
    }
   ],
   "source": [
    "\n",
    "print(hair_data.head())\n",
    "hair_data['Genetic_Encoding'] = hair_data['Genetics'].map({'Yes': 1, 'No': 0})\n",
    "hair_data['Hormonal_Encoding'] = hair_data['Hormonal_Changes'].map({'Yes': 1, 'No': 0})\n",
    "hair_data['Poor_Hair_Care_Encoding'] = hair_data['Poor_Hair_Care_Habits'].map({'Yes': 1, 'No': 0})\n",
    "hair_data['Environmental_Encoding'] = hair_data['Environmental_Factors'].map({'Yes': 1, 'No': 0})\n",
    "hair_data['Smoking_Encoding'] = hair_data['Smoking'].map({'Yes': 1, 'No': 0})\n",
    "hair_data['Weight_Loss_Encoding'] = hair_data['Weight_Loss'].map({'Yes': 1, 'No': 0})\n"
   ]
  },
  {
   "cell_type": "code",
   "execution_count": 70,
   "id": "85b88499",
   "metadata": {},
   "outputs": [
    {
     "name": "stdout",
     "output_type": "stream",
     "text": [
      "[<NA> 'Eczema' 'Dermatosis' 'Ringworm' 'Psoriasis' 'Alopecia Areata '\n",
      " 'Scalp Infection' 'Seborrheic Dermatitis' 'Dermatitis' 'Thyroid Problems'\n",
      " 'Androgenetic Alopecia'] \n",
      "\n",
      "[<NA> 'Antibiotics' 'Antifungal Cream' 'Accutane' 'Chemotherapy'\n",
      " 'Steroids' 'Rogaine' 'Blood Pressure Medication' 'Immunomodulators'\n",
      " 'Antidepressants ' 'Heart Medication '] \n",
      "\n",
      "['Magnesium deficiency' 'Protein deficiency' 'Biotin Deficiency '\n",
      " 'Iron deficiency' 'Selenium deficiency' 'Omega-3 fatty acids'\n",
      " 'Zinc Deficiency' 'Vitamin A Deficiency' 'Vitamin D Deficiency' <NA>\n",
      " 'Vitamin E deficiency'] \n",
      "\n",
      "['Moderate' 'High' 'Low'] \n",
      "\n"
     ]
    }
   ],
   "source": [
    "print(hair_data['Medical_Conditions'].unique(), '\\n')\n",
    "print(hair_data['Medications_and_Treatments'].unique(), '\\n')\n",
    "print(hair_data['Nutritional_Deficiencies'].unique(), '\\n')\n",
    "print(hair_data['Stress'].unique(), '\\n')\n"
   ]
  },
  {
   "cell_type": "code",
   "execution_count": 71,
   "id": "77c90b1e",
   "metadata": {},
   "outputs": [],
   "source": [
    "# cleaning trailing spaces\n",
    "\n",
    "hair_data['Medical_Conditions'] = hair_data['Medical_Conditions'].str.strip()\n",
    "hair_data['Medications_and_Treatments'] = hair_data['Medications_and_Treatments'].str.strip()\n",
    "hair_data['Nutritional_Deficiencies'] = hair_data['Nutritional_Deficiencies'].str.strip()"
   ]
  },
  {
   "cell_type": "code",
   "execution_count": 72,
   "id": "77c4895c",
   "metadata": {},
   "outputs": [],
   "source": [
    "# Encodin stress levels based on the ordinal nature of the data\n",
    "hair_data['Stress_Level'] = hair_data['Stress'].map({'Low': 0, 'Moderate': 1, 'High': 2})"
   ]
  },
  {
   "cell_type": "code",
   "execution_count": 73,
   "id": "b2c26dea",
   "metadata": {},
   "outputs": [],
   "source": [
    "# Doing one hot encoding for categorical columns with multiple categories\n",
    "\n",
    "# hair_data = pd.get_dummies(hair_data, columns=['Medical_Conditions', 'Medications_and_Treatments', 'Nutritional_Deficiencies'])\n",
    "# print(hair_data.columns)"
   ]
  },
  {
   "cell_type": "markdown",
   "id": "ae1782b4",
   "metadata": {},
   "source": [
    "### 3.  Data Processing (Handling Missing Values)"
   ]
  },
  {
   "cell_type": "code",
   "execution_count": 74,
   "id": "821baa62",
   "metadata": {},
   "outputs": [
    {
     "name": "stdout",
     "output_type": "stream",
     "text": [
      "Id                              0\n",
      "Genetics                        0\n",
      "Hormonal_Changes                0\n",
      "Medical_Conditions            110\n",
      "Medications_and_Treatments      2\n",
      "Nutritional_Deficiencies       80\n",
      "Stress                          0\n",
      "Age                             0\n",
      "Poor_Hair_Care_Habits           0\n",
      "Environmental_Factors           0\n",
      "Smoking                         0\n",
      "Weight_Loss                     0\n",
      "Hair_Loss                       0\n",
      "Genetic_Encoding                0\n",
      "Hormonal_Encoding               0\n",
      "Poor_Hair_Care_Encoding         0\n",
      "Environmental_Encoding          0\n",
      "Smoking_Encoding                0\n",
      "Weight_Loss_Encoding            0\n",
      "Stress_Level                    0\n",
      "dtype: int64\n"
     ]
    }
   ],
   "source": [
    "# Checking again the missing values\n",
    "print(hair_data.isnull().sum())\n"
   ]
  },
  {
   "cell_type": "code",
   "execution_count": 75,
   "id": "a8923076",
   "metadata": {},
   "outputs": [
    {
     "data": {
      "image/png": "[encoded data removed]",
      "text/plain": [
       "<Figure size 1200x600 with 1 Axes>"
      ]
     },
     "metadata": {},
     "output_type": "display_data"
    }
   ],
   "source": [
    "import matplotlib.pyplot as plt\n",
    "\n",
    "# Subset of columns to check\n",
    "df_hair_data_subset = hair_data[[\"Medical_Conditions\", \"Medications_and_Treatments\", \"Nutritional_Deficiencies\"]]\n",
    "\n",
    "# Mask for NaNs and convert to int\n",
    "nan_array = df_hair_data_subset.isna().astype(int).to_numpy()\n",
    "\n",
    "plt.figure(figsize=(12, 6))\n",
    "\n",
    "# Transpose to have features on y-axis, index on x-axis\n",
    "im = plt.imshow(nan_array.T, interpolation='nearest', aspect='auto', cmap='viridis')\n",
    "\n",
    "plt.xlabel('Index')\n",
    "plt.ylabel('Features')\n",
    "plt.title('Missing Values Heatmap')\n",
    "\n",
    "# Set y-axis labels\n",
    "plt.yticks(range(len(df_hair_data_subset.columns)), df_hair_data_subset.columns)\n",
    "\n",
    "plt.grid(True, axis='y', linestyle='--', alpha=0.7)\n",
    "\n",
    "plt.show()\n"
   ]
  },
  {
   "cell_type": "markdown",
   "id": "94d363a1",
   "metadata": {},
   "source": [
    "It is clear from the heatmap that data is MCAR. But for another check, we will do the Little Test just to be sure.\n",
    "Moreover, the missing pattern is the general pattern.\n",
    "\n",
    "1) Because missing values for Medications and Treatments are only two, either we can either drop these rows or use the Simple Imputer from scikit learn. I have decided to drop these rows.\n",
    "2) For the other two columns, Simple Imputer can't work, because it would just assign the most frequent value to the missing value, and I believe doing that for medical conditions and Medications adn Treatments will be very wrong."
   ]
  }
 ],
 "metadata": {
  "kernelspec": {
   "display_name": "base",
   "language": "python",
   "name": "python3"
  },
  "language_info": {
   "codemirror_mode": {
    "name": "ipython",
    "version": 3
   },
   "file_extension": ".py",
   "mimetype": "text/x-python",
   "name": "python",
   "nbconvert_exporter": "python",
   "pygments_lexer": "ipython3",
   "version": "3.11.7"
  }
 },
 "nbformat": 4,
 "nbformat_minor": 5
}
