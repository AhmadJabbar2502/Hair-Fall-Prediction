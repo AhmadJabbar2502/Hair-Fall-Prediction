{
 "cells": [
  {
   "cell_type": "markdown",
   "id": "7fb8511b",
   "metadata": {},
   "source": [
    "<div style=\"background-color:#caeec2; padding:10px; border-radius:6px; color:black;\" >\n",
    "\n",
    "### 1.  Data Collection And Preparation\n",
    "</div>"
   ]
  },
  {
   "cell_type": "code",
   "execution_count": 355,
   "id": "e8fcee91",
   "metadata": {},
   "outputs": [],
   "source": [
    "\n",
    "import pandas as pd\n",
    "import numpy as np\n",
    "import matplotlib.pyplot as plt\n",
    "import statsmodels.api as sm\n",
    "import seaborn as sns\n",
    "from scipy.stats import skew"
   ]
  },
  {
   "cell_type": "markdown",
   "id": "d1934376",
   "metadata": {},
   "source": [
    "<div style=\"background-color:#f0f8ff; padding:10px; border-radius:6px; color:black;\" >\n",
    "Here, I am loading the dataset, and doing some initial cleaning.\n",
    "\n",
    "\n",
    "</div>\n"
   ]
  },
  {
   "cell_type": "code",
   "execution_count": 356,
   "id": "4534c177",
   "metadata": {},
   "outputs": [
    {
     "name": "stdout",
     "output_type": "stream",
     "text": [
      "<class 'pandas.core.frame.DataFrame'>\n",
      "RangeIndex: 400 entries, 0 to 399\n",
      "Data columns (total 14 columns):\n",
      " #   Column                  Non-Null Count  Dtype  \n",
      "---  ------                  --------------  -----  \n",
      " 0   date                    400 non-null    object \n",
      " 1   hair_loss               400 non-null    object \n",
      " 2   stay_up_late            400 non-null    int64  \n",
      " 3   pressure_level          400 non-null    object \n",
      " 4   coffee_consumed         400 non-null    int64  \n",
      " 5   brain_working_duration  400 non-null    int64  \n",
      " 6   school_assesssment      95 non-null     object \n",
      " 7   stress_level            400 non-null    object \n",
      " 8   shampoo_brand           400 non-null    object \n",
      " 9   swimming                400 non-null    object \n",
      " 10  hair_washing            400 non-null    object \n",
      " 11  hair_grease             396 non-null    float64\n",
      " 12  dandruff                111 non-null    object \n",
      " 13  libido                  400 non-null    int64  \n",
      "dtypes: float64(1), int64(4), object(9)\n",
      "memory usage: 43.9+ KB\n",
      "None\n"
     ]
    }
   ],
   "source": [
    "# Loading the dataset\n",
    "luke_hair_data = pd.read_csv('Data/luke_hair_loss_documentation.csv')\n",
    "\n",
    "# Checking the structure of the dataset\n",
    "print(luke_hair_data.info())"
   ]
  },
  {
   "cell_type": "code",
   "execution_count": 357,
   "id": "bb457d39",
   "metadata": {},
   "outputs": [
    {
     "data": {
      "text/html": [
       "<div>\n",
       "<style scoped>\n",
       "    .dataframe tbody tr th:only-of-type {\n",
       "        vertical-align: middle;\n",
       "    }\n",
       "\n",
       "    .dataframe tbody tr th {\n",
       "        vertical-align: top;\n",
       "    }\n",
       "\n",
       "    .dataframe thead th {\n",
       "        text-align: right;\n",
       "    }\n",
       "</style>\n",
       "<table border=\"1\" class=\"dataframe\">\n",
       "  <thead>\n",
       "    <tr style=\"text-align: right;\">\n",
       "      <th></th>\n",
       "      <th>date</th>\n",
       "      <th>hair_loss</th>\n",
       "      <th>stay_up_late</th>\n",
       "      <th>pressure_level</th>\n",
       "      <th>coffee_consumed</th>\n",
       "      <th>brain_working_duration</th>\n",
       "      <th>school_assesssment</th>\n",
       "      <th>stress_level</th>\n",
       "      <th>shampoo_brand</th>\n",
       "      <th>swimming</th>\n",
       "      <th>hair_washing</th>\n",
       "      <th>hair_grease</th>\n",
       "      <th>dandruff</th>\n",
       "      <th>libido</th>\n",
       "    </tr>\n",
       "  </thead>\n",
       "  <tbody>\n",
       "    <tr>\n",
       "      <th>0</th>\n",
       "      <td>1/01/2021</td>\n",
       "      <td>Few</td>\n",
       "      <td>2</td>\n",
       "      <td>Low</td>\n",
       "      <td>0</td>\n",
       "      <td>1</td>\n",
       "      <td>NaN</td>\n",
       "      <td>Low</td>\n",
       "      <td>Pantene</td>\n",
       "      <td>No</td>\n",
       "      <td>Y</td>\n",
       "      <td>3.0</td>\n",
       "      <td>NaN</td>\n",
       "      <td>1</td>\n",
       "    </tr>\n",
       "    <tr>\n",
       "      <th>1</th>\n",
       "      <td>2/01/2021</td>\n",
       "      <td>Few</td>\n",
       "      <td>0</td>\n",
       "      <td>Low</td>\n",
       "      <td>0</td>\n",
       "      <td>3</td>\n",
       "      <td>NaN</td>\n",
       "      <td>Low</td>\n",
       "      <td>Pantene</td>\n",
       "      <td>No</td>\n",
       "      <td>N</td>\n",
       "      <td>1.0</td>\n",
       "      <td>NaN</td>\n",
       "      <td>1</td>\n",
       "    </tr>\n",
       "    <tr>\n",
       "      <th>2</th>\n",
       "      <td>3/01/2021</td>\n",
       "      <td>Medium</td>\n",
       "      <td>3</td>\n",
       "      <td>Low</td>\n",
       "      <td>1</td>\n",
       "      <td>0</td>\n",
       "      <td>NaN</td>\n",
       "      <td>Low</td>\n",
       "      <td>Pantene</td>\n",
       "      <td>Yes</td>\n",
       "      <td>Y</td>\n",
       "      <td>2.0</td>\n",
       "      <td>NaN</td>\n",
       "      <td>2</td>\n",
       "    </tr>\n",
       "    <tr>\n",
       "      <th>3</th>\n",
       "      <td>4/01/2021</td>\n",
       "      <td>Few</td>\n",
       "      <td>2</td>\n",
       "      <td>Low</td>\n",
       "      <td>0</td>\n",
       "      <td>1</td>\n",
       "      <td>NaN</td>\n",
       "      <td>Low</td>\n",
       "      <td>Pantene</td>\n",
       "      <td>No</td>\n",
       "      <td>N</td>\n",
       "      <td>3.0</td>\n",
       "      <td>NaN</td>\n",
       "      <td>3</td>\n",
       "    </tr>\n",
       "    <tr>\n",
       "      <th>4</th>\n",
       "      <td>5/01/2021</td>\n",
       "      <td>Few</td>\n",
       "      <td>2</td>\n",
       "      <td>Low</td>\n",
       "      <td>0</td>\n",
       "      <td>1</td>\n",
       "      <td>NaN</td>\n",
       "      <td>Low</td>\n",
       "      <td>Pantene</td>\n",
       "      <td>No</td>\n",
       "      <td>Y</td>\n",
       "      <td>1.0</td>\n",
       "      <td>NaN</td>\n",
       "      <td>2</td>\n",
       "    </tr>\n",
       "  </tbody>\n",
       "</table>\n",
       "</div>"
      ],
      "text/plain": [
       "       date  hair_loss  stay_up_late pressure_level  coffee_consumed  \\\n",
       "0  1/01/2021       Few             2            Low                0   \n",
       "1  2/01/2021       Few             0            Low                0   \n",
       "2  3/01/2021    Medium             3            Low                1   \n",
       "3  4/01/2021       Few             2            Low                0   \n",
       "4  5/01/2021       Few             2            Low                0   \n",
       "\n",
       "   brain_working_duration school_assesssment stress_level shampoo_brand  \\\n",
       "0                       1                NaN          Low       Pantene   \n",
       "1                       3                NaN          Low       Pantene   \n",
       "2                       0                NaN          Low       Pantene   \n",
       "3                       1                NaN          Low       Pantene   \n",
       "4                       1                NaN          Low       Pantene   \n",
       "\n",
       "  swimming hair_washing  hair_grease dandruff  libido  \n",
       "0       No            Y          3.0      NaN       1  \n",
       "1       No            N          1.0      NaN       1  \n",
       "2      Yes            Y          2.0      NaN       2  \n",
       "3       No            N          3.0      NaN       3  \n",
       "4       No            Y          1.0      NaN       2  "
      ]
     },
     "execution_count": 357,
     "metadata": {},
     "output_type": "execute_result"
    }
   ],
   "source": [
    "luke_hair_data.head()"
   ]
  },
  {
   "cell_type": "markdown",
   "id": "d604b518",
   "metadata": {},
   "source": [
    "<div style=\"background-color:#f0f8ff; padding:10px; border-radius:6px; color:black;\" >\n",
    "The dataset contains no missing values. Entries that were labeled as missing for ‘school assessment’ and ‘dandruff’ were updated to ‘No Assessment’ and ‘None,’ respectively.\n",
    "\n",
    "\n",
    "</div>\n"
   ]
  },
  {
   "cell_type": "code",
   "execution_count": 358,
   "id": "0116a629",
   "metadata": {},
   "outputs": [
    {
     "name": "stdout",
     "output_type": "stream",
     "text": [
      "Index(['Date', 'Hair_Loss', 'Stay_Up_Late', 'Pressure_Level',\n",
      "       'Coffee_Consumed', 'Brain_Working_Duration', 'School_Assesssment',\n",
      "       'Stress_Level', 'Shampoo_Brand', 'Swimming', 'Hair_Washing',\n",
      "       'Hair_Grease', 'Dandruff', 'Libido'],\n",
      "      dtype='object')\n"
     ]
    }
   ],
   "source": [
    "luke_hair_data.columns = luke_hair_data.columns.str.strip()\n",
    "luke_hair_data.columns = [col.replace('_', ' ').title().replace(' ', '_') for col in luke_hair_data.columns]\n",
    "print(luke_hair_data.columns)"
   ]
  },
  {
   "cell_type": "code",
   "execution_count": 359,
   "id": "42f0c19b",
   "metadata": {},
   "outputs": [
    {
     "name": "stdout",
     "output_type": "stream",
     "text": [
      "Date                        0\n",
      "Hair_Loss                   0\n",
      "Stay_Up_Late                0\n",
      "Pressure_Level              0\n",
      "Coffee_Consumed             0\n",
      "Brain_Working_Duration      0\n",
      "School_Assesssment        305\n",
      "Stress_Level                0\n",
      "Shampoo_Brand               0\n",
      "Swimming                    0\n",
      "Hair_Washing                0\n",
      "Hair_Grease                 4\n",
      "Dandruff                  289\n",
      "Libido                      0\n",
      "dtype: int64\n"
     ]
    }
   ],
   "source": [
    "# Saving as csv\n",
    "luke_hair_data.to_csv('Data/Luke_hair_loss_documentation Raw.csv', index=False)\n",
    "print(luke_hair_data.isnull().sum())"
   ]
  },
  {
   "cell_type": "code",
   "execution_count": 360,
   "id": "a1b22836",
   "metadata": {},
   "outputs": [
    {
     "name": "stdout",
     "output_type": "stream",
     "text": [
      "Date                      0\n",
      "Hair_Loss                 0\n",
      "Stay_Up_Late              0\n",
      "Pressure_Level            0\n",
      "Coffee_Consumed           0\n",
      "Brain_Working_Duration    0\n",
      "School_Assesssment        0\n",
      "Stress_Level              0\n",
      "Shampoo_Brand             0\n",
      "Swimming                  0\n",
      "Hair_Washing              0\n",
      "Hair_Grease               0\n",
      "Dandruff                  0\n",
      "Libido                    0\n",
      "dtype: int64\n"
     ]
    }
   ],
   "source": [
    "luke_hair_data['School_Assesssment'].replace(pd.NA, \"No assessment\" , inplace=True)\n",
    "luke_hair_data['Dandruff'].replace(pd.NA, \"None\" , inplace=True)\n",
    "luke_hair_data['Hair_Grease'].fillna(0, inplace=True)\n",
    "print(luke_hair_data.isnull().sum())"
   ]
  },
  {
   "cell_type": "code",
   "execution_count": 361,
   "id": "893bcc83",
   "metadata": {},
   "outputs": [],
   "source": [
    "# Standardize categorical values\n",
    "\n",
    "# Hair_Washing: Y/N → Yes/No\n",
    "luke_hair_data['Hair_Washing'] = luke_hair_data['Hair_Washing'].replace({'Y': 'Yes', 'N': 'No'})\n",
    "\n",
    "# School_Assessment: abbreviations → full names\n",
    "luke_hair_data['School_Assesssment'] = luke_hair_data['School_Assesssment'].replace({\n",
    "    'Individual ass': 'Individual Assessment',\n",
    "    'Team ass': 'Team Assessment'\n",
    "})\n"
   ]
  },
  {
   "cell_type": "markdown",
   "id": "98f11aaf",
   "metadata": {},
   "source": [
    "<div style=\"background-color:#f0f8ff; padding:10px; border-radius:6px; color:black;\" >\n",
    "Now, I will provide the statistcal summaries of the key variables.\n",
    "\n",
    "\n",
    "</div>\n"
   ]
  },
  {
   "cell_type": "code",
   "execution_count": 362,
   "id": "b3bbdd81",
   "metadata": {},
   "outputs": [
    {
     "data": {
      "text/html": [
       "<div>\n",
       "<style scoped>\n",
       "    .dataframe tbody tr th:only-of-type {\n",
       "        vertical-align: middle;\n",
       "    }\n",
       "\n",
       "    .dataframe tbody tr th {\n",
       "        vertical-align: top;\n",
       "    }\n",
       "\n",
       "    .dataframe thead th {\n",
       "        text-align: right;\n",
       "    }\n",
       "</style>\n",
       "<table border=\"1\" class=\"dataframe\">\n",
       "  <thead>\n",
       "    <tr style=\"text-align: right;\">\n",
       "      <th></th>\n",
       "      <th>Stay_Up_Late</th>\n",
       "      <th>Coffee_Consumed</th>\n",
       "      <th>Brain_Working_Duration</th>\n",
       "      <th>Hair_Grease</th>\n",
       "      <th>Libido</th>\n",
       "    </tr>\n",
       "  </thead>\n",
       "  <tbody>\n",
       "    <tr>\n",
       "      <th>count</th>\n",
       "      <td>400.000000</td>\n",
       "      <td>400.000000</td>\n",
       "      <td>400.000000</td>\n",
       "      <td>400.00000</td>\n",
       "      <td>400.000000</td>\n",
       "    </tr>\n",
       "    <tr>\n",
       "      <th>mean</th>\n",
       "      <td>1.910000</td>\n",
       "      <td>1.162500</td>\n",
       "      <td>3.970000</td>\n",
       "      <td>2.54000</td>\n",
       "      <td>2.787500</td>\n",
       "    </tr>\n",
       "    <tr>\n",
       "      <th>std</th>\n",
       "      <td>1.611954</td>\n",
       "      <td>1.978859</td>\n",
       "      <td>4.215272</td>\n",
       "      <td>1.29522</td>\n",
       "      <td>1.822264</td>\n",
       "    </tr>\n",
       "    <tr>\n",
       "      <th>min</th>\n",
       "      <td>0.000000</td>\n",
       "      <td>0.000000</td>\n",
       "      <td>0.000000</td>\n",
       "      <td>0.00000</td>\n",
       "      <td>0.000000</td>\n",
       "    </tr>\n",
       "    <tr>\n",
       "      <th>25%</th>\n",
       "      <td>1.000000</td>\n",
       "      <td>0.000000</td>\n",
       "      <td>1.000000</td>\n",
       "      <td>2.00000</td>\n",
       "      <td>1.000000</td>\n",
       "    </tr>\n",
       "    <tr>\n",
       "      <th>50%</th>\n",
       "      <td>2.000000</td>\n",
       "      <td>0.000000</td>\n",
       "      <td>2.000000</td>\n",
       "      <td>2.00000</td>\n",
       "      <td>3.000000</td>\n",
       "    </tr>\n",
       "    <tr>\n",
       "      <th>75%</th>\n",
       "      <td>3.000000</td>\n",
       "      <td>1.000000</td>\n",
       "      <td>7.000000</td>\n",
       "      <td>4.00000</td>\n",
       "      <td>5.000000</td>\n",
       "    </tr>\n",
       "    <tr>\n",
       "      <th>max</th>\n",
       "      <td>8.000000</td>\n",
       "      <td>10.000000</td>\n",
       "      <td>18.000000</td>\n",
       "      <td>5.00000</td>\n",
       "      <td>5.000000</td>\n",
       "    </tr>\n",
       "  </tbody>\n",
       "</table>\n",
       "</div>"
      ],
      "text/plain": [
       "       Stay_Up_Late  Coffee_Consumed  Brain_Working_Duration  Hair_Grease  \\\n",
       "count    400.000000       400.000000              400.000000    400.00000   \n",
       "mean       1.910000         1.162500                3.970000      2.54000   \n",
       "std        1.611954         1.978859                4.215272      1.29522   \n",
       "min        0.000000         0.000000                0.000000      0.00000   \n",
       "25%        1.000000         0.000000                1.000000      2.00000   \n",
       "50%        2.000000         0.000000                2.000000      2.00000   \n",
       "75%        3.000000         1.000000                7.000000      4.00000   \n",
       "max        8.000000        10.000000               18.000000      5.00000   \n",
       "\n",
       "           Libido  \n",
       "count  400.000000  \n",
       "mean     2.787500  \n",
       "std      1.822264  \n",
       "min      0.000000  \n",
       "25%      1.000000  \n",
       "50%      3.000000  \n",
       "75%      5.000000  \n",
       "max      5.000000  "
      ]
     },
     "execution_count": 362,
     "metadata": {},
     "output_type": "execute_result"
    }
   ],
   "source": [
    "luke_hair_data.describe()"
   ]
  },
  {
   "cell_type": "markdown",
   "id": "87d0aaec",
   "metadata": {},
   "source": [
    "<div style=\"background-color:#ADD8E6; padding:10px; border-radius:6px; color:black;\" >\n",
    "\n",
    "#### Stay Up Late\n",
    "- The dataset contains 400 entries.  \n",
    "- On average, the individual scored 1.91 for staying up late, with a standard deviation of 1.61, indicating moderate variability in sleeping habits.  \n",
    "- Values range from 0 to 8, showing that the individual rarely stays up late on some days and stays up late frequently on others.  \n",
    "\n",
    "#### Coffee Consumed\n",
    "- The mean coffee consumption is 1.16 units with a standard deviation of 1.98, suggesting high variability in intake.  \n",
    "- Most days (50th percentile) have no coffee consumption, while on some days up to 10 units were consumed.  \n",
    "\n",
    "#### Brain Working Duration\n",
    "- The average brain working duration is 3.97 hours, with a standard deviation of 4.22, indicating considerable variation in daily work duration.  \n",
    "- Values range from 0 to 18 hours, with a median of 2 hours.  \n",
    "\n",
    "#### Hair Grease\n",
    "- Hair greasing habits have a mean of 2.57 and a standard deviation of 1.28.  \n",
    "- Values range from 1 to 5, showing that the individual used moderate levels of hair grease on most days.  \n",
    "\n",
    "#### Libido\n",
    "- The average libido score is 2.79 with a standard deviation of 1.82.  \n",
    "- Scores range from 0 to 5, with a median of 3, indicating generally moderate levels across the recorded days.  \n",
    "\n",
    "\n",
    "</div>"
   ]
  },
  {
   "cell_type": "markdown",
   "id": "acb2c913",
   "metadata": {},
   "source": [
    "<div style=\"background-color:#f0f8ff; padding:10px; border-radius:6px; color:black;\" >\n",
    "Now, I will be encoding some of the features.\n",
    "\n",
    "\n",
    "</div>\n"
   ]
  },
  {
   "cell_type": "code",
   "execution_count": 363,
   "id": "bfbe7a62",
   "metadata": {},
   "outputs": [
    {
     "name": "stdout",
     "output_type": "stream",
     "text": [
      "['Few' 'Medium' 'Many' 'A lot']\n",
      "['Low' 'Medium' 'High' 'Very High']\n",
      "['No assessment' 'Individual Assessment' 'Team Assessment'\n",
      " 'Final exam revision' 'Final exam']\n",
      "['Low' 'Medium' 'High' 'Very High']\n",
      "['No' 'Yes']\n",
      "['Yes' 'No']\n",
      "[3. 1. 2. 4. 5. 0.]\n",
      "['None' 'Few' 'Many']\n",
      "[1 2 3 4 5 0]\n"
     ]
    }
   ],
   "source": [
    "print(luke_hair_data['Hair_Loss'].unique())\n",
    "print(luke_hair_data['Pressure_Level'].unique())\n",
    "print(luke_hair_data['School_Assesssment'].unique())\n",
    "print(luke_hair_data['Stress_Level'].unique())\n",
    "print(luke_hair_data['Swimming'].unique())\n",
    "print(luke_hair_data['Hair_Washing'].unique())\n",
    "print(luke_hair_data['Hair_Grease'].unique())\n",
    "print(luke_hair_data['Dandruff'].unique())\n",
    "print(luke_hair_data['Libido'].unique())\n",
    "\n"
   ]
  },
  {
   "cell_type": "code",
   "execution_count": 364,
   "id": "562c30c4",
   "metadata": {},
   "outputs": [],
   "source": [
    "luke_hair_data['Hair_Loss_Encoding'] = luke_hair_data['Hair_Loss'].map({'Few': 1, 'Medium': 2, 'Many': 3, 'A lot': 4 })\n",
    "luke_hair_data['Pressure_Level_Encoding'] = luke_hair_data['Pressure_Level'].map({'Low': 1, 'Medium': 2, 'High': 3, 'Very High': 4 })\n",
    "luke_hair_data['Stress_Level_Encoding'] = luke_hair_data['Stress_Level'].map({'Low': 1, 'Medium': 2, 'High': 3, 'Very High': 4 })\n",
    "luke_hair_data['Swimming_Encoding'] = luke_hair_data['Swimming'].map({'Yes': 1, 'No': 0})\n",
    "luke_hair_data['Hair_Washing_Encoding'] = luke_hair_data['Hair_Washing'].map({'Yes': 1, 'No': 0})\n",
    "luke_hair_data['Dandruff_Encoding'] = luke_hair_data['Dandruff'].map({'None': 0, 'Few': 1, 'Many': 2})\n"
   ]
  },
  {
   "cell_type": "markdown",
   "id": "516c2674",
   "metadata": {},
   "source": [
    "<div style=\"background-color:#f0f8ff; padding:10px; border-radius:6px; color:black;\" >\n",
    "Seeing the summary of the dataset, ther are some outliers in the data, especially in 'coffee_consumed' and 'brain_working_duration'. These outliers could potentially skew the analysis and may need to be addressed in the data cleaning process.\n",
    "\n",
    "\n",
    "</div>\n"
   ]
  },
  {
   "cell_type": "markdown",
   "id": "085b2b36",
   "metadata": {},
   "source": [
    "<div style=\"background-color:#f0f8ff; padding:10px; border-radius:6px; color:black;\" >\n",
    "Creating a correlation matrix\n",
    "\n",
    "\n",
    "</div>\n"
   ]
  },
  {
   "cell_type": "code",
   "execution_count": 365,
   "id": "e3899da3",
   "metadata": {},
   "outputs": [
    {
     "data": {
      "image/png": "[encoded data removed]",
      "text/plain": [
       "<Figure size 1200x800 with 2 Axes>"
      ]
     },
     "metadata": {},
     "output_type": "display_data"
    }
   ],
   "source": [
    "# Correlation matrix heatmap\n",
    "plt.figure(figsize=(12, 8))\n",
    "numerical_columns = luke_hair_data.select_dtypes(include=[np.number]).columns\n",
    "correlation_matrix = luke_hair_data[numerical_columns].corr()\n",
    "sns.heatmap(correlation_matrix, annot=True, fmt=\".2f\", cmap='coolwarm')\n",
    "plt.title('Correlation Matrix Heatmap')\n",
    "plt.show()"
   ]
  },
  {
   "cell_type": "code",
   "execution_count": 366,
   "id": "bba7010f",
   "metadata": {},
   "outputs": [
    {
     "name": "stdout",
     "output_type": "stream",
     "text": [
      "        Date Hair_Loss  Stay_Up_Late Pressure_Level  Coffee_Consumed  \\\n",
      "0  1/01/2021       Few             2            Low                0   \n",
      "1  2/01/2021       Few             0            Low                0   \n",
      "2  3/01/2021    Medium             3            Low                1   \n",
      "3  4/01/2021       Few             2            Low                0   \n",
      "4  5/01/2021       Few             2            Low                0   \n",
      "\n",
      "   Brain_Working_Duration School_Assesssment Stress_Level Shampoo_Brand  \\\n",
      "0                       1      No assessment          Low       Pantene   \n",
      "1                       3      No assessment          Low       Pantene   \n",
      "2                       0      No assessment          Low       Pantene   \n",
      "3                       1      No assessment          Low       Pantene   \n",
      "4                       1      No assessment          Low       Pantene   \n",
      "\n",
      "  Swimming Hair_Washing  Hair_Grease Dandruff  Libido  Hair_Loss_Encoding  \\\n",
      "0       No          Yes          3.0     None       1                   1   \n",
      "1       No           No          1.0     None       1                   1   \n",
      "2      Yes          Yes          2.0     None       2                   2   \n",
      "3       No           No          3.0     None       3                   1   \n",
      "4       No          Yes          1.0     None       2                   1   \n",
      "\n",
      "   Pressure_Level_Encoding  Stress_Level_Encoding  Swimming_Encoding  \\\n",
      "0                        1                      1                  0   \n",
      "1                        1                      1                  0   \n",
      "2                        1                      1                  1   \n",
      "3                        1                      1                  0   \n",
      "4                        1                      1                  0   \n",
      "\n",
      "   Hair_Washing_Encoding  Dandruff_Encoding  \n",
      "0                      1                  0  \n",
      "1                      0                  0  \n",
      "2                      1                  0  \n",
      "3                      0                  0  \n",
      "4                      1                  0  \n"
     ]
    }
   ],
   "source": [
    "print(luke_hair_data.head())"
   ]
  },
  {
   "cell_type": "code",
   "execution_count": 367,
   "id": "441a04be",
   "metadata": {},
   "outputs": [
    {
     "data": {
      "image/png": "[encoded data removed]",
      "text/plain": [
       "<Figure size 800x600 with 1 Axes>"
      ]
     },
     "metadata": {},
     "output_type": "display_data"
    }
   ],
   "source": [
    "import matplotlib.pyplot as plt\n",
    "import seaborn as sns\n",
    "\n",
    "# optional: sort by date if you want\n",
    "df = luke_hair_data.sort_values('Date')\n",
    "\n",
    "plt.figure(figsize=(8,6))\n",
    "sns.scatterplot(\n",
    "    x='Brain_Working_Duration', \n",
    "    y='Hair_Loss_Encoding', \n",
    "    data=df, \n",
    "    color='teal',\n",
    "    s=60\n",
    ")\n",
    "\n",
    "sns.regplot(x='Brain_Working_Duration', y='Hair_Loss_Encoding', data=df, scatter=False, lowess=True, color='red')\n",
    "\n",
    "\n",
    "plt.title('Hair Loss vs Brain Working Duration')\n",
    "plt.xlabel('Brain Working Duration (hours)')\n",
    "plt.ylabel('Hair Loss (Encoded)')\n",
    "plt.grid(alpha=0.3)\n",
    "plt.tight_layout()\n",
    "plt.show()\n"
   ]
  },
  {
   "cell_type": "code",
   "execution_count": 368,
   "id": "21af76a5",
   "metadata": {},
   "outputs": [
    {
     "data": {
      "text/plain": [
       "<Axes: xlabel='Brain_Working_Duration', ylabel='Hair_Loss_Encoding'>"
      ]
     },
     "execution_count": 368,
     "metadata": {},
     "output_type": "execute_result"
    },
    {
     "data": {
      "image/png": "[encoded data removed]",
      "text/plain": [
       "<Figure size 640x480 with 1 Axes>"
      ]
     },
     "metadata": {},
     "output_type": "display_data"
    }
   ],
   "source": [
    "sns.scatterplot(\n",
    "    # x='Brain_Working_Duration', \n",
    "    x='Brain_Working_Duration', \n",
    "    y='Hair_Loss_Encoding', \n",
    "    data=df,\n",
    "    size='Coffee_Consumed',        # optional: color by another categorical variable\n",
    "    hue='Stress_Level',    # optional: size of points by another variable\n",
    "    palette='viridis',\n",
    "    alpha=0.7\n",
    ")\n"
   ]
  },
  {
   "cell_type": "code",
   "execution_count": 369,
   "id": "2ba91d21",
   "metadata": {},
   "outputs": [
    {
     "data": {
      "text/plain": [
       "<Axes: xlabel='Hair_Loss', ylabel='Coffee_Consumed'>"
      ]
     },
     "execution_count": 369,
     "metadata": {},
     "output_type": "execute_result"
    },
    {
     "data": {
      "image/png": "[encoded data removed]",
      "text/plain": [
       "<Figure size 640x480 with 1 Axes>"
      ]
     },
     "metadata": {},
     "output_type": "display_data"
    }
   ],
   "source": [
    "sns.boxplot(x='Hair_Loss', y='Coffee_Consumed', data=df)"
   ]
  },
  {
   "cell_type": "code",
   "execution_count": 370,
   "id": "da257eb1",
   "metadata": {},
   "outputs": [
    {
     "data": {
      "text/plain": [
       "<Axes: xlabel='Stress_Level', ylabel='count'>"
      ]
     },
     "execution_count": 370,
     "metadata": {},
     "output_type": "execute_result"
    },
    {
     "data": {
      "image/png": "[encoded data removed]",
      "text/plain": [
       "<Figure size 640x480 with 1 Axes>"
      ]
     },
     "metadata": {},
     "output_type": "display_data"
    }
   ],
   "source": [
    "sns.countplot(x='Stress_Level', hue='Hair_Loss', data=df)\n",
    "# sns.violinplot(x='Pressure_Level', y='Hair_Loss_Encoding', data=df)\n"
   ]
  },
  {
   "cell_type": "code",
   "execution_count": 371,
   "id": "ff102c56",
   "metadata": {},
   "outputs": [
    {
     "data": {
      "image/png": "[encoded data removed]",
      "text/plain": [
       "<Figure size 1000x500 with 1 Axes>"
      ]
     },
     "metadata": {},
     "output_type": "display_data"
    }
   ],
   "source": [
    "import pandas as pd\n",
    "import matplotlib.pyplot as plt\n",
    "\n",
    "# convert Date column to datetime\n",
    "luke_hair_data['Date'] = pd.to_datetime(luke_hair_data['Date'], format='%d/%m/%Y')\n",
    "\n",
    "df = luke_hair_data.sort_values('Date')\n",
    "\n",
    "# apply rolling average to smooth the Hair_Loss_Encoding values\n",
    "df['Smoothed_Hair_Loss'] = df['Hair_Loss_Encoding'].rolling(window=5, center=True, min_periods=1).mean()\n",
    "\n",
    "plt.figure(figsize=(10,5))\n",
    "plt.plot(df['Date'], df['Smoothed_Hair_Loss'], color='mediumseagreen', linewidth=2)\n",
    "plt.title('Smoothed Hair Loss Trend Over Time')\n",
    "plt.xlabel('Date')\n",
    "plt.ylabel('Hair Loss (Smoothed)')\n",
    "plt.grid(alpha=0.3)\n",
    "plt.tight_layout()\n",
    "plt.show()\n"
   ]
  },
  {
   "cell_type": "code",
   "execution_count": 372,
   "id": "79f77d8e",
   "metadata": {},
   "outputs": [
    {
     "data": {
      "text/plain": [
       "<Axes: xlabel='Hair_Loss', ylabel='count'>"
      ]
     },
     "execution_count": 372,
     "metadata": {},
     "output_type": "execute_result"
    },
    {
     "data": {
      "image/png": "[encoded data removed]",
      "text/plain": [
       "<Figure size 640x480 with 1 Axes>"
      ]
     },
     "metadata": {},
     "output_type": "display_data"
    }
   ],
   "source": [
    "sns.countplot(x='Hair_Loss', data=df, palette='pastel')\n",
    "# In about the datasets page"
   ]
  },
  {
   "cell_type": "code",
   "execution_count": 373,
   "id": "aeeb2c47",
   "metadata": {},
   "outputs": [
    {
     "data": {
      "text/plain": [
       "<Axes: xlabel='Stress_Level', ylabel='Hair_Loss_Encoding'>"
      ]
     },
     "execution_count": 373,
     "metadata": {},
     "output_type": "execute_result"
    },
    {
     "data": {
      "image/png": "[encoded data removed]",
      "text/plain": [
       "<Figure size 640x480 with 1 Axes>"
      ]
     },
     "metadata": {},
     "output_type": "display_data"
    }
   ],
   "source": [
    "sns.barplot(x='Stress_Level', y='Hair_Loss_Encoding', data=df, palette='coolwarm')\n",
    "# sns.barplot(x='Coffee_Consumed', y='Hair_Loss_Encoding', data=df, palette='coolwarm')\n"
   ]
  },
  {
   "cell_type": "code",
   "execution_count": 374,
   "id": "109c7549",
   "metadata": {},
   "outputs": [
    {
     "name": "stderr",
     "output_type": "stream",
     "text": [
      "/opt/anaconda3/lib/python3.11/site-packages/_plotly_utils/basevalidators.py:106: FutureWarning:\n",
      "\n",
      "The behavior of DatetimeProperties.to_pydatetime is deprecated, in a future version this will return a Series containing python datetime objects instead of an ndarray. To retain the old behavior, call `np.array` on the result\n",
      "\n"
     ]
    },
    {
     "data": {
      "application/vnd.plotly.v1+json": {
       "config": {
        "plotlyServerURL": "https://plot.ly"
       },
       "data": [
        {
         "customdata": [
          [
           "Few",
           1,
           "Low"
          ],
          [
           "Few",
           3,
           "Low"
          ],
          [
           "Medium",
           0,
           "Low"
          ],
          [
           "Few",
           1,
           "Low"
          ],
          [
           "Few",
           1,
           "Low"
          ],
          [
           "Few",
           3,
           "Low"
          ],
          [
           "Medium",
           1,
           "Low"
          ],
          [
           "Few",
           1,
           "Low"
          ],
          [
           "Few",
           2,
           "Low"
          ],
          [
           "Medium",
           2,
           "Low"
          ],
          [
           "Medium",
           2,
           "Low"
          ],
          [
           "Medium",
           1,
           "Low"
          ],
          [
           "Medium",
           2,
           "Low"
          ],
          [
           "Medium",
           1,
           "Low"
          ],
          [
           "Medium",
           1,
           "Low"
          ],
          [
           "Few",
           1,
           "Low"
          ],
          [
           "Few",
           0,
           "Low"
          ],
          [
           "Few",
           1,
           "Low"
          ],
          [
           "Few",
           2,
           "Low"
          ],
          [
           "Few",
           0,
           "Low"
          ],
          [
           "Few",
           2,
           "Low"
          ],
          [
           "Few",
           2,
           "Low"
          ],
          [
           "Few",
           1,
           "Low"
          ],
          [
           "Few",
           2,
           "Low"
          ],
          [
           "Few",
           0,
           "Low"
          ],
          [
           "Few",
           2,
           "Low"
          ],
          [
           "Medium",
           2,
           "Low"
          ],
          [
           "Medium",
           0,
           "Low"
          ],
          [
           "Medium",
           1,
           "Low"
          ],
          [
           "Medium",
           1,
           "Low"
          ],
          [
           "Medium",
           1,
           "Low"
          ],
          [
           "Few",
           0,
           "Low"
          ],
          [
           "Few",
           3,
           "Low"
          ],
          [
           "Medium",
           1,
           "Low"
          ],
          [
           "Medium",
           1,
           "Low"
          ],
          [
           "Few",
           2,
           "Low"
          ],
          [
           "Few",
           2,
           "Low"
          ],
          [
           "Few",
           3,
           "Low"
          ],
          [
           "Medium",
           2,
           "Low"
          ],
          [
           "Medium",
           2,
           "Low"
          ],
          [
           "Medium",
           3,
           "Low"
          ],
          [
           "Medium",
           0,
           "Low"
          ],
          [
           "Medium",
           2,
           "Low"
          ],
          [
           "Few",
           2,
           "Low"
          ],
          [
           "Medium",
           2,
           "Low"
          ],
          [
           "Medium",
           1,
           "Low"
          ],
          [
           "Medium",
           3,
           "Low"
          ],
          [
           "Few",
           3,
           "Low"
          ],
          [
           "Few",
           1,
           "Low"
          ],
          [
           "Few",
           1,
           "Low"
          ],
          [
           "Few",
           2,
           "Low"
          ],
          [
           "Few",
           1,
           "Low"
          ],
          [
           "Medium",
           1,
           "Low"
          ],
          [
           "Medium",
           0,
           "Low"
          ],
          [
           "Medium",
           1,
           "Low"
          ],
          [
           "Medium",
           3,
           "Low"
          ],
          [
           "Medium",
           0,
           "Low"
          ],
          [
           "Few",
           2,
           "Low"
          ],
          [
           "Few",
           3,
           "Low"
          ],
          [
           "Few",
           0,
           "Low"
          ],
          [
           "Few",
           1,
           "Low"
          ],
          [
           "Few",
           2,
           "Low"
          ],
          [
           "Medium",
           2,
           "Low"
          ],
          [
           "Few",
           2,
           "Low"
          ],
          [
           "Medium",
           2,
           "Low"
          ],
          [
           "Few",
           2,
           "Low"
          ],
          [
           "Few",
           6,
           "Low"
          ],
          [
           "Few",
           0,
           "Low"
          ],
          [
           "Medium",
           7,
           "Low"
          ],
          [
           "Medium",
           1,
           "Low"
          ],
          [
           "Medium",
           5,
           "Low"
          ],
          [
           "Medium",
           0,
           "Low"
          ],
          [
           "Few",
           1,
           "Low"
          ],
          [
           "Few",
           6,
           "Low"
          ],
          [
           "Few",
           2,
           "Low"
          ],
          [
           "Few",
           7,
           "Low"
          ],
          [
           "Few",
           1,
           "Low"
          ],
          [
           "Medium",
           5,
           "Low"
          ],
          [
           "Few",
           2,
           "Low"
          ],
          [
           "Few",
           1,
           "Medium"
          ],
          [
           "Medium",
           8,
           "Medium"
          ],
          [
           "Medium",
           8,
           "Medium"
          ],
          [
           "Medium",
           9,
           "Medium"
          ],
          [
           "Medium",
           9,
           "Medium"
          ],
          [
           "Few",
           10,
           "Medium"
          ],
          [
           "Medium",
           10,
           "Medium"
          ],
          [
           "Medium",
           2,
           "Low"
          ],
          [
           "Medium",
           6,
           "Low"
          ],
          [
           "Few",
           0,
           "Low"
          ],
          [
           "Few",
           7,
           "Low"
          ],
          [
           "Few",
           2,
           "Low"
          ],
          [
           "Few",
           8,
           "Low"
          ],
          [
           "Medium",
           8,
           "Low"
          ],
          [
           "Medium",
           1,
           "Low"
          ],
          [
           "Medium",
           6,
           "Low"
          ],
          [
           "Medium",
           3,
           "Medium"
          ],
          [
           "Medium",
           7,
           "High"
          ],
          [
           "Medium",
           7,
           "High"
          ],
          [
           "Many",
           7,
           "High"
          ],
          [
           "Many",
           8,
           "High"
          ],
          [
           "Many",
           7,
           "High"
          ],
          [
           "Many",
           7,
           "High"
          ],
          [
           "Many",
           10,
           "High"
          ],
          [
           "Many",
           7,
           "High"
          ],
          [
           "Many",
           2,
           "High"
          ],
          [
           "Many",
           12,
           "Very High"
          ],
          [
           "A lot",
           13,
           "Very High"
          ],
          [
           "A lot",
           13,
           "Very High"
          ],
          [
           "A lot",
           13,
           "Very High"
          ],
          [
           "A lot",
           16,
           "Very High"
          ],
          [
           "A lot",
           18,
           "Very High"
          ],
          [
           "A lot",
           0,
           "High"
          ],
          [
           "A lot",
           0,
           "High"
          ],
          [
           "Many",
           10,
           "High"
          ],
          [
           "Medium",
           10,
           "High"
          ],
          [
           "Medium",
           10,
           "High"
          ],
          [
           "Medium",
           10,
           "High"
          ],
          [
           "Many",
           18,
           "Very High"
          ],
          [
           "Medium",
           6,
           "Very High"
          ],
          [
           "Medium",
           6,
           "Very High"
          ],
          [
           "Many",
           6,
           "Very High"
          ],
          [
           "Many",
           6,
           "Very High"
          ],
          [
           "Many",
           18,
           "Very High"
          ],
          [
           "Many",
           16,
           "Very High"
          ],
          [
           "Many",
           7,
           "Medium"
          ],
          [
           "Medium",
           3,
           "Medium"
          ],
          [
           "Medium",
           5,
           "Medium"
          ],
          [
           "Medium",
           2,
           "Medium"
          ],
          [
           "Medium",
           1,
           "Medium"
          ],
          [
           "Medium",
           6,
           "Low"
          ],
          [
           "Few",
           3,
           "Low"
          ],
          [
           "Few",
           7,
           "Low"
          ],
          [
           "Few",
           1,
           "Low"
          ],
          [
           "Few",
           5,
           "Low"
          ],
          [
           "Medium",
           2,
           "Low"
          ],
          [
           "Few",
           1,
           "Low"
          ],
          [
           "Few",
           2,
           "Low"
          ],
          [
           "Few",
           2,
           "Medium"
          ],
          [
           "Few",
           2,
           "Medium"
          ],
          [
           "Few",
           2,
           "Medium"
          ],
          [
           "Medium",
           1,
           "Medium"
          ],
          [
           "Few",
           0,
           "Medium"
          ],
          [
           "Few",
           3,
           "Medium"
          ],
          [
           "Few",
           2,
           "Medium"
          ],
          [
           "Medium",
           1,
           "Medium"
          ],
          [
           "Medium",
           0,
           "Medium"
          ],
          [
           "Medium",
           1,
           "Medium"
          ],
          [
           "Few",
           1,
           "Low"
          ],
          [
           "Few",
           2,
           "Low"
          ],
          [
           "Few",
           1,
           "Low"
          ],
          [
           "Few",
           0,
           "Low"
          ],
          [
           "Few",
           1,
           "Medium"
          ],
          [
           "Few",
           3,
           "Medium"
          ],
          [
           "Medium",
           2,
           "Medium"
          ],
          [
           "Few",
           2,
           "Medium"
          ],
          [
           "Few",
           2,
           "Medium"
          ],
          [
           "Medium",
           0,
           "Low"
          ],
          [
           "Few",
           2,
           "Low"
          ],
          [
           "Few",
           0,
           "Low"
          ],
          [
           "Few",
           1,
           "Low"
          ],
          [
           "Few",
           2,
           "Low"
          ],
          [
           "Medium",
           2,
           "Low"
          ],
          [
           "Medium",
           2,
           "Low"
          ],
          [
           "Medium",
           1,
           "Low"
          ],
          [
           "Medium",
           2,
           "Low"
          ],
          [
           "Medium",
           1,
           "Low"
          ],
          [
           "Few",
           1,
           "Low"
          ],
          [
           "Few",
           0,
           "Low"
          ],
          [
           "Few",
           2,
           "Low"
          ],
          [
           "Medium",
           2,
           "Low"
          ],
          [
           "Few",
           0,
           "Low"
          ],
          [
           "Few",
           2,
           "Low"
          ],
          [
           "Few",
           2,
           "Low"
          ],
          [
           "Few",
           0,
           "Low"
          ],
          [
           "Few",
           0,
           "Low"
          ],
          [
           "Few",
           6,
           "Low"
          ],
          [
           "Few",
           2,
           "Low"
          ],
          [
           "Medium",
           7,
           "Low"
          ],
          [
           "Medium",
           0,
           "Low"
          ],
          [
           "Medium",
           5,
           "Low"
          ],
          [
           "Medium",
           1,
           "Low"
          ],
          [
           "Few",
           1,
           "Low"
          ],
          [
           "Few",
           6,
           "Low"
          ],
          [
           "Few",
           3,
           "Low"
          ],
          [
           "Medium",
           7,
           "Low"
          ],
          [
           "Few",
           1,
           "Low"
          ],
          [
           "Few",
           5,
           "Low"
          ],
          [
           "Medium",
           2,
           "Low"
          ],
          [
           "Medium",
           1,
           "Low"
          ],
          [
           "Medium",
           8,
           "Medium"
          ],
          [
           "Medium",
           8,
           "Medium"
          ],
          [
           "Medium",
           9,
           "Medium"
          ],
          [
           "Medium",
           9,
           "Medium"
          ],
          [
           "Few",
           10,
           "Medium"
          ],
          [
           "A lot",
           10,
           "Medium"
          ],
          [
           "Medium",
           2,
           "Low"
          ],
          [
           "Medium",
           6,
           "Low"
          ],
          [
           "Few",
           1,
           "Low"
          ],
          [
           "Few",
           7,
           "Low"
          ],
          [
           "Few",
           1,
           "Low"
          ],
          [
           "Few",
           8,
           "Low"
          ],
          [
           "Medium",
           8,
           "Low"
          ],
          [
           "Medium",
           1,
           "Low"
          ],
          [
           "Medium",
           6,
           "Low"
          ],
          [
           "Medium",
           3,
           "Medium"
          ],
          [
           "Medium",
           7,
           "High"
          ],
          [
           "Medium",
           7,
           "High"
          ],
          [
           "Many",
           7,
           "High"
          ],
          [
           "Many",
           8,
           "High"
          ],
          [
           "Many",
           7,
           "High"
          ],
          [
           "A lot",
           7,
           "High"
          ],
          [
           "A lot",
           10,
           "High"
          ],
          [
           "A lot",
           7,
           "High"
          ],
          [
           "Many",
           0,
           "High"
          ],
          [
           "Many",
           12,
           "Very High"
          ],
          [
           "A lot",
           13,
           "Very High"
          ],
          [
           "A lot",
           13,
           "Very High"
          ],
          [
           "A lot",
           13,
           "Very High"
          ],
          [
           "A lot",
           16,
           "Very High"
          ],
          [
           "A lot",
           18,
           "Very High"
          ],
          [
           "A lot",
           0,
           "High"
          ],
          [
           "Many",
           0,
           "High"
          ],
          [
           "Many",
           10,
           "High"
          ],
          [
           "Medium",
           10,
           "High"
          ],
          [
           "Medium",
           10,
           "High"
          ],
          [
           "Medium",
           10,
           "High"
          ],
          [
           "Medium",
           11,
           "Very High"
          ],
          [
           "Medium",
           6,
           "Very High"
          ],
          [
           "Many",
           18,
           "Very High"
          ],
          [
           "Many",
           6,
           "Very High"
          ],
          [
           "Many",
           6,
           "Very High"
          ],
          [
           "Many",
           18,
           "Very High"
          ],
          [
           "Medium",
           5,
           "Medium"
          ],
          [
           "Medium",
           2,
           "Medium"
          ],
          [
           "Medium",
           2,
           "Medium"
          ],
          [
           "Medium",
           6,
           "Low"
          ],
          [
           "Few",
           0,
           "Low"
          ],
          [
           "Few",
           7,
           "Low"
          ],
          [
           "Medium",
           2,
           "Low"
          ],
          [
           "Few",
           5,
           "Low"
          ],
          [
           "Few",
           0,
           "Low"
          ],
          [
           "Few",
           2,
           "Low"
          ],
          [
           "Medium",
           2,
           "Medium"
          ],
          [
           "Medium",
           0,
           "Medium"
          ],
          [
           "Medium",
           6,
           "Low"
          ],
          [
           "Few",
           3,
           "Low"
          ],
          [
           "Few",
           7,
           "Low"
          ],
          [
           "Few",
           3,
           "Low"
          ],
          [
           "Few",
           5,
           "Low"
          ],
          [
           "Few",
           1,
           "Low"
          ],
          [
           "Few",
           2,
           "Low"
          ],
          [
           "Few",
           2,
           "Low"
          ],
          [
           "Medium",
           1,
           "Medium"
          ],
          [
           "Medium",
           3,
           "Medium"
          ],
          [
           "Few",
           0,
           "Medium"
          ],
          [
           "Few",
           2,
           "Medium"
          ],
          [
           "Few",
           1,
           "Medium"
          ],
          [
           "Few",
           0,
           "Medium"
          ],
          [
           "Few",
           1,
           "Medium"
          ],
          [
           "Medium",
           3,
           "Medium"
          ],
          [
           "Medium",
           0,
           "Medium"
          ],
          [
           "Medium",
           2,
           "Low"
          ],
          [
           "Medium",
           0,
           "Low"
          ],
          [
           "Medium",
           0,
           "Low"
          ],
          [
           "Medium",
           2,
           "Low"
          ],
          [
           "Medium",
           3,
           "Low"
          ],
          [
           "Medium",
           0,
           "Low"
          ],
          [
           "Medium",
           2,
           "Low"
          ],
          [
           "Few",
           1,
           "Low"
          ],
          [
           "Few",
           2,
           "Low"
          ],
          [
           "Few",
           2,
           "Low"
          ],
          [
           "Few",
           0,
           "Low"
          ],
          [
           "Few",
           1,
           "Low"
          ],
          [
           "Few",
           2,
           "Low"
          ],
          [
           "Medium",
           3,
           "Low"
          ],
          [
           "Few",
           1,
           "Low"
          ],
          [
           "Few",
           3,
           "Low"
          ],
          [
           "Few",
           6,
           "Low"
          ],
          [
           "Few",
           2,
           "Low"
          ],
          [
           "Medium",
           7,
           "Low"
          ],
          [
           "Medium",
           0,
           "Low"
          ],
          [
           "Medium",
           5,
           "Low"
          ],
          [
           "Medium",
           2,
           "Low"
          ],
          [
           "Few",
           0,
           "Low"
          ],
          [
           "Few",
           6,
           "Low"
          ],
          [
           "Few",
           0,
           "Low"
          ],
          [
           "Few",
           7,
           "Low"
          ],
          [
           "Few",
           2,
           "Low"
          ],
          [
           "Medium",
           5,
           "Low"
          ],
          [
           "Few",
           3,
           "Low"
          ],
          [
           "Few",
           0,
           "Low"
          ],
          [
           "Medium",
           8,
           "Medium"
          ],
          [
           "Medium",
           8,
           "Medium"
          ],
          [
           "Medium",
           9,
           "Medium"
          ],
          [
           "Medium",
           9,
           "Medium"
          ],
          [
           "Few",
           10,
           "Medium"
          ],
          [
           "Medium",
           10,
           "Medium"
          ],
          [
           "Medium",
           3,
           "Low"
          ],
          [
           "Medium",
           6,
           "Low"
          ],
          [
           "Few",
           2,
           "Low"
          ],
          [
           "Few",
           7,
           "Low"
          ],
          [
           "Few",
           3,
           "Low"
          ],
          [
           "Few",
           8,
           "Low"
          ],
          [
           "Medium",
           8,
           "Low"
          ],
          [
           "Medium",
           1,
           "Low"
          ],
          [
           "Medium",
           6,
           "Low"
          ],
          [
           "Medium",
           0,
           "Medium"
          ],
          [
           "Medium",
           7,
           "High"
          ],
          [
           "Medium",
           7,
           "High"
          ],
          [
           "Many",
           7,
           "High"
          ],
          [
           "Many",
           8,
           "High"
          ],
          [
           "Many",
           7,
           "High"
          ],
          [
           "Many",
           7,
           "High"
          ],
          [
           "Many",
           10,
           "High"
          ],
          [
           "Many",
           7,
           "High"
          ],
          [
           "Many",
           1,
           "High"
          ],
          [
           "Many",
           12,
           "Very High"
          ],
          [
           "Many",
           13,
           "Very High"
          ],
          [
           "A lot",
           13,
           "Very High"
          ],
          [
           "A lot",
           13,
           "Very High"
          ],
          [
           "A lot",
           16,
           "Very High"
          ],
          [
           "A lot",
           18,
           "Very High"
          ],
          [
           "A lot",
           0,
           "High"
          ],
          [
           "Many",
           0,
           "High"
          ],
          [
           "Many",
           10,
           "High"
          ],
          [
           "Medium",
           10,
           "High"
          ],
          [
           "Medium",
           10,
           "High"
          ],
          [
           "Medium",
           10,
           "High"
          ],
          [
           "Medium",
           11,
           "Very High"
          ],
          [
           "Medium",
           6,
           "Very High"
          ],
          [
           "Many",
           18,
           "Very High"
          ],
          [
           "Many",
           6,
           "Very High"
          ],
          [
           "Many",
           6,
           "Very High"
          ],
          [
           "Many",
           18,
           "Very High"
          ],
          [
           "Many",
           16,
           "Very High"
          ],
          [
           "Few",
           0,
           "Low"
          ],
          [
           "Few",
           0,
           "Low"
          ],
          [
           "Few",
           1,
           "Low"
          ],
          [
           "Few",
           1,
           "Low"
          ],
          [
           "Few",
           2,
           "Low"
          ],
          [
           "Medium",
           2,
           "Low"
          ],
          [
           "Few",
           1,
           "Low"
          ],
          [
           "Few",
           3,
           "Low"
          ],
          [
           "Few",
           2,
           "Low"
          ],
          [
           "Medium",
           3,
           "Low"
          ],
          [
           "Medium",
           2,
           "Low"
          ],
          [
           "Medium",
           0,
           "Low"
          ],
          [
           "Medium",
           2,
           "Low"
          ],
          [
           "Medium",
           3,
           "Low"
          ],
          [
           "Medium",
           2,
           "Low"
          ],
          [
           "Medium",
           0,
           "Low"
          ],
          [
           "Few",
           1,
           "Low"
          ],
          [
           "Few",
           3,
           "Low"
          ],
          [
           "Few",
           2,
           "Low"
          ],
          [
           "Few",
           0,
           "Low"
          ],
          [
           "Few",
           1,
           "Low"
          ],
          [
           "Few",
           0,
           "Low"
          ],
          [
           "Medium",
           3,
           "Low"
          ],
          [
           "Few",
           1,
           "Low"
          ],
          [
           "Few",
           0,
           "Low"
          ],
          [
           "Medium",
           1,
           "Low"
          ],
          [
           "Medium",
           1,
           "Low"
          ],
          [
           "Medium",
           1,
           "Low"
          ],
          [
           "Medium",
           0,
           "Low"
          ],
          [
           "Medium",
           2,
           "Low"
          ],
          [
           "Few",
           2,
           "Low"
          ],
          [
           "Few",
           0,
           "Low"
          ],
          [
           "Few",
           1,
           "Low"
          ],
          [
           "Few",
           0,
           "Low"
          ],
          [
           "Few",
           2,
           "Low"
          ],
          [
           "Medium",
           1,
           "Low"
          ],
          [
           "Medium",
           2,
           "Low"
          ],
          [
           "Few",
           2,
           "Low"
          ],
          [
           "Few",
           1,
           "Low"
          ],
          [
           "Medium",
           0,
           "Low"
          ],
          [
           "Medium",
           1,
           "Low"
          ],
          [
           "Medium",
           3,
           "Low"
          ],
          [
           "Medium",
           0,
           "Low"
          ],
          [
           "Medium",
           3,
           "Low"
          ],
          [
           "Medium",
           2,
           "Low"
          ],
          [
           "Few",
           1,
           "Low"
          ],
          [
           "Few",
           1,
           "Low"
          ],
          [
           "Few",
           0,
           "Low"
          ],
          [
           "Few",
           3,
           "Low"
          ],
          [
           "Few",
           2,
           "Low"
          ],
          [
           "Few",
           2,
           "Low"
          ],
          [
           "Few",
           2,
           "Low"
          ],
          [
           "Few",
           3,
           "Low"
          ],
          [
           "Few",
           1,
           "Low"
          ],
          [
           "Few",
           0,
           "Low"
          ],
          [
           "Few",
           2,
           "Low"
          ],
          [
           "Medium",
           0,
           "Low"
          ],
          [
           "Medium",
           2,
           "Low"
          ],
          [
           "Medium",
           0,
           "Low"
          ],
          [
           "Medium",
           2,
           "Low"
          ],
          [
           "Medium",
           2,
           "Low"
          ],
          [
           "Few",
           3,
           "Low"
          ],
          [
           "Medium",
           1,
           "Low"
          ],
          [
           "Medium",
           1,
           "Low"
          ],
          [
           "Few",
           2,
           "Low"
          ]
         ],
         "hovertemplate": "Date=%{x}<br>Hair_Loss_Encoding=%{y}<br>Hair_Loss=%{customdata[0]}<br>Brain_Working_Duration=%{customdata[1]}<br>Stress_Level=%{customdata[2]}<br>Coffee_Consumed_scaled=%{marker.color}<extra></extra>",
         "legendgroup": "",
         "marker": {
          "color": [
           0,
           0,
           0.1,
           0,
           0,
           0,
           0.1,
           0,
           0,
           0.1,
           0.1,
           0.1,
           0.1,
           0.1,
           0.1,
           0,
           0,
           0,
           0,
           0,
           0,
           0,
           0,
           0,
           0,
           0,
           0.1,
           0.1,
           0.1,
           0.1,
           0.1,
           0,
           0,
           0.1,
           0.1,
           0,
           0,
           0,
           0.1,
           0.1,
           0.1,
           0.1,
           0.1,
           0,
           0.1,
           0.1,
           0.1,
           0,
           0,
           0,
           0,
           0,
           0.1,
           0.1,
           0.1,
           0.1,
           0.1,
           0,
           0,
           0,
           0,
           0,
           0.1,
           0,
           0.1,
           0,
           0,
           0,
           0.1,
           0.1,
           0.1,
           0.1,
           0,
           0,
           0,
           0,
           0,
           0.1,
           0,
           0,
           0.1,
           0.2,
           0.3,
           0.3,
           0.3,
           0.2,
           0,
           0,
           0,
           0,
           0,
           0.3,
           0.3,
           0,
           0,
           0,
           0.3,
           0.4,
           0.4,
           0.4,
           0.4,
           0.3,
           0.5,
           0,
           0,
           0.5,
           0.6,
           0.6,
           0.6,
           0.7,
           0.8,
           0,
           0,
           0.2,
           0.2,
           0.2,
           0.2,
           0.9,
           0.2,
           0.1,
           0.2,
           0.2,
           1,
           0.9,
           0,
           0,
           0,
           0,
           0,
           0,
           0,
           0,
           0,
           0,
           0,
           0,
           0,
           0,
           0,
           0,
           0,
           0,
           0,
           0,
           0,
           0,
           0,
           0,
           0,
           0,
           0,
           0,
           0,
           0,
           0,
           0,
           0,
           0,
           0,
           0,
           0,
           0.1,
           0.1,
           0.1,
           0.1,
           0.1,
           0,
           0,
           0,
           0.1,
           0,
           0,
           0,
           0,
           0,
           0,
           0,
           0.1,
           0.1,
           0.1,
           0.1,
           0,
           0,
           0,
           0.1,
           0,
           0,
           0.1,
           0.1,
           0.1,
           0.2,
           0.3,
           0.3,
           0.3,
           0.2,
           0,
           0,
           0,
           0,
           0,
           0.3,
           0.3,
           0,
           0,
           0,
           0.3,
           0.4,
           0.4,
           0.4,
           0.4,
           0.3,
           0.5,
           0,
           0,
           0.5,
           0.6,
           0.6,
           0.6,
           0.7,
           0.8,
           0,
           0,
           0.2,
           0.2,
           0.2,
           0.2,
           0.2,
           0.1,
           0.9,
           0.2,
           0.2,
           1,
           0,
           0,
           0,
           0,
           0,
           0,
           0,
           0,
           0,
           0,
           0,
           0,
           0,
           0,
           0,
           0,
           0,
           0,
           0,
           0,
           0,
           0,
           0,
           0,
           0,
           0,
           0,
           0,
           0,
           0.1,
           0.1,
           0.1,
           0.1,
           0.1,
           0.1,
           0.1,
           0,
           0,
           0,
           0,
           0,
           0,
           0.1,
           0,
           0,
           0,
           0,
           0.1,
           0.1,
           0.1,
           0.1,
           0,
           0,
           0,
           0,
           0,
           0.1,
           0,
           0,
           0.1,
           0.2,
           0.3,
           0.3,
           0.3,
           0.2,
           0,
           0,
           0,
           0,
           0,
           0.3,
           0.3,
           0,
           0,
           0,
           0.3,
           0.4,
           0.4,
           0.4,
           0.4,
           0.3,
           0.5,
           0,
           0,
           0.5,
           0.6,
           0.6,
           0.6,
           0.7,
           0.8,
           0,
           0,
           0.2,
           0.2,
           0.2,
           0.2,
           0.2,
           0.1,
           0.9,
           0.2,
           0.2,
           1,
           0.9,
           0,
           0,
           0,
           0,
           0,
           0.1,
           0,
           0,
           0,
           0.1,
           0.1,
           0.1,
           0.1,
           0.1,
           0.1,
           0.1,
           0,
           0,
           0,
           0,
           0,
           0,
           0.1,
           0,
           0,
           0.1,
           0.1,
           0.1,
           0.1,
           0.1,
           0,
           0,
           0,
           0,
           0,
           0.1,
           0.1,
           0,
           0,
           0.1,
           0.1,
           0.1,
           0.1,
           0.1,
           0.1,
           0,
           0,
           0,
           0,
           0,
           0,
           0,
           0,
           0,
           0,
           0,
           0.1,
           0.1,
           0.1,
           0.1,
           0.1,
           0,
           0.1,
           0.1,
           0
          ],
          "coloraxis": "coloraxis",
          "symbol": "circle"
         },
         "mode": "markers",
         "name": "",
         "orientation": "v",
         "showlegend": false,
         "type": "scatter",
         "x": [
          "2021-01-01T00:00:00",
          "2021-01-02T00:00:00",
          "2021-01-03T00:00:00",
          "2021-01-04T00:00:00",
          "2021-01-05T00:00:00",
          "2021-01-06T00:00:00",
          "2021-01-07T00:00:00",
          "2021-01-08T00:00:00",
          "2021-01-09T00:00:00",
          "2021-01-10T00:00:00",
          "2021-01-11T00:00:00",
          "2021-01-12T00:00:00",
          "2021-01-13T00:00:00",
          "2021-01-14T00:00:00",
          "2021-01-15T00:00:00",
          "2021-01-16T00:00:00",
          "2021-01-17T00:00:00",
          "2021-01-18T00:00:00",
          "2021-01-19T00:00:00",
          "2021-01-20T00:00:00",
          "2021-01-21T00:00:00",
          "2021-01-22T00:00:00",
          "2021-01-23T00:00:00",
          "2021-01-24T00:00:00",
          "2021-01-25T00:00:00",
          "2021-01-26T00:00:00",
          "2021-01-27T00:00:00",
          "2021-01-28T00:00:00",
          "2021-01-29T00:00:00",
          "2021-01-30T00:00:00",
          "2021-01-31T00:00:00",
          "2021-02-01T00:00:00",
          "2021-02-02T00:00:00",
          "2021-02-03T00:00:00",
          "2021-02-04T00:00:00",
          "2021-02-05T00:00:00",
          "2021-02-06T00:00:00",
          "2021-02-07T00:00:00",
          "2021-02-08T00:00:00",
          "2021-02-09T00:00:00",
          "2021-02-10T00:00:00",
          "2021-02-11T00:00:00",
          "2021-02-12T00:00:00",
          "2021-02-13T00:00:00",
          "2021-02-14T00:00:00",
          "2021-02-15T00:00:00",
          "2021-02-16T00:00:00",
          "2021-02-17T00:00:00",
          "2021-02-18T00:00:00",
          "2021-02-19T00:00:00",
          "2021-02-20T00:00:00",
          "2021-02-21T00:00:00",
          "2021-02-22T00:00:00",
          "2021-02-23T00:00:00",
          "2021-02-24T00:00:00",
          "2021-02-25T00:00:00",
          "2021-02-26T00:00:00",
          "2021-02-27T00:00:00",
          "2021-02-28T00:00:00",
          "2021-03-01T00:00:00",
          "2021-03-02T00:00:00",
          "2021-03-03T00:00:00",
          "2021-03-04T00:00:00",
          "2021-03-05T00:00:00",
          "2021-03-06T00:00:00",
          "2021-03-07T00:00:00",
          "2021-03-08T00:00:00",
          "2021-03-09T00:00:00",
          "2021-03-10T00:00:00",
          "2021-03-11T00:00:00",
          "2021-03-12T00:00:00",
          "2021-03-13T00:00:00",
          "2021-03-14T00:00:00",
          "2021-03-15T00:00:00",
          "2021-03-16T00:00:00",
          "2021-03-17T00:00:00",
          "2021-03-18T00:00:00",
          "2021-03-19T00:00:00",
          "2021-03-20T00:00:00",
          "2021-03-21T00:00:00",
          "2021-03-22T00:00:00",
          "2021-03-23T00:00:00",
          "2021-03-24T00:00:00",
          "2021-03-25T00:00:00",
          "2021-03-26T00:00:00",
          "2021-03-27T00:00:00",
          "2021-03-28T00:00:00",
          "2021-03-29T00:00:00",
          "2021-03-30T00:00:00",
          "2021-03-31T00:00:00",
          "2021-04-01T00:00:00",
          "2021-04-02T00:00:00",
          "2021-04-03T00:00:00",
          "2021-04-04T00:00:00",
          "2021-04-05T00:00:00",
          "2021-04-06T00:00:00",
          "2021-04-07T00:00:00",
          "2021-04-08T00:00:00",
          "2021-04-09T00:00:00",
          "2021-04-10T00:00:00",
          "2021-04-11T00:00:00",
          "2021-04-12T00:00:00",
          "2021-04-13T00:00:00",
          "2021-04-14T00:00:00",
          "2021-04-15T00:00:00",
          "2021-04-16T00:00:00",
          "2021-04-17T00:00:00",
          "2021-04-18T00:00:00",
          "2021-04-19T00:00:00",
          "2021-04-20T00:00:00",
          "2021-04-21T00:00:00",
          "2021-04-22T00:00:00",
          "2021-04-23T00:00:00",
          "2021-04-24T00:00:00",
          "2021-04-25T00:00:00",
          "2021-04-26T00:00:00",
          "2021-04-27T00:00:00",
          "2021-04-28T00:00:00",
          "2021-04-29T00:00:00",
          "2021-04-30T00:00:00",
          "2021-05-01T00:00:00",
          "2021-05-02T00:00:00",
          "2021-05-03T00:00:00",
          "2021-05-04T00:00:00",
          "2021-05-05T00:00:00",
          "2021-05-06T00:00:00",
          "2021-05-07T00:00:00",
          "2021-05-08T00:00:00",
          "2021-05-09T00:00:00",
          "2021-05-10T00:00:00",
          "2021-05-11T00:00:00",
          "2021-05-12T00:00:00",
          "2021-05-13T00:00:00",
          "2021-05-14T00:00:00",
          "2021-05-15T00:00:00",
          "2021-05-16T00:00:00",
          "2021-05-17T00:00:00",
          "2021-05-18T00:00:00",
          "2021-05-19T00:00:00",
          "2021-05-20T00:00:00",
          "2021-05-21T00:00:00",
          "2021-05-22T00:00:00",
          "2021-05-23T00:00:00",
          "2021-05-24T00:00:00",
          "2021-05-25T00:00:00",
          "2021-05-26T00:00:00",
          "2021-05-27T00:00:00",
          "2021-05-28T00:00:00",
          "2021-05-29T00:00:00",
          "2021-05-30T00:00:00",
          "2021-05-31T00:00:00",
          "2021-06-01T00:00:00",
          "2021-06-02T00:00:00",
          "2021-06-03T00:00:00",
          "2021-06-04T00:00:00",
          "2021-06-05T00:00:00",
          "2021-06-06T00:00:00",
          "2021-06-07T00:00:00",
          "2021-06-08T00:00:00",
          "2021-06-09T00:00:00",
          "2021-06-10T00:00:00",
          "2021-06-11T00:00:00",
          "2021-06-12T00:00:00",
          "2021-06-13T00:00:00",
          "2021-06-14T00:00:00",
          "2021-06-15T00:00:00",
          "2021-06-16T00:00:00",
          "2021-06-17T00:00:00",
          "2021-06-18T00:00:00",
          "2021-06-19T00:00:00",
          "2021-06-20T00:00:00",
          "2021-06-21T00:00:00",
          "2021-06-22T00:00:00",
          "2021-06-23T00:00:00",
          "2021-06-24T00:00:00",
          "2021-06-25T00:00:00",
          "2021-06-26T00:00:00",
          "2021-06-27T00:00:00",
          "2021-06-28T00:00:00",
          "2021-06-29T00:00:00",
          "2021-06-30T00:00:00",
          "2021-07-01T00:00:00",
          "2021-07-02T00:00:00",
          "2021-07-03T00:00:00",
          "2021-07-04T00:00:00",
          "2021-07-05T00:00:00",
          "2021-07-06T00:00:00",
          "2021-07-07T00:00:00",
          "2021-07-08T00:00:00",
          "2021-07-09T00:00:00",
          "2021-07-10T00:00:00",
          "2021-07-11T00:00:00",
          "2021-07-12T00:00:00",
          "2021-07-13T00:00:00",
          "2021-07-14T00:00:00",
          "2021-07-15T00:00:00",
          "2021-07-16T00:00:00",
          "2021-07-17T00:00:00",
          "2021-07-18T00:00:00",
          "2021-07-19T00:00:00",
          "2021-07-20T00:00:00",
          "2021-07-21T00:00:00",
          "2021-07-22T00:00:00",
          "2021-07-23T00:00:00",
          "2021-07-24T00:00:00",
          "2021-07-25T00:00:00",
          "2021-07-26T00:00:00",
          "2021-07-27T00:00:00",
          "2021-07-28T00:00:00",
          "2021-07-29T00:00:00",
          "2021-07-30T00:00:00",
          "2021-07-31T00:00:00",
          "2021-08-01T00:00:00",
          "2021-08-02T00:00:00",
          "2021-08-03T00:00:00",
          "2021-08-04T00:00:00",
          "2021-08-05T00:00:00",
          "2021-08-06T00:00:00",
          "2021-08-07T00:00:00",
          "2021-08-08T00:00:00",
          "2021-08-09T00:00:00",
          "2021-08-10T00:00:00",
          "2021-08-11T00:00:00",
          "2021-08-12T00:00:00",
          "2021-08-13T00:00:00",
          "2021-08-14T00:00:00",
          "2021-08-15T00:00:00",
          "2021-08-16T00:00:00",
          "2021-08-17T00:00:00",
          "2021-08-18T00:00:00",
          "2021-08-19T00:00:00",
          "2021-08-20T00:00:00",
          "2021-08-21T00:00:00",
          "2021-08-22T00:00:00",
          "2021-08-23T00:00:00",
          "2021-08-24T00:00:00",
          "2021-08-25T00:00:00",
          "2021-08-26T00:00:00",
          "2021-08-27T00:00:00",
          "2021-08-28T00:00:00",
          "2021-08-29T00:00:00",
          "2021-08-30T00:00:00",
          "2021-08-31T00:00:00",
          "2021-09-01T00:00:00",
          "2021-09-02T00:00:00",
          "2021-09-03T00:00:00",
          "2021-09-04T00:00:00",
          "2021-09-05T00:00:00",
          "2021-09-06T00:00:00",
          "2021-09-07T00:00:00",
          "2021-09-08T00:00:00",
          "2021-09-09T00:00:00",
          "2021-09-10T00:00:00",
          "2021-09-11T00:00:00",
          "2021-09-12T00:00:00",
          "2021-09-13T00:00:00",
          "2021-09-14T00:00:00",
          "2021-09-15T00:00:00",
          "2021-09-16T00:00:00",
          "2021-09-17T00:00:00",
          "2021-09-18T00:00:00",
          "2021-09-19T00:00:00",
          "2021-09-20T00:00:00",
          "2021-09-21T00:00:00",
          "2021-09-22T00:00:00",
          "2021-09-23T00:00:00",
          "2021-09-24T00:00:00",
          "2021-09-25T00:00:00",
          "2021-09-26T00:00:00",
          "2021-09-27T00:00:00",
          "2021-09-28T00:00:00",
          "2021-09-29T00:00:00",
          "2021-09-30T00:00:00",
          "2021-10-01T00:00:00",
          "2021-10-02T00:00:00",
          "2021-10-03T00:00:00",
          "2021-10-04T00:00:00",
          "2021-10-05T00:00:00",
          "2021-10-06T00:00:00",
          "2021-10-07T00:00:00",
          "2021-10-08T00:00:00",
          "2021-10-09T00:00:00",
          "2021-10-10T00:00:00",
          "2021-10-11T00:00:00",
          "2021-10-12T00:00:00",
          "2021-10-13T00:00:00",
          "2021-10-14T00:00:00",
          "2021-10-15T00:00:00",
          "2021-10-16T00:00:00",
          "2021-10-17T00:00:00",
          "2021-10-18T00:00:00",
          "2021-10-19T00:00:00",
          "2021-10-20T00:00:00",
          "2021-10-21T00:00:00",
          "2021-10-22T00:00:00",
          "2021-10-23T00:00:00",
          "2021-10-24T00:00:00",
          "2021-10-25T00:00:00",
          "2021-10-26T00:00:00",
          "2021-10-27T00:00:00",
          "2021-10-28T00:00:00",
          "2021-10-29T00:00:00",
          "2021-10-30T00:00:00",
          "2021-10-31T00:00:00",
          "2021-11-01T00:00:00",
          "2021-11-02T00:00:00",
          "2021-11-03T00:00:00",
          "2021-11-04T00:00:00",
          "2021-11-05T00:00:00",
          "2021-11-06T00:00:00",
          "2021-11-07T00:00:00",
          "2021-11-08T00:00:00",
          "2021-11-09T00:00:00",
          "2021-11-10T00:00:00",
          "2021-11-11T00:00:00",
          "2021-11-12T00:00:00",
          "2021-11-13T00:00:00",
          "2021-11-14T00:00:00",
          "2021-11-15T00:00:00",
          "2021-11-16T00:00:00",
          "2021-11-17T00:00:00",
          "2021-11-18T00:00:00",
          "2021-11-19T00:00:00",
          "2021-11-20T00:00:00",
          "2021-11-21T00:00:00",
          "2021-11-22T00:00:00",
          "2021-11-23T00:00:00",
          "2021-11-24T00:00:00",
          "2021-11-25T00:00:00",
          "2021-11-26T00:00:00",
          "2021-11-27T00:00:00",
          "2021-11-28T00:00:00",
          "2021-11-29T00:00:00",
          "2021-11-30T00:00:00",
          "2021-12-01T00:00:00",
          "2021-12-02T00:00:00",
          "2021-12-03T00:00:00",
          "2021-12-04T00:00:00",
          "2021-12-05T00:00:00",
          "2021-12-06T00:00:00",
          "2021-12-07T00:00:00",
          "2021-12-08T00:00:00",
          "2021-12-09T00:00:00",
          "2021-12-10T00:00:00",
          "2021-12-11T00:00:00",
          "2021-12-12T00:00:00",
          "2021-12-13T00:00:00",
          "2021-12-14T00:00:00",
          "2021-12-15T00:00:00",
          "2021-12-16T00:00:00",
          "2021-12-17T00:00:00",
          "2021-12-18T00:00:00",
          "2021-12-19T00:00:00",
          "2021-12-20T00:00:00",
          "2021-12-21T00:00:00",
          "2021-12-22T00:00:00",
          "2021-12-23T00:00:00",
          "2021-12-24T00:00:00",
          "2021-12-25T00:00:00",
          "2021-12-26T00:00:00",
          "2021-12-27T00:00:00",
          "2021-12-28T00:00:00",
          "2021-12-29T00:00:00",
          "2021-12-30T00:00:00",
          "2021-12-31T00:00:00",
          "2022-01-01T00:00:00",
          "2022-01-02T00:00:00",
          "2022-01-03T00:00:00",
          "2022-01-04T00:00:00",
          "2022-01-05T00:00:00",
          "2022-01-06T00:00:00",
          "2022-01-07T00:00:00",
          "2022-01-08T00:00:00",
          "2022-01-09T00:00:00",
          "2022-01-10T00:00:00",
          "2022-01-11T00:00:00",
          "2022-01-12T00:00:00",
          "2022-01-13T00:00:00",
          "2022-01-14T00:00:00",
          "2022-01-15T00:00:00",
          "2022-01-16T00:00:00",
          "2022-01-17T00:00:00",
          "2022-01-18T00:00:00",
          "2022-01-19T00:00:00",
          "2022-01-20T00:00:00",
          "2022-01-21T00:00:00",
          "2022-01-22T00:00:00",
          "2022-01-23T00:00:00",
          "2022-01-24T00:00:00",
          "2022-01-25T00:00:00",
          "2022-01-26T00:00:00",
          "2022-01-27T00:00:00",
          "2022-01-28T00:00:00",
          "2022-01-29T00:00:00",
          "2022-01-30T00:00:00",
          "2022-01-31T00:00:00",
          "2022-02-01T00:00:00",
          "2022-02-02T00:00:00",
          "2022-02-03T00:00:00",
          "2022-02-04T00:00:00"
         ],
         "xaxis": "x",
         "y": [
          1,
          1,
          2,
          1,
          1,
          1,
          2,
          1,
          1,
          2,
          2,
          2,
          2,
          2,
          2,
          1,
          1,
          1,
          1,
          1,
          1,
          1,
          1,
          1,
          1,
          1,
          2,
          2,
          2,
          2,
          2,
          1,
          1,
          2,
          2,
          1,
          1,
          1,
          2,
          2,
          2,
          2,
          2,
          1,
          2,
          2,
          2,
          1,
          1,
          1,
          1,
          1,
          2,
          2,
          2,
          2,
          2,
          1,
          1,
          1,
          1,
          1,
          2,
          1,
          2,
          1,
          1,
          1,
          2,
          2,
          2,
          2,
          1,
          1,
          1,
          1,
          1,
          2,
          1,
          1,
          2,
          2,
          2,
          2,
          1,
          2,
          2,
          2,
          1,
          1,
          1,
          1,
          2,
          2,
          2,
          2,
          2,
          2,
          3,
          3,
          3,
          3,
          3,
          3,
          3,
          3,
          4,
          4,
          4,
          4,
          4,
          4,
          4,
          3,
          2,
          2,
          2,
          3,
          2,
          2,
          3,
          3,
          3,
          3,
          3,
          2,
          2,
          2,
          2,
          2,
          1,
          1,
          1,
          1,
          2,
          1,
          1,
          1,
          1,
          1,
          2,
          1,
          1,
          1,
          2,
          2,
          2,
          1,
          1,
          1,
          1,
          1,
          1,
          2,
          1,
          1,
          2,
          1,
          1,
          1,
          1,
          2,
          2,
          2,
          2,
          2,
          1,
          1,
          1,
          2,
          1,
          1,
          1,
          1,
          1,
          1,
          1,
          2,
          2,
          2,
          2,
          1,
          1,
          1,
          2,
          1,
          1,
          2,
          2,
          2,
          2,
          2,
          2,
          1,
          4,
          2,
          2,
          1,
          1,
          1,
          1,
          2,
          2,
          2,
          2,
          2,
          2,
          3,
          3,
          3,
          4,
          4,
          4,
          3,
          3,
          4,
          4,
          4,
          4,
          4,
          4,
          3,
          3,
          2,
          2,
          2,
          2,
          2,
          3,
          3,
          3,
          3,
          2,
          2,
          2,
          2,
          1,
          1,
          2,
          1,
          1,
          1,
          2,
          2,
          2,
          1,
          1,
          1,
          1,
          1,
          1,
          1,
          2,
          2,
          1,
          1,
          1,
          1,
          1,
          2,
          2,
          2,
          2,
          2,
          2,
          2,
          2,
          2,
          1,
          1,
          1,
          1,
          1,
          1,
          2,
          1,
          1,
          1,
          1,
          2,
          2,
          2,
          2,
          1,
          1,
          1,
          1,
          1,
          2,
          1,
          1,
          2,
          2,
          2,
          2,
          1,
          2,
          2,
          2,
          1,
          1,
          1,
          1,
          2,
          2,
          2,
          2,
          2,
          2,
          3,
          3,
          3,
          3,
          3,
          3,
          3,
          3,
          3,
          4,
          4,
          4,
          4,
          4,
          3,
          3,
          2,
          2,
          2,
          2,
          2,
          3,
          3,
          3,
          3,
          3,
          1,
          1,
          1,
          1,
          1,
          2,
          1,
          1,
          1,
          2,
          2,
          2,
          2,
          2,
          2,
          2,
          1,
          1,
          1,
          1,
          1,
          1,
          2,
          1,
          1,
          2,
          2,
          2,
          2,
          2,
          1,
          1,
          1,
          1,
          1,
          2,
          2,
          1,
          1,
          2,
          2,
          2,
          2,
          2,
          2,
          1,
          1,
          1,
          1,
          1,
          1,
          1,
          1,
          1,
          1,
          1,
          2,
          2,
          2,
          2,
          2,
          1,
          2,
          2,
          1
         ],
         "yaxis": "y"
        }
       ],
       "layout": {
        "coloraxis": {
         "colorbar": {
          "title": {
           "text": "Coffee_Consumed_scaled"
          }
         },
         "colorscale": [
          [
           0,
           "#440154"
          ],
          [
           0.1111111111111111,
           "#482878"
          ],
          [
           0.2222222222222222,
           "#3e4989"
          ],
          [
           0.3333333333333333,
           "#31688e"
          ],
          [
           0.4444444444444444,
           "#26828e"
          ],
          [
           0.5555555555555556,
           "#1f9e89"
          ],
          [
           0.6666666666666666,
           "#35b779"
          ],
          [
           0.7777777777777778,
           "#6ece58"
          ],
          [
           0.8888888888888888,
           "#b5de2b"
          ],
          [
           1,
           "#fde725"
          ]
         ]
        },
        "legend": {
         "tracegroupgap": 0
        },
        "template": {
         "data": {
          "candlestick": [
           {
            "decreasing": {
             "line": {
              "color": "#000033"
             }
            },
            "increasing": {
             "line": {
              "color": "#000032"
             }
            },
            "type": "candlestick"
           }
          ],
          "contour": [
           {
            "colorscale": [
             [
              0,
              "#000011"
             ],
             [
              0.1111111111111111,
              "#000012"
             ],
             [
              0.2222222222222222,
              "#000013"
             ],
             [
              0.3333333333333333,
              "#000014"
             ],
             [
              0.4444444444444444,
              "#000015"
             ],
             [
              0.5555555555555556,
              "#000016"
             ],
             [
              0.6666666666666666,
              "#000017"
             ],
             [
              0.7777777777777778,
              "#000018"
             ],
             [
              0.8888888888888888,
              "#000019"
             ],
             [
              1,
              "#000020"
             ]
            ],
            "type": "contour"
           }
          ],
          "contourcarpet": [
           {
            "colorscale": [
             [
              0,
              "#000011"
             ],
             [
              0.1111111111111111,
              "#000012"
             ],
             [
              0.2222222222222222,
              "#000013"
             ],
             [
              0.3333333333333333,
              "#000014"
             ],
             [
              0.4444444444444444,
              "#000015"
             ],
             [
              0.5555555555555556,
              "#000016"
             ],
             [
              0.6666666666666666,
              "#000017"
             ],
             [
              0.7777777777777778,
              "#000018"
             ],
             [
              0.8888888888888888,
              "#000019"
             ],
             [
              1,
              "#000020"
             ]
            ],
            "type": "contourcarpet"
           }
          ],
          "heatmap": [
           {
            "colorscale": [
             [
              0,
              "#000011"
             ],
             [
              0.1111111111111111,
              "#000012"
             ],
             [
              0.2222222222222222,
              "#000013"
             ],
             [
              0.3333333333333333,
              "#000014"
             ],
             [
              0.4444444444444444,
              "#000015"
             ],
             [
              0.5555555555555556,
              "#000016"
             ],
             [
              0.6666666666666666,
              "#000017"
             ],
             [
              0.7777777777777778,
              "#000018"
             ],
             [
              0.8888888888888888,
              "#000019"
             ],
             [
              1,
              "#000020"
             ]
            ],
            "type": "heatmap"
           }
          ],
          "histogram2d": [
           {
            "colorscale": [
             [
              0,
              "#000011"
             ],
             [
              0.1111111111111111,
              "#000012"
             ],
             [
              0.2222222222222222,
              "#000013"
             ],
             [
              0.3333333333333333,
              "#000014"
             ],
             [
              0.4444444444444444,
              "#000015"
             ],
             [
              0.5555555555555556,
              "#000016"
             ],
             [
              0.6666666666666666,
              "#000017"
             ],
             [
              0.7777777777777778,
              "#000018"
             ],
             [
              0.8888888888888888,
              "#000019"
             ],
             [
              1,
              "#000020"
             ]
            ],
            "type": "histogram2d"
           }
          ],
          "icicle": [
           {
            "textfont": {
             "color": "white"
            },
            "type": "icicle"
           }
          ],
          "sankey": [
           {
            "textfont": {
             "color": "#000036"
            },
            "type": "sankey"
           }
          ],
          "scatter": [
           {
            "marker": {
             "line": {
              "width": 0
             }
            },
            "type": "scatter"
           }
          ],
          "table": [
           {
            "cells": {
             "fill": {
              "color": "#000038"
             },
             "font": {
              "color": "#000037"
             },
             "line": {
              "color": "#000039"
             }
            },
            "header": {
             "fill": {
              "color": "#000040"
             },
             "font": {
              "color": "#000036"
             },
             "line": {
              "color": "#000039"
             }
            },
            "type": "table"
           }
          ],
          "waterfall": [
           {
            "connector": {
             "line": {
              "color": "#000036",
              "width": 2
             }
            },
            "decreasing": {
             "marker": {
              "color": "#000033"
             }
            },
            "increasing": {
             "marker": {
              "color": "#000032"
             }
            },
            "totals": {
             "marker": {
              "color": "#000034"
             }
            },
            "type": "waterfall"
           }
          ]
         },
         "layout": {
          "coloraxis": {
           "colorscale": [
            [
             0,
             "#000011"
            ],
            [
             0.1111111111111111,
             "#000012"
            ],
            [
             0.2222222222222222,
             "#000013"
            ],
            [
             0.3333333333333333,
             "#000014"
            ],
            [
             0.4444444444444444,
             "#000015"
            ],
            [
             0.5555555555555556,
             "#000016"
            ],
            [
             0.6666666666666666,
             "#000017"
            ],
            [
             0.7777777777777778,
             "#000018"
            ],
            [
             0.8888888888888888,
             "#000019"
            ],
            [
             1,
             "#000020"
            ]
           ]
          },
          "colorscale": {
           "diverging": [
            [
             0,
             "#000021"
            ],
            [
             0.1,
             "#000022"
            ],
            [
             0.2,
             "#000023"
            ],
            [
             0.3,
             "#000024"
            ],
            [
             0.4,
             "#000025"
            ],
            [
             0.5,
             "#000026"
            ],
            [
             0.6,
             "#000027"
            ],
            [
             0.7,
             "#000028"
            ],
            [
             0.8,
             "#000029"
            ],
            [
             0.9,
             "#000030"
            ],
            [
             1,
             "#000031"
            ]
           ],
           "sequential": [
            [
             0,
             "#000011"
            ],
            [
             0.1111111111111111,
             "#000012"
            ],
            [
             0.2222222222222222,
             "#000013"
            ],
            [
             0.3333333333333333,
             "#000014"
            ],
            [
             0.4444444444444444,
             "#000015"
            ],
            [
             0.5555555555555556,
             "#000016"
            ],
            [
             0.6666666666666666,
             "#000017"
            ],
            [
             0.7777777777777778,
             "#000018"
            ],
            [
             0.8888888888888888,
             "#000019"
            ],
            [
             1,
             "#000020"
            ]
           ],
           "sequentialminus": [
            [
             0,
             "#000011"
            ],
            [
             0.1111111111111111,
             "#000012"
            ],
            [
             0.2222222222222222,
             "#000013"
            ],
            [
             0.3333333333333333,
             "#000014"
            ],
            [
             0.4444444444444444,
             "#000015"
            ],
            [
             0.5555555555555556,
             "#000016"
            ],
            [
             0.6666666666666666,
             "#000017"
            ],
            [
             0.7777777777777778,
             "#000018"
            ],
            [
             0.8888888888888888,
             "#000019"
            ],
            [
             1,
             "#000020"
            ]
           ]
          },
          "colorway": [
           "#000001",
           "#000002",
           "#000003",
           "#000004",
           "#000005",
           "#000006",
           "#000007",
           "#000008",
           "#000009",
           "#000010"
          ]
         }
        },
        "title": {
         "text": "Scatter Plot of Hair Loss vs Date colored by Coffee_Consumed (scaled)"
        },
        "xaxis": {
         "anchor": "y",
         "domain": [
          0,
          1
         ],
         "title": {
          "text": "Date"
         }
        },
        "yaxis": {
         "anchor": "x",
         "domain": [
          0,
          1
         ],
         "title": {
          "text": "Hair_Loss_Encoding"
         }
        }
       }
      }
     },
     "metadata": {},
     "output_type": "display_data"
    },
    {
     "name": "stderr",
     "output_type": "stream",
     "text": [
      "/opt/anaconda3/lib/python3.11/site-packages/_plotly_utils/basevalidators.py:106: FutureWarning:\n",
      "\n",
      "The behavior of DatetimeProperties.to_pydatetime is deprecated, in a future version this will return a Series containing python datetime objects instead of an ndarray. To retain the old behavior, call `np.array` on the result\n",
      "\n"
     ]
    },
    {
     "data": {
      "application/vnd.plotly.v1+json": {
       "config": {
        "plotlyServerURL": "https://plot.ly"
       },
       "data": [
        {
         "customdata": [
          [
           "Few",
           1,
           "Low"
          ],
          [
           "Few",
           3,
           "Low"
          ],
          [
           "Medium",
           0,
           "Low"
          ],
          [
           "Few",
           1,
           "Low"
          ],
          [
           "Few",
           1,
           "Low"
          ],
          [
           "Few",
           3,
           "Low"
          ],
          [
           "Medium",
           1,
           "Low"
          ],
          [
           "Few",
           1,
           "Low"
          ],
          [
           "Few",
           2,
           "Low"
          ],
          [
           "Medium",
           2,
           "Low"
          ],
          [
           "Medium",
           2,
           "Low"
          ],
          [
           "Medium",
           1,
           "Low"
          ],
          [
           "Medium",
           2,
           "Low"
          ],
          [
           "Medium",
           1,
           "Low"
          ],
          [
           "Medium",
           1,
           "Low"
          ],
          [
           "Few",
           1,
           "Low"
          ],
          [
           "Few",
           0,
           "Low"
          ],
          [
           "Few",
           1,
           "Low"
          ],
          [
           "Few",
           2,
           "Low"
          ],
          [
           "Few",
           0,
           "Low"
          ],
          [
           "Few",
           2,
           "Low"
          ],
          [
           "Few",
           2,
           "Low"
          ],
          [
           "Few",
           1,
           "Low"
          ],
          [
           "Few",
           2,
           "Low"
          ],
          [
           "Few",
           0,
           "Low"
          ],
          [
           "Few",
           2,
           "Low"
          ],
          [
           "Medium",
           2,
           "Low"
          ],
          [
           "Medium",
           0,
           "Low"
          ],
          [
           "Medium",
           1,
           "Low"
          ],
          [
           "Medium",
           1,
           "Low"
          ],
          [
           "Medium",
           1,
           "Low"
          ],
          [
           "Few",
           0,
           "Low"
          ],
          [
           "Few",
           3,
           "Low"
          ],
          [
           "Medium",
           1,
           "Low"
          ],
          [
           "Medium",
           1,
           "Low"
          ],
          [
           "Few",
           2,
           "Low"
          ],
          [
           "Few",
           2,
           "Low"
          ],
          [
           "Few",
           3,
           "Low"
          ],
          [
           "Medium",
           2,
           "Low"
          ],
          [
           "Medium",
           2,
           "Low"
          ],
          [
           "Medium",
           3,
           "Low"
          ],
          [
           "Medium",
           0,
           "Low"
          ],
          [
           "Medium",
           2,
           "Low"
          ],
          [
           "Few",
           2,
           "Low"
          ],
          [
           "Medium",
           2,
           "Low"
          ],
          [
           "Medium",
           1,
           "Low"
          ],
          [
           "Medium",
           3,
           "Low"
          ],
          [
           "Few",
           3,
           "Low"
          ],
          [
           "Few",
           1,
           "Low"
          ],
          [
           "Few",
           1,
           "Low"
          ],
          [
           "Few",
           2,
           "Low"
          ],
          [
           "Few",
           1,
           "Low"
          ],
          [
           "Medium",
           1,
           "Low"
          ],
          [
           "Medium",
           0,
           "Low"
          ],
          [
           "Medium",
           1,
           "Low"
          ],
          [
           "Medium",
           3,
           "Low"
          ],
          [
           "Medium",
           0,
           "Low"
          ],
          [
           "Few",
           2,
           "Low"
          ],
          [
           "Few",
           3,
           "Low"
          ],
          [
           "Few",
           0,
           "Low"
          ],
          [
           "Few",
           1,
           "Low"
          ],
          [
           "Few",
           2,
           "Low"
          ],
          [
           "Medium",
           2,
           "Low"
          ],
          [
           "Few",
           2,
           "Low"
          ],
          [
           "Medium",
           2,
           "Low"
          ],
          [
           "Few",
           2,
           "Low"
          ],
          [
           "Few",
           6,
           "Low"
          ],
          [
           "Few",
           0,
           "Low"
          ],
          [
           "Medium",
           7,
           "Low"
          ],
          [
           "Medium",
           1,
           "Low"
          ],
          [
           "Medium",
           5,
           "Low"
          ],
          [
           "Medium",
           0,
           "Low"
          ],
          [
           "Few",
           1,
           "Low"
          ],
          [
           "Few",
           6,
           "Low"
          ],
          [
           "Few",
           2,
           "Low"
          ],
          [
           "Few",
           7,
           "Low"
          ],
          [
           "Few",
           1,
           "Low"
          ],
          [
           "Medium",
           5,
           "Low"
          ],
          [
           "Few",
           2,
           "Low"
          ],
          [
           "Few",
           1,
           "Medium"
          ],
          [
           "Medium",
           8,
           "Medium"
          ],
          [
           "Medium",
           8,
           "Medium"
          ],
          [
           "Medium",
           9,
           "Medium"
          ],
          [
           "Medium",
           9,
           "Medium"
          ],
          [
           "Few",
           10,
           "Medium"
          ],
          [
           "Medium",
           10,
           "Medium"
          ],
          [
           "Medium",
           2,
           "Low"
          ],
          [
           "Medium",
           6,
           "Low"
          ],
          [
           "Few",
           0,
           "Low"
          ],
          [
           "Few",
           7,
           "Low"
          ],
          [
           "Few",
           2,
           "Low"
          ],
          [
           "Few",
           8,
           "Low"
          ],
          [
           "Medium",
           8,
           "Low"
          ],
          [
           "Medium",
           1,
           "Low"
          ],
          [
           "Medium",
           6,
           "Low"
          ],
          [
           "Medium",
           3,
           "Medium"
          ],
          [
           "Medium",
           7,
           "High"
          ],
          [
           "Medium",
           7,
           "High"
          ],
          [
           "Many",
           7,
           "High"
          ],
          [
           "Many",
           8,
           "High"
          ],
          [
           "Many",
           7,
           "High"
          ],
          [
           "Many",
           7,
           "High"
          ],
          [
           "Many",
           10,
           "High"
          ],
          [
           "Many",
           7,
           "High"
          ],
          [
           "Many",
           2,
           "High"
          ],
          [
           "Many",
           12,
           "Very High"
          ],
          [
           "A lot",
           13,
           "Very High"
          ],
          [
           "A lot",
           13,
           "Very High"
          ],
          [
           "A lot",
           13,
           "Very High"
          ],
          [
           "A lot",
           16,
           "Very High"
          ],
          [
           "A lot",
           18,
           "Very High"
          ],
          [
           "A lot",
           0,
           "High"
          ],
          [
           "A lot",
           0,
           "High"
          ],
          [
           "Many",
           10,
           "High"
          ],
          [
           "Medium",
           10,
           "High"
          ],
          [
           "Medium",
           10,
           "High"
          ],
          [
           "Medium",
           10,
           "High"
          ],
          [
           "Many",
           18,
           "Very High"
          ],
          [
           "Medium",
           6,
           "Very High"
          ],
          [
           "Medium",
           6,
           "Very High"
          ],
          [
           "Many",
           6,
           "Very High"
          ],
          [
           "Many",
           6,
           "Very High"
          ],
          [
           "Many",
           18,
           "Very High"
          ],
          [
           "Many",
           16,
           "Very High"
          ],
          [
           "Many",
           7,
           "Medium"
          ],
          [
           "Medium",
           3,
           "Medium"
          ],
          [
           "Medium",
           5,
           "Medium"
          ],
          [
           "Medium",
           2,
           "Medium"
          ],
          [
           "Medium",
           1,
           "Medium"
          ],
          [
           "Medium",
           6,
           "Low"
          ],
          [
           "Few",
           3,
           "Low"
          ],
          [
           "Few",
           7,
           "Low"
          ],
          [
           "Few",
           1,
           "Low"
          ],
          [
           "Few",
           5,
           "Low"
          ],
          [
           "Medium",
           2,
           "Low"
          ],
          [
           "Few",
           1,
           "Low"
          ],
          [
           "Few",
           2,
           "Low"
          ],
          [
           "Few",
           2,
           "Medium"
          ],
          [
           "Few",
           2,
           "Medium"
          ],
          [
           "Few",
           2,
           "Medium"
          ],
          [
           "Medium",
           1,
           "Medium"
          ],
          [
           "Few",
           0,
           "Medium"
          ],
          [
           "Few",
           3,
           "Medium"
          ],
          [
           "Few",
           2,
           "Medium"
          ],
          [
           "Medium",
           1,
           "Medium"
          ],
          [
           "Medium",
           0,
           "Medium"
          ],
          [
           "Medium",
           1,
           "Medium"
          ],
          [
           "Few",
           1,
           "Low"
          ],
          [
           "Few",
           2,
           "Low"
          ],
          [
           "Few",
           1,
           "Low"
          ],
          [
           "Few",
           0,
           "Low"
          ],
          [
           "Few",
           1,
           "Medium"
          ],
          [
           "Few",
           3,
           "Medium"
          ],
          [
           "Medium",
           2,
           "Medium"
          ],
          [
           "Few",
           2,
           "Medium"
          ],
          [
           "Few",
           2,
           "Medium"
          ],
          [
           "Medium",
           0,
           "Low"
          ],
          [
           "Few",
           2,
           "Low"
          ],
          [
           "Few",
           0,
           "Low"
          ],
          [
           "Few",
           1,
           "Low"
          ],
          [
           "Few",
           2,
           "Low"
          ],
          [
           "Medium",
           2,
           "Low"
          ],
          [
           "Medium",
           2,
           "Low"
          ],
          [
           "Medium",
           1,
           "Low"
          ],
          [
           "Medium",
           2,
           "Low"
          ],
          [
           "Medium",
           1,
           "Low"
          ],
          [
           "Few",
           1,
           "Low"
          ],
          [
           "Few",
           0,
           "Low"
          ],
          [
           "Few",
           2,
           "Low"
          ],
          [
           "Medium",
           2,
           "Low"
          ],
          [
           "Few",
           0,
           "Low"
          ],
          [
           "Few",
           2,
           "Low"
          ],
          [
           "Few",
           2,
           "Low"
          ],
          [
           "Few",
           0,
           "Low"
          ],
          [
           "Few",
           0,
           "Low"
          ],
          [
           "Few",
           6,
           "Low"
          ],
          [
           "Few",
           2,
           "Low"
          ],
          [
           "Medium",
           7,
           "Low"
          ],
          [
           "Medium",
           0,
           "Low"
          ],
          [
           "Medium",
           5,
           "Low"
          ],
          [
           "Medium",
           1,
           "Low"
          ],
          [
           "Few",
           1,
           "Low"
          ],
          [
           "Few",
           6,
           "Low"
          ],
          [
           "Few",
           3,
           "Low"
          ],
          [
           "Medium",
           7,
           "Low"
          ],
          [
           "Few",
           1,
           "Low"
          ],
          [
           "Few",
           5,
           "Low"
          ],
          [
           "Medium",
           2,
           "Low"
          ],
          [
           "Medium",
           1,
           "Low"
          ],
          [
           "Medium",
           8,
           "Medium"
          ],
          [
           "Medium",
           8,
           "Medium"
          ],
          [
           "Medium",
           9,
           "Medium"
          ],
          [
           "Medium",
           9,
           "Medium"
          ],
          [
           "Few",
           10,
           "Medium"
          ],
          [
           "A lot",
           10,
           "Medium"
          ],
          [
           "Medium",
           2,
           "Low"
          ],
          [
           "Medium",
           6,
           "Low"
          ],
          [
           "Few",
           1,
           "Low"
          ],
          [
           "Few",
           7,
           "Low"
          ],
          [
           "Few",
           1,
           "Low"
          ],
          [
           "Few",
           8,
           "Low"
          ],
          [
           "Medium",
           8,
           "Low"
          ],
          [
           "Medium",
           1,
           "Low"
          ],
          [
           "Medium",
           6,
           "Low"
          ],
          [
           "Medium",
           3,
           "Medium"
          ],
          [
           "Medium",
           7,
           "High"
          ],
          [
           "Medium",
           7,
           "High"
          ],
          [
           "Many",
           7,
           "High"
          ],
          [
           "Many",
           8,
           "High"
          ],
          [
           "Many",
           7,
           "High"
          ],
          [
           "A lot",
           7,
           "High"
          ],
          [
           "A lot",
           10,
           "High"
          ],
          [
           "A lot",
           7,
           "High"
          ],
          [
           "Many",
           0,
           "High"
          ],
          [
           "Many",
           12,
           "Very High"
          ],
          [
           "A lot",
           13,
           "Very High"
          ],
          [
           "A lot",
           13,
           "Very High"
          ],
          [
           "A lot",
           13,
           "Very High"
          ],
          [
           "A lot",
           16,
           "Very High"
          ],
          [
           "A lot",
           18,
           "Very High"
          ],
          [
           "A lot",
           0,
           "High"
          ],
          [
           "Many",
           0,
           "High"
          ],
          [
           "Many",
           10,
           "High"
          ],
          [
           "Medium",
           10,
           "High"
          ],
          [
           "Medium",
           10,
           "High"
          ],
          [
           "Medium",
           10,
           "High"
          ],
          [
           "Medium",
           11,
           "Very High"
          ],
          [
           "Medium",
           6,
           "Very High"
          ],
          [
           "Many",
           18,
           "Very High"
          ],
          [
           "Many",
           6,
           "Very High"
          ],
          [
           "Many",
           6,
           "Very High"
          ],
          [
           "Many",
           18,
           "Very High"
          ],
          [
           "Medium",
           5,
           "Medium"
          ],
          [
           "Medium",
           2,
           "Medium"
          ],
          [
           "Medium",
           2,
           "Medium"
          ],
          [
           "Medium",
           6,
           "Low"
          ],
          [
           "Few",
           0,
           "Low"
          ],
          [
           "Few",
           7,
           "Low"
          ],
          [
           "Medium",
           2,
           "Low"
          ],
          [
           "Few",
           5,
           "Low"
          ],
          [
           "Few",
           0,
           "Low"
          ],
          [
           "Few",
           2,
           "Low"
          ],
          [
           "Medium",
           2,
           "Medium"
          ],
          [
           "Medium",
           0,
           "Medium"
          ],
          [
           "Medium",
           6,
           "Low"
          ],
          [
           "Few",
           3,
           "Low"
          ],
          [
           "Few",
           7,
           "Low"
          ],
          [
           "Few",
           3,
           "Low"
          ],
          [
           "Few",
           5,
           "Low"
          ],
          [
           "Few",
           1,
           "Low"
          ],
          [
           "Few",
           2,
           "Low"
          ],
          [
           "Few",
           2,
           "Low"
          ],
          [
           "Medium",
           1,
           "Medium"
          ],
          [
           "Medium",
           3,
           "Medium"
          ],
          [
           "Few",
           0,
           "Medium"
          ],
          [
           "Few",
           2,
           "Medium"
          ],
          [
           "Few",
           1,
           "Medium"
          ],
          [
           "Few",
           0,
           "Medium"
          ],
          [
           "Few",
           1,
           "Medium"
          ],
          [
           "Medium",
           3,
           "Medium"
          ],
          [
           "Medium",
           0,
           "Medium"
          ],
          [
           "Medium",
           2,
           "Low"
          ],
          [
           "Medium",
           0,
           "Low"
          ],
          [
           "Medium",
           0,
           "Low"
          ],
          [
           "Medium",
           2,
           "Low"
          ],
          [
           "Medium",
           3,
           "Low"
          ],
          [
           "Medium",
           0,
           "Low"
          ],
          [
           "Medium",
           2,
           "Low"
          ],
          [
           "Few",
           1,
           "Low"
          ],
          [
           "Few",
           2,
           "Low"
          ],
          [
           "Few",
           2,
           "Low"
          ],
          [
           "Few",
           0,
           "Low"
          ],
          [
           "Few",
           1,
           "Low"
          ],
          [
           "Few",
           2,
           "Low"
          ],
          [
           "Medium",
           3,
           "Low"
          ],
          [
           "Few",
           1,
           "Low"
          ],
          [
           "Few",
           3,
           "Low"
          ],
          [
           "Few",
           6,
           "Low"
          ],
          [
           "Few",
           2,
           "Low"
          ],
          [
           "Medium",
           7,
           "Low"
          ],
          [
           "Medium",
           0,
           "Low"
          ],
          [
           "Medium",
           5,
           "Low"
          ],
          [
           "Medium",
           2,
           "Low"
          ],
          [
           "Few",
           0,
           "Low"
          ],
          [
           "Few",
           6,
           "Low"
          ],
          [
           "Few",
           0,
           "Low"
          ],
          [
           "Few",
           7,
           "Low"
          ],
          [
           "Few",
           2,
           "Low"
          ],
          [
           "Medium",
           5,
           "Low"
          ],
          [
           "Few",
           3,
           "Low"
          ],
          [
           "Few",
           0,
           "Low"
          ],
          [
           "Medium",
           8,
           "Medium"
          ],
          [
           "Medium",
           8,
           "Medium"
          ],
          [
           "Medium",
           9,
           "Medium"
          ],
          [
           "Medium",
           9,
           "Medium"
          ],
          [
           "Few",
           10,
           "Medium"
          ],
          [
           "Medium",
           10,
           "Medium"
          ],
          [
           "Medium",
           3,
           "Low"
          ],
          [
           "Medium",
           6,
           "Low"
          ],
          [
           "Few",
           2,
           "Low"
          ],
          [
           "Few",
           7,
           "Low"
          ],
          [
           "Few",
           3,
           "Low"
          ],
          [
           "Few",
           8,
           "Low"
          ],
          [
           "Medium",
           8,
           "Low"
          ],
          [
           "Medium",
           1,
           "Low"
          ],
          [
           "Medium",
           6,
           "Low"
          ],
          [
           "Medium",
           0,
           "Medium"
          ],
          [
           "Medium",
           7,
           "High"
          ],
          [
           "Medium",
           7,
           "High"
          ],
          [
           "Many",
           7,
           "High"
          ],
          [
           "Many",
           8,
           "High"
          ],
          [
           "Many",
           7,
           "High"
          ],
          [
           "Many",
           7,
           "High"
          ],
          [
           "Many",
           10,
           "High"
          ],
          [
           "Many",
           7,
           "High"
          ],
          [
           "Many",
           1,
           "High"
          ],
          [
           "Many",
           12,
           "Very High"
          ],
          [
           "Many",
           13,
           "Very High"
          ],
          [
           "A lot",
           13,
           "Very High"
          ],
          [
           "A lot",
           13,
           "Very High"
          ],
          [
           "A lot",
           16,
           "Very High"
          ],
          [
           "A lot",
           18,
           "Very High"
          ],
          [
           "A lot",
           0,
           "High"
          ],
          [
           "Many",
           0,
           "High"
          ],
          [
           "Many",
           10,
           "High"
          ],
          [
           "Medium",
           10,
           "High"
          ],
          [
           "Medium",
           10,
           "High"
          ],
          [
           "Medium",
           10,
           "High"
          ],
          [
           "Medium",
           11,
           "Very High"
          ],
          [
           "Medium",
           6,
           "Very High"
          ],
          [
           "Many",
           18,
           "Very High"
          ],
          [
           "Many",
           6,
           "Very High"
          ],
          [
           "Many",
           6,
           "Very High"
          ],
          [
           "Many",
           18,
           "Very High"
          ],
          [
           "Many",
           16,
           "Very High"
          ],
          [
           "Few",
           0,
           "Low"
          ],
          [
           "Few",
           0,
           "Low"
          ],
          [
           "Few",
           1,
           "Low"
          ],
          [
           "Few",
           1,
           "Low"
          ],
          [
           "Few",
           2,
           "Low"
          ],
          [
           "Medium",
           2,
           "Low"
          ],
          [
           "Few",
           1,
           "Low"
          ],
          [
           "Few",
           3,
           "Low"
          ],
          [
           "Few",
           2,
           "Low"
          ],
          [
           "Medium",
           3,
           "Low"
          ],
          [
           "Medium",
           2,
           "Low"
          ],
          [
           "Medium",
           0,
           "Low"
          ],
          [
           "Medium",
           2,
           "Low"
          ],
          [
           "Medium",
           3,
           "Low"
          ],
          [
           "Medium",
           2,
           "Low"
          ],
          [
           "Medium",
           0,
           "Low"
          ],
          [
           "Few",
           1,
           "Low"
          ],
          [
           "Few",
           3,
           "Low"
          ],
          [
           "Few",
           2,
           "Low"
          ],
          [
           "Few",
           0,
           "Low"
          ],
          [
           "Few",
           1,
           "Low"
          ],
          [
           "Few",
           0,
           "Low"
          ],
          [
           "Medium",
           3,
           "Low"
          ],
          [
           "Few",
           1,
           "Low"
          ],
          [
           "Few",
           0,
           "Low"
          ],
          [
           "Medium",
           1,
           "Low"
          ],
          [
           "Medium",
           1,
           "Low"
          ],
          [
           "Medium",
           1,
           "Low"
          ],
          [
           "Medium",
           0,
           "Low"
          ],
          [
           "Medium",
           2,
           "Low"
          ],
          [
           "Few",
           2,
           "Low"
          ],
          [
           "Few",
           0,
           "Low"
          ],
          [
           "Few",
           1,
           "Low"
          ],
          [
           "Few",
           0,
           "Low"
          ],
          [
           "Few",
           2,
           "Low"
          ],
          [
           "Medium",
           1,
           "Low"
          ],
          [
           "Medium",
           2,
           "Low"
          ],
          [
           "Few",
           2,
           "Low"
          ],
          [
           "Few",
           1,
           "Low"
          ],
          [
           "Medium",
           0,
           "Low"
          ],
          [
           "Medium",
           1,
           "Low"
          ],
          [
           "Medium",
           3,
           "Low"
          ],
          [
           "Medium",
           0,
           "Low"
          ],
          [
           "Medium",
           3,
           "Low"
          ],
          [
           "Medium",
           2,
           "Low"
          ],
          [
           "Few",
           1,
           "Low"
          ],
          [
           "Few",
           1,
           "Low"
          ],
          [
           "Few",
           0,
           "Low"
          ],
          [
           "Few",
           3,
           "Low"
          ],
          [
           "Few",
           2,
           "Low"
          ],
          [
           "Few",
           2,
           "Low"
          ],
          [
           "Few",
           2,
           "Low"
          ],
          [
           "Few",
           3,
           "Low"
          ],
          [
           "Few",
           1,
           "Low"
          ],
          [
           "Few",
           0,
           "Low"
          ],
          [
           "Few",
           2,
           "Low"
          ],
          [
           "Medium",
           0,
           "Low"
          ],
          [
           "Medium",
           2,
           "Low"
          ],
          [
           "Medium",
           0,
           "Low"
          ],
          [
           "Medium",
           2,
           "Low"
          ],
          [
           "Medium",
           2,
           "Low"
          ],
          [
           "Few",
           3,
           "Low"
          ],
          [
           "Medium",
           1,
           "Low"
          ],
          [
           "Medium",
           1,
           "Low"
          ],
          [
           "Few",
           2,
           "Low"
          ]
         ],
         "hovertemplate": "Date=%{x}<br>Hair_Loss_Encoding=%{y}<br>Coffee_Consumed_scaled=%{marker.color}<br>Hair_Loss=%{customdata[0]}<br>Brain_Working_Duration=%{customdata[1]}<br>Stress_Level=%{customdata[2]}<extra></extra>",
         "legendgroup": "",
         "marker": {
          "color": [
           0,
           0,
           0.1,
           0,
           0,
           0,
           0.1,
           0,
           0,
           0.1,
           0.1,
           0.1,
           0.1,
           0.1,
           0.1,
           0,
           0,
           0,
           0,
           0,
           0,
           0,
           0,
           0,
           0,
           0,
           0.1,
           0.1,
           0.1,
           0.1,
           0.1,
           0,
           0,
           0.1,
           0.1,
           0,
           0,
           0,
           0.1,
           0.1,
           0.1,
           0.1,
           0.1,
           0,
           0.1,
           0.1,
           0.1,
           0,
           0,
           0,
           0,
           0,
           0.1,
           0.1,
           0.1,
           0.1,
           0.1,
           0,
           0,
           0,
           0,
           0,
           0.1,
           0,
           0.1,
           0,
           0,
           0,
           0.1,
           0.1,
           0.1,
           0.1,
           0,
           0,
           0,
           0,
           0,
           0.1,
           0,
           0,
           0.1,
           0.2,
           0.3,
           0.3,
           0.3,
           0.2,
           0,
           0,
           0,
           0,
           0,
           0.3,
           0.3,
           0,
           0,
           0,
           0.3,
           0.4,
           0.4,
           0.4,
           0.4,
           0.3,
           0.5,
           0,
           0,
           0.5,
           0.6,
           0.6,
           0.6,
           0.7,
           0.8,
           0,
           0,
           0.2,
           0.2,
           0.2,
           0.2,
           0.9,
           0.2,
           0.1,
           0.2,
           0.2,
           1,
           0.9,
           0,
           0,
           0,
           0,
           0,
           0,
           0,
           0,
           0,
           0,
           0,
           0,
           0,
           0,
           0,
           0,
           0,
           0,
           0,
           0,
           0,
           0,
           0,
           0,
           0,
           0,
           0,
           0,
           0,
           0,
           0,
           0,
           0,
           0,
           0,
           0,
           0,
           0.1,
           0.1,
           0.1,
           0.1,
           0.1,
           0,
           0,
           0,
           0.1,
           0,
           0,
           0,
           0,
           0,
           0,
           0,
           0.1,
           0.1,
           0.1,
           0.1,
           0,
           0,
           0,
           0.1,
           0,
           0,
           0.1,
           0.1,
           0.1,
           0.2,
           0.3,
           0.3,
           0.3,
           0.2,
           0,
           0,
           0,
           0,
           0,
           0.3,
           0.3,
           0,
           0,
           0,
           0.3,
           0.4,
           0.4,
           0.4,
           0.4,
           0.3,
           0.5,
           0,
           0,
           0.5,
           0.6,
           0.6,
           0.6,
           0.7,
           0.8,
           0,
           0,
           0.2,
           0.2,
           0.2,
           0.2,
           0.2,
           0.1,
           0.9,
           0.2,
           0.2,
           1,
           0,
           0,
           0,
           0,
           0,
           0,
           0,
           0,
           0,
           0,
           0,
           0,
           0,
           0,
           0,
           0,
           0,
           0,
           0,
           0,
           0,
           0,
           0,
           0,
           0,
           0,
           0,
           0,
           0,
           0.1,
           0.1,
           0.1,
           0.1,
           0.1,
           0.1,
           0.1,
           0,
           0,
           0,
           0,
           0,
           0,
           0.1,
           0,
           0,
           0,
           0,
           0.1,
           0.1,
           0.1,
           0.1,
           0,
           0,
           0,
           0,
           0,
           0.1,
           0,
           0,
           0.1,
           0.2,
           0.3,
           0.3,
           0.3,
           0.2,
           0,
           0,
           0,
           0,
           0,
           0.3,
           0.3,
           0,
           0,
           0,
           0.3,
           0.4,
           0.4,
           0.4,
           0.4,
           0.3,
           0.5,
           0,
           0,
           0.5,
           0.6,
           0.6,
           0.6,
           0.7,
           0.8,
           0,
           0,
           0.2,
           0.2,
           0.2,
           0.2,
           0.2,
           0.1,
           0.9,
           0.2,
           0.2,
           1,
           0.9,
           0,
           0,
           0,
           0,
           0,
           0.1,
           0,
           0,
           0,
           0.1,
           0.1,
           0.1,
           0.1,
           0.1,
           0.1,
           0.1,
           0,
           0,
           0,
           0,
           0,
           0,
           0.1,
           0,
           0,
           0.1,
           0.1,
           0.1,
           0.1,
           0.1,
           0,
           0,
           0,
           0,
           0,
           0.1,
           0.1,
           0,
           0,
           0.1,
           0.1,
           0.1,
           0.1,
           0.1,
           0.1,
           0,
           0,
           0,
           0,
           0,
           0,
           0,
           0,
           0,
           0,
           0,
           0.1,
           0.1,
           0.1,
           0.1,
           0.1,
           0,
           0.1,
           0.1,
           0
          ],
          "coloraxis": "coloraxis",
          "size": [
           0,
           0,
           0.1,
           0,
           0,
           0,
           0.1,
           0,
           0,
           0.1,
           0.1,
           0.1,
           0.1,
           0.1,
           0.1,
           0,
           0,
           0,
           0,
           0,
           0,
           0,
           0,
           0,
           0,
           0,
           0.1,
           0.1,
           0.1,
           0.1,
           0.1,
           0,
           0,
           0.1,
           0.1,
           0,
           0,
           0,
           0.1,
           0.1,
           0.1,
           0.1,
           0.1,
           0,
           0.1,
           0.1,
           0.1,
           0,
           0,
           0,
           0,
           0,
           0.1,
           0.1,
           0.1,
           0.1,
           0.1,
           0,
           0,
           0,
           0,
           0,
           0.1,
           0,
           0.1,
           0,
           0,
           0,
           0.1,
           0.1,
           0.1,
           0.1,
           0,
           0,
           0,
           0,
           0,
           0.1,
           0,
           0,
           0.1,
           0.2,
           0.3,
           0.3,
           0.3,
           0.2,
           0,
           0,
           0,
           0,
           0,
           0.3,
           0.3,
           0,
           0,
           0,
           0.3,
           0.4,
           0.4,
           0.4,
           0.4,
           0.3,
           0.5,
           0,
           0,
           0.5,
           0.6,
           0.6,
           0.6,
           0.7,
           0.8,
           0,
           0,
           0.2,
           0.2,
           0.2,
           0.2,
           0.9,
           0.2,
           0.1,
           0.2,
           0.2,
           1,
           0.9,
           0,
           0,
           0,
           0,
           0,
           0,
           0,
           0,
           0,
           0,
           0,
           0,
           0,
           0,
           0,
           0,
           0,
           0,
           0,
           0,
           0,
           0,
           0,
           0,
           0,
           0,
           0,
           0,
           0,
           0,
           0,
           0,
           0,
           0,
           0,
           0,
           0,
           0.1,
           0.1,
           0.1,
           0.1,
           0.1,
           0,
           0,
           0,
           0.1,
           0,
           0,
           0,
           0,
           0,
           0,
           0,
           0.1,
           0.1,
           0.1,
           0.1,
           0,
           0,
           0,
           0.1,
           0,
           0,
           0.1,
           0.1,
           0.1,
           0.2,
           0.3,
           0.3,
           0.3,
           0.2,
           0,
           0,
           0,
           0,
           0,
           0.3,
           0.3,
           0,
           0,
           0,
           0.3,
           0.4,
           0.4,
           0.4,
           0.4,
           0.3,
           0.5,
           0,
           0,
           0.5,
           0.6,
           0.6,
           0.6,
           0.7,
           0.8,
           0,
           0,
           0.2,
           0.2,
           0.2,
           0.2,
           0.2,
           0.1,
           0.9,
           0.2,
           0.2,
           1,
           0,
           0,
           0,
           0,
           0,
           0,
           0,
           0,
           0,
           0,
           0,
           0,
           0,
           0,
           0,
           0,
           0,
           0,
           0,
           0,
           0,
           0,
           0,
           0,
           0,
           0,
           0,
           0,
           0,
           0.1,
           0.1,
           0.1,
           0.1,
           0.1,
           0.1,
           0.1,
           0,
           0,
           0,
           0,
           0,
           0,
           0.1,
           0,
           0,
           0,
           0,
           0.1,
           0.1,
           0.1,
           0.1,
           0,
           0,
           0,
           0,
           0,
           0.1,
           0,
           0,
           0.1,
           0.2,
           0.3,
           0.3,
           0.3,
           0.2,
           0,
           0,
           0,
           0,
           0,
           0.3,
           0.3,
           0,
           0,
           0,
           0.3,
           0.4,
           0.4,
           0.4,
           0.4,
           0.3,
           0.5,
           0,
           0,
           0.5,
           0.6,
           0.6,
           0.6,
           0.7,
           0.8,
           0,
           0,
           0.2,
           0.2,
           0.2,
           0.2,
           0.2,
           0.1,
           0.9,
           0.2,
           0.2,
           1,
           0.9,
           0,
           0,
           0,
           0,
           0,
           0.1,
           0,
           0,
           0,
           0.1,
           0.1,
           0.1,
           0.1,
           0.1,
           0.1,
           0.1,
           0,
           0,
           0,
           0,
           0,
           0,
           0.1,
           0,
           0,
           0.1,
           0.1,
           0.1,
           0.1,
           0.1,
           0,
           0,
           0,
           0,
           0,
           0.1,
           0.1,
           0,
           0,
           0.1,
           0.1,
           0.1,
           0.1,
           0.1,
           0.1,
           0,
           0,
           0,
           0,
           0,
           0,
           0,
           0,
           0,
           0,
           0,
           0.1,
           0.1,
           0.1,
           0.1,
           0.1,
           0,
           0.1,
           0.1,
           0
          ],
          "sizemode": "area",
          "sizeref": 0.0025,
          "symbol": "circle"
         },
         "mode": "markers",
         "name": "",
         "orientation": "v",
         "showlegend": false,
         "type": "scatter",
         "x": [
          "2021-01-01T00:00:00",
          "2021-01-02T00:00:00",
          "2021-01-03T00:00:00",
          "2021-01-04T00:00:00",
          "2021-01-05T00:00:00",
          "2021-01-06T00:00:00",
          "2021-01-07T00:00:00",
          "2021-01-08T00:00:00",
          "2021-01-09T00:00:00",
          "2021-01-10T00:00:00",
          "2021-01-11T00:00:00",
          "2021-01-12T00:00:00",
          "2021-01-13T00:00:00",
          "2021-01-14T00:00:00",
          "2021-01-15T00:00:00",
          "2021-01-16T00:00:00",
          "2021-01-17T00:00:00",
          "2021-01-18T00:00:00",
          "2021-01-19T00:00:00",
          "2021-01-20T00:00:00",
          "2021-01-21T00:00:00",
          "2021-01-22T00:00:00",
          "2021-01-23T00:00:00",
          "2021-01-24T00:00:00",
          "2021-01-25T00:00:00",
          "2021-01-26T00:00:00",
          "2021-01-27T00:00:00",
          "2021-01-28T00:00:00",
          "2021-01-29T00:00:00",
          "2021-01-30T00:00:00",
          "2021-01-31T00:00:00",
          "2021-02-01T00:00:00",
          "2021-02-02T00:00:00",
          "2021-02-03T00:00:00",
          "2021-02-04T00:00:00",
          "2021-02-05T00:00:00",
          "2021-02-06T00:00:00",
          "2021-02-07T00:00:00",
          "2021-02-08T00:00:00",
          "2021-02-09T00:00:00",
          "2021-02-10T00:00:00",
          "2021-02-11T00:00:00",
          "2021-02-12T00:00:00",
          "2021-02-13T00:00:00",
          "2021-02-14T00:00:00",
          "2021-02-15T00:00:00",
          "2021-02-16T00:00:00",
          "2021-02-17T00:00:00",
          "2021-02-18T00:00:00",
          "2021-02-19T00:00:00",
          "2021-02-20T00:00:00",
          "2021-02-21T00:00:00",
          "2021-02-22T00:00:00",
          "2021-02-23T00:00:00",
          "2021-02-24T00:00:00",
          "2021-02-25T00:00:00",
          "2021-02-26T00:00:00",
          "2021-02-27T00:00:00",
          "2021-02-28T00:00:00",
          "2021-03-01T00:00:00",
          "2021-03-02T00:00:00",
          "2021-03-03T00:00:00",
          "2021-03-04T00:00:00",
          "2021-03-05T00:00:00",
          "2021-03-06T00:00:00",
          "2021-03-07T00:00:00",
          "2021-03-08T00:00:00",
          "2021-03-09T00:00:00",
          "2021-03-10T00:00:00",
          "2021-03-11T00:00:00",
          "2021-03-12T00:00:00",
          "2021-03-13T00:00:00",
          "2021-03-14T00:00:00",
          "2021-03-15T00:00:00",
          "2021-03-16T00:00:00",
          "2021-03-17T00:00:00",
          "2021-03-18T00:00:00",
          "2021-03-19T00:00:00",
          "2021-03-20T00:00:00",
          "2021-03-21T00:00:00",
          "2021-03-22T00:00:00",
          "2021-03-23T00:00:00",
          "2021-03-24T00:00:00",
          "2021-03-25T00:00:00",
          "2021-03-26T00:00:00",
          "2021-03-27T00:00:00",
          "2021-03-28T00:00:00",
          "2021-03-29T00:00:00",
          "2021-03-30T00:00:00",
          "2021-03-31T00:00:00",
          "2021-04-01T00:00:00",
          "2021-04-02T00:00:00",
          "2021-04-03T00:00:00",
          "2021-04-04T00:00:00",
          "2021-04-05T00:00:00",
          "2021-04-06T00:00:00",
          "2021-04-07T00:00:00",
          "2021-04-08T00:00:00",
          "2021-04-09T00:00:00",
          "2021-04-10T00:00:00",
          "2021-04-11T00:00:00",
          "2021-04-12T00:00:00",
          "2021-04-13T00:00:00",
          "2021-04-14T00:00:00",
          "2021-04-15T00:00:00",
          "2021-04-16T00:00:00",
          "2021-04-17T00:00:00",
          "2021-04-18T00:00:00",
          "2021-04-19T00:00:00",
          "2021-04-20T00:00:00",
          "2021-04-21T00:00:00",
          "2021-04-22T00:00:00",
          "2021-04-23T00:00:00",
          "2021-04-24T00:00:00",
          "2021-04-25T00:00:00",
          "2021-04-26T00:00:00",
          "2021-04-27T00:00:00",
          "2021-04-28T00:00:00",
          "2021-04-29T00:00:00",
          "2021-04-30T00:00:00",
          "2021-05-01T00:00:00",
          "2021-05-02T00:00:00",
          "2021-05-03T00:00:00",
          "2021-05-04T00:00:00",
          "2021-05-05T00:00:00",
          "2021-05-06T00:00:00",
          "2021-05-07T00:00:00",
          "2021-05-08T00:00:00",
          "2021-05-09T00:00:00",
          "2021-05-10T00:00:00",
          "2021-05-11T00:00:00",
          "2021-05-12T00:00:00",
          "2021-05-13T00:00:00",
          "2021-05-14T00:00:00",
          "2021-05-15T00:00:00",
          "2021-05-16T00:00:00",
          "2021-05-17T00:00:00",
          "2021-05-18T00:00:00",
          "2021-05-19T00:00:00",
          "2021-05-20T00:00:00",
          "2021-05-21T00:00:00",
          "2021-05-22T00:00:00",
          "2021-05-23T00:00:00",
          "2021-05-24T00:00:00",
          "2021-05-25T00:00:00",
          "2021-05-26T00:00:00",
          "2021-05-27T00:00:00",
          "2021-05-28T00:00:00",
          "2021-05-29T00:00:00",
          "2021-05-30T00:00:00",
          "2021-05-31T00:00:00",
          "2021-06-01T00:00:00",
          "2021-06-02T00:00:00",
          "2021-06-03T00:00:00",
          "2021-06-04T00:00:00",
          "2021-06-05T00:00:00",
          "2021-06-06T00:00:00",
          "2021-06-07T00:00:00",
          "2021-06-08T00:00:00",
          "2021-06-09T00:00:00",
          "2021-06-10T00:00:00",
          "2021-06-11T00:00:00",
          "2021-06-12T00:00:00",
          "2021-06-13T00:00:00",
          "2021-06-14T00:00:00",
          "2021-06-15T00:00:00",
          "2021-06-16T00:00:00",
          "2021-06-17T00:00:00",
          "2021-06-18T00:00:00",
          "2021-06-19T00:00:00",
          "2021-06-20T00:00:00",
          "2021-06-21T00:00:00",
          "2021-06-22T00:00:00",
          "2021-06-23T00:00:00",
          "2021-06-24T00:00:00",
          "2021-06-25T00:00:00",
          "2021-06-26T00:00:00",
          "2021-06-27T00:00:00",
          "2021-06-28T00:00:00",
          "2021-06-29T00:00:00",
          "2021-06-30T00:00:00",
          "2021-07-01T00:00:00",
          "2021-07-02T00:00:00",
          "2021-07-03T00:00:00",
          "2021-07-04T00:00:00",
          "2021-07-05T00:00:00",
          "2021-07-06T00:00:00",
          "2021-07-07T00:00:00",
          "2021-07-08T00:00:00",
          "2021-07-09T00:00:00",
          "2021-07-10T00:00:00",
          "2021-07-11T00:00:00",
          "2021-07-12T00:00:00",
          "2021-07-13T00:00:00",
          "2021-07-14T00:00:00",
          "2021-07-15T00:00:00",
          "2021-07-16T00:00:00",
          "2021-07-17T00:00:00",
          "2021-07-18T00:00:00",
          "2021-07-19T00:00:00",
          "2021-07-20T00:00:00",
          "2021-07-21T00:00:00",
          "2021-07-22T00:00:00",
          "2021-07-23T00:00:00",
          "2021-07-24T00:00:00",
          "2021-07-25T00:00:00",
          "2021-07-26T00:00:00",
          "2021-07-27T00:00:00",
          "2021-07-28T00:00:00",
          "2021-07-29T00:00:00",
          "2021-07-30T00:00:00",
          "2021-07-31T00:00:00",
          "2021-08-01T00:00:00",
          "2021-08-02T00:00:00",
          "2021-08-03T00:00:00",
          "2021-08-04T00:00:00",
          "2021-08-05T00:00:00",
          "2021-08-06T00:00:00",
          "2021-08-07T00:00:00",
          "2021-08-08T00:00:00",
          "2021-08-09T00:00:00",
          "2021-08-10T00:00:00",
          "2021-08-11T00:00:00",
          "2021-08-12T00:00:00",
          "2021-08-13T00:00:00",
          "2021-08-14T00:00:00",
          "2021-08-15T00:00:00",
          "2021-08-16T00:00:00",
          "2021-08-17T00:00:00",
          "2021-08-18T00:00:00",
          "2021-08-19T00:00:00",
          "2021-08-20T00:00:00",
          "2021-08-21T00:00:00",
          "2021-08-22T00:00:00",
          "2021-08-23T00:00:00",
          "2021-08-24T00:00:00",
          "2021-08-25T00:00:00",
          "2021-08-26T00:00:00",
          "2021-08-27T00:00:00",
          "2021-08-28T00:00:00",
          "2021-08-29T00:00:00",
          "2021-08-30T00:00:00",
          "2021-08-31T00:00:00",
          "2021-09-01T00:00:00",
          "2021-09-02T00:00:00",
          "2021-09-03T00:00:00",
          "2021-09-04T00:00:00",
          "2021-09-05T00:00:00",
          "2021-09-06T00:00:00",
          "2021-09-07T00:00:00",
          "2021-09-08T00:00:00",
          "2021-09-09T00:00:00",
          "2021-09-10T00:00:00",
          "2021-09-11T00:00:00",
          "2021-09-12T00:00:00",
          "2021-09-13T00:00:00",
          "2021-09-14T00:00:00",
          "2021-09-15T00:00:00",
          "2021-09-16T00:00:00",
          "2021-09-17T00:00:00",
          "2021-09-18T00:00:00",
          "2021-09-19T00:00:00",
          "2021-09-20T00:00:00",
          "2021-09-21T00:00:00",
          "2021-09-22T00:00:00",
          "2021-09-23T00:00:00",
          "2021-09-24T00:00:00",
          "2021-09-25T00:00:00",
          "2021-09-26T00:00:00",
          "2021-09-27T00:00:00",
          "2021-09-28T00:00:00",
          "2021-09-29T00:00:00",
          "2021-09-30T00:00:00",
          "2021-10-01T00:00:00",
          "2021-10-02T00:00:00",
          "2021-10-03T00:00:00",
          "2021-10-04T00:00:00",
          "2021-10-05T00:00:00",
          "2021-10-06T00:00:00",
          "2021-10-07T00:00:00",
          "2021-10-08T00:00:00",
          "2021-10-09T00:00:00",
          "2021-10-10T00:00:00",
          "2021-10-11T00:00:00",
          "2021-10-12T00:00:00",
          "2021-10-13T00:00:00",
          "2021-10-14T00:00:00",
          "2021-10-15T00:00:00",
          "2021-10-16T00:00:00",
          "2021-10-17T00:00:00",
          "2021-10-18T00:00:00",
          "2021-10-19T00:00:00",
          "2021-10-20T00:00:00",
          "2021-10-21T00:00:00",
          "2021-10-22T00:00:00",
          "2021-10-23T00:00:00",
          "2021-10-24T00:00:00",
          "2021-10-25T00:00:00",
          "2021-10-26T00:00:00",
          "2021-10-27T00:00:00",
          "2021-10-28T00:00:00",
          "2021-10-29T00:00:00",
          "2021-10-30T00:00:00",
          "2021-10-31T00:00:00",
          "2021-11-01T00:00:00",
          "2021-11-02T00:00:00",
          "2021-11-03T00:00:00",
          "2021-11-04T00:00:00",
          "2021-11-05T00:00:00",
          "2021-11-06T00:00:00",
          "2021-11-07T00:00:00",
          "2021-11-08T00:00:00",
          "2021-11-09T00:00:00",
          "2021-11-10T00:00:00",
          "2021-11-11T00:00:00",
          "2021-11-12T00:00:00",
          "2021-11-13T00:00:00",
          "2021-11-14T00:00:00",
          "2021-11-15T00:00:00",
          "2021-11-16T00:00:00",
          "2021-11-17T00:00:00",
          "2021-11-18T00:00:00",
          "2021-11-19T00:00:00",
          "2021-11-20T00:00:00",
          "2021-11-21T00:00:00",
          "2021-11-22T00:00:00",
          "2021-11-23T00:00:00",
          "2021-11-24T00:00:00",
          "2021-11-25T00:00:00",
          "2021-11-26T00:00:00",
          "2021-11-27T00:00:00",
          "2021-11-28T00:00:00",
          "2021-11-29T00:00:00",
          "2021-11-30T00:00:00",
          "2021-12-01T00:00:00",
          "2021-12-02T00:00:00",
          "2021-12-03T00:00:00",
          "2021-12-04T00:00:00",
          "2021-12-05T00:00:00",
          "2021-12-06T00:00:00",
          "2021-12-07T00:00:00",
          "2021-12-08T00:00:00",
          "2021-12-09T00:00:00",
          "2021-12-10T00:00:00",
          "2021-12-11T00:00:00",
          "2021-12-12T00:00:00",
          "2021-12-13T00:00:00",
          "2021-12-14T00:00:00",
          "2021-12-15T00:00:00",
          "2021-12-16T00:00:00",
          "2021-12-17T00:00:00",
          "2021-12-18T00:00:00",
          "2021-12-19T00:00:00",
          "2021-12-20T00:00:00",
          "2021-12-21T00:00:00",
          "2021-12-22T00:00:00",
          "2021-12-23T00:00:00",
          "2021-12-24T00:00:00",
          "2021-12-25T00:00:00",
          "2021-12-26T00:00:00",
          "2021-12-27T00:00:00",
          "2021-12-28T00:00:00",
          "2021-12-29T00:00:00",
          "2021-12-30T00:00:00",
          "2021-12-31T00:00:00",
          "2022-01-01T00:00:00",
          "2022-01-02T00:00:00",
          "2022-01-03T00:00:00",
          "2022-01-04T00:00:00",
          "2022-01-05T00:00:00",
          "2022-01-06T00:00:00",
          "2022-01-07T00:00:00",
          "2022-01-08T00:00:00",
          "2022-01-09T00:00:00",
          "2022-01-10T00:00:00",
          "2022-01-11T00:00:00",
          "2022-01-12T00:00:00",
          "2022-01-13T00:00:00",
          "2022-01-14T00:00:00",
          "2022-01-15T00:00:00",
          "2022-01-16T00:00:00",
          "2022-01-17T00:00:00",
          "2022-01-18T00:00:00",
          "2022-01-19T00:00:00",
          "2022-01-20T00:00:00",
          "2022-01-21T00:00:00",
          "2022-01-22T00:00:00",
          "2022-01-23T00:00:00",
          "2022-01-24T00:00:00",
          "2022-01-25T00:00:00",
          "2022-01-26T00:00:00",
          "2022-01-27T00:00:00",
          "2022-01-28T00:00:00",
          "2022-01-29T00:00:00",
          "2022-01-30T00:00:00",
          "2022-01-31T00:00:00",
          "2022-02-01T00:00:00",
          "2022-02-02T00:00:00",
          "2022-02-03T00:00:00",
          "2022-02-04T00:00:00"
         ],
         "xaxis": "x",
         "y": [
          1,
          1,
          2,
          1,
          1,
          1,
          2,
          1,
          1,
          2,
          2,
          2,
          2,
          2,
          2,
          1,
          1,
          1,
          1,
          1,
          1,
          1,
          1,
          1,
          1,
          1,
          2,
          2,
          2,
          2,
          2,
          1,
          1,
          2,
          2,
          1,
          1,
          1,
          2,
          2,
          2,
          2,
          2,
          1,
          2,
          2,
          2,
          1,
          1,
          1,
          1,
          1,
          2,
          2,
          2,
          2,
          2,
          1,
          1,
          1,
          1,
          1,
          2,
          1,
          2,
          1,
          1,
          1,
          2,
          2,
          2,
          2,
          1,
          1,
          1,
          1,
          1,
          2,
          1,
          1,
          2,
          2,
          2,
          2,
          1,
          2,
          2,
          2,
          1,
          1,
          1,
          1,
          2,
          2,
          2,
          2,
          2,
          2,
          3,
          3,
          3,
          3,
          3,
          3,
          3,
          3,
          4,
          4,
          4,
          4,
          4,
          4,
          4,
          3,
          2,
          2,
          2,
          3,
          2,
          2,
          3,
          3,
          3,
          3,
          3,
          2,
          2,
          2,
          2,
          2,
          1,
          1,
          1,
          1,
          2,
          1,
          1,
          1,
          1,
          1,
          2,
          1,
          1,
          1,
          2,
          2,
          2,
          1,
          1,
          1,
          1,
          1,
          1,
          2,
          1,
          1,
          2,
          1,
          1,
          1,
          1,
          2,
          2,
          2,
          2,
          2,
          1,
          1,
          1,
          2,
          1,
          1,
          1,
          1,
          1,
          1,
          1,
          2,
          2,
          2,
          2,
          1,
          1,
          1,
          2,
          1,
          1,
          2,
          2,
          2,
          2,
          2,
          2,
          1,
          4,
          2,
          2,
          1,
          1,
          1,
          1,
          2,
          2,
          2,
          2,
          2,
          2,
          3,
          3,
          3,
          4,
          4,
          4,
          3,
          3,
          4,
          4,
          4,
          4,
          4,
          4,
          3,
          3,
          2,
          2,
          2,
          2,
          2,
          3,
          3,
          3,
          3,
          2,
          2,
          2,
          2,
          1,
          1,
          2,
          1,
          1,
          1,
          2,
          2,
          2,
          1,
          1,
          1,
          1,
          1,
          1,
          1,
          2,
          2,
          1,
          1,
          1,
          1,
          1,
          2,
          2,
          2,
          2,
          2,
          2,
          2,
          2,
          2,
          1,
          1,
          1,
          1,
          1,
          1,
          2,
          1,
          1,
          1,
          1,
          2,
          2,
          2,
          2,
          1,
          1,
          1,
          1,
          1,
          2,
          1,
          1,
          2,
          2,
          2,
          2,
          1,
          2,
          2,
          2,
          1,
          1,
          1,
          1,
          2,
          2,
          2,
          2,
          2,
          2,
          3,
          3,
          3,
          3,
          3,
          3,
          3,
          3,
          3,
          4,
          4,
          4,
          4,
          4,
          3,
          3,
          2,
          2,
          2,
          2,
          2,
          3,
          3,
          3,
          3,
          3,
          1,
          1,
          1,
          1,
          1,
          2,
          1,
          1,
          1,
          2,
          2,
          2,
          2,
          2,
          2,
          2,
          1,
          1,
          1,
          1,
          1,
          1,
          2,
          1,
          1,
          2,
          2,
          2,
          2,
          2,
          1,
          1,
          1,
          1,
          1,
          2,
          2,
          1,
          1,
          2,
          2,
          2,
          2,
          2,
          2,
          1,
          1,
          1,
          1,
          1,
          1,
          1,
          1,
          1,
          1,
          1,
          2,
          2,
          2,
          2,
          2,
          1,
          2,
          2,
          1
         ],
         "yaxis": "y"
        }
       ],
       "layout": {
        "coloraxis": {
         "colorbar": {
          "title": {
           "text": "Coffee_Consumed_scaled"
          }
         },
         "colorscale": [
          [
           0,
           "#440154"
          ],
          [
           0.1111111111111111,
           "#482878"
          ],
          [
           0.2222222222222222,
           "#3e4989"
          ],
          [
           0.3333333333333333,
           "#31688e"
          ],
          [
           0.4444444444444444,
           "#26828e"
          ],
          [
           0.5555555555555556,
           "#1f9e89"
          ],
          [
           0.6666666666666666,
           "#35b779"
          ],
          [
           0.7777777777777778,
           "#6ece58"
          ],
          [
           0.8888888888888888,
           "#b5de2b"
          ],
          [
           1,
           "#fde725"
          ]
         ]
        },
        "legend": {
         "itemsizing": "constant",
         "tracegroupgap": 0
        },
        "template": {
         "data": {
          "candlestick": [
           {
            "decreasing": {
             "line": {
              "color": "#000033"
             }
            },
            "increasing": {
             "line": {
              "color": "#000032"
             }
            },
            "type": "candlestick"
           }
          ],
          "contour": [
           {
            "colorscale": [
             [
              0,
              "#000011"
             ],
             [
              0.1111111111111111,
              "#000012"
             ],
             [
              0.2222222222222222,
              "#000013"
             ],
             [
              0.3333333333333333,
              "#000014"
             ],
             [
              0.4444444444444444,
              "#000015"
             ],
             [
              0.5555555555555556,
              "#000016"
             ],
             [
              0.6666666666666666,
              "#000017"
             ],
             [
              0.7777777777777778,
              "#000018"
             ],
             [
              0.8888888888888888,
              "#000019"
             ],
             [
              1,
              "#000020"
             ]
            ],
            "type": "contour"
           }
          ],
          "contourcarpet": [
           {
            "colorscale": [
             [
              0,
              "#000011"
             ],
             [
              0.1111111111111111,
              "#000012"
             ],
             [
              0.2222222222222222,
              "#000013"
             ],
             [
              0.3333333333333333,
              "#000014"
             ],
             [
              0.4444444444444444,
              "#000015"
             ],
             [
              0.5555555555555556,
              "#000016"
             ],
             [
              0.6666666666666666,
              "#000017"
             ],
             [
              0.7777777777777778,
              "#000018"
             ],
             [
              0.8888888888888888,
              "#000019"
             ],
             [
              1,
              "#000020"
             ]
            ],
            "type": "contourcarpet"
           }
          ],
          "heatmap": [
           {
            "colorscale": [
             [
              0,
              "#000011"
             ],
             [
              0.1111111111111111,
              "#000012"
             ],
             [
              0.2222222222222222,
              "#000013"
             ],
             [
              0.3333333333333333,
              "#000014"
             ],
             [
              0.4444444444444444,
              "#000015"
             ],
             [
              0.5555555555555556,
              "#000016"
             ],
             [
              0.6666666666666666,
              "#000017"
             ],
             [
              0.7777777777777778,
              "#000018"
             ],
             [
              0.8888888888888888,
              "#000019"
             ],
             [
              1,
              "#000020"
             ]
            ],
            "type": "heatmap"
           }
          ],
          "histogram2d": [
           {
            "colorscale": [
             [
              0,
              "#000011"
             ],
             [
              0.1111111111111111,
              "#000012"
             ],
             [
              0.2222222222222222,
              "#000013"
             ],
             [
              0.3333333333333333,
              "#000014"
             ],
             [
              0.4444444444444444,
              "#000015"
             ],
             [
              0.5555555555555556,
              "#000016"
             ],
             [
              0.6666666666666666,
              "#000017"
             ],
             [
              0.7777777777777778,
              "#000018"
             ],
             [
              0.8888888888888888,
              "#000019"
             ],
             [
              1,
              "#000020"
             ]
            ],
            "type": "histogram2d"
           }
          ],
          "icicle": [
           {
            "textfont": {
             "color": "white"
            },
            "type": "icicle"
           }
          ],
          "sankey": [
           {
            "textfont": {
             "color": "#000036"
            },
            "type": "sankey"
           }
          ],
          "scatter": [
           {
            "marker": {
             "line": {
              "width": 0
             }
            },
            "type": "scatter"
           }
          ],
          "table": [
           {
            "cells": {
             "fill": {
              "color": "#000038"
             },
             "font": {
              "color": "#000037"
             },
             "line": {
              "color": "#000039"
             }
            },
            "header": {
             "fill": {
              "color": "#000040"
             },
             "font": {
              "color": "#000036"
             },
             "line": {
              "color": "#000039"
             }
            },
            "type": "table"
           }
          ],
          "waterfall": [
           {
            "connector": {
             "line": {
              "color": "#000036",
              "width": 2
             }
            },
            "decreasing": {
             "marker": {
              "color": "#000033"
             }
            },
            "increasing": {
             "marker": {
              "color": "#000032"
             }
            },
            "totals": {
             "marker": {
              "color": "#000034"
             }
            },
            "type": "waterfall"
           }
          ]
         },
         "layout": {
          "coloraxis": {
           "colorscale": [
            [
             0,
             "#000011"
            ],
            [
             0.1111111111111111,
             "#000012"
            ],
            [
             0.2222222222222222,
             "#000013"
            ],
            [
             0.3333333333333333,
             "#000014"
            ],
            [
             0.4444444444444444,
             "#000015"
            ],
            [
             0.5555555555555556,
             "#000016"
            ],
            [
             0.6666666666666666,
             "#000017"
            ],
            [
             0.7777777777777778,
             "#000018"
            ],
            [
             0.8888888888888888,
             "#000019"
            ],
            [
             1,
             "#000020"
            ]
           ]
          },
          "colorscale": {
           "diverging": [
            [
             0,
             "#000021"
            ],
            [
             0.1,
             "#000022"
            ],
            [
             0.2,
             "#000023"
            ],
            [
             0.3,
             "#000024"
            ],
            [
             0.4,
             "#000025"
            ],
            [
             0.5,
             "#000026"
            ],
            [
             0.6,
             "#000027"
            ],
            [
             0.7,
             "#000028"
            ],
            [
             0.8,
             "#000029"
            ],
            [
             0.9,
             "#000030"
            ],
            [
             1,
             "#000031"
            ]
           ],
           "sequential": [
            [
             0,
             "#000011"
            ],
            [
             0.1111111111111111,
             "#000012"
            ],
            [
             0.2222222222222222,
             "#000013"
            ],
            [
             0.3333333333333333,
             "#000014"
            ],
            [
             0.4444444444444444,
             "#000015"
            ],
            [
             0.5555555555555556,
             "#000016"
            ],
            [
             0.6666666666666666,
             "#000017"
            ],
            [
             0.7777777777777778,
             "#000018"
            ],
            [
             0.8888888888888888,
             "#000019"
            ],
            [
             1,
             "#000020"
            ]
           ],
           "sequentialminus": [
            [
             0,
             "#000011"
            ],
            [
             0.1111111111111111,
             "#000012"
            ],
            [
             0.2222222222222222,
             "#000013"
            ],
            [
             0.3333333333333333,
             "#000014"
            ],
            [
             0.4444444444444444,
             "#000015"
            ],
            [
             0.5555555555555556,
             "#000016"
            ],
            [
             0.6666666666666666,
             "#000017"
            ],
            [
             0.7777777777777778,
             "#000018"
            ],
            [
             0.8888888888888888,
             "#000019"
            ],
            [
             1,
             "#000020"
            ]
           ]
          },
          "colorway": [
           "#000001",
           "#000002",
           "#000003",
           "#000004",
           "#000005",
           "#000006",
           "#000007",
           "#000008",
           "#000009",
           "#000010"
          ]
         }
        },
        "title": {
         "text": "Bubble Chart of Hair Loss vs Date with Coffee_Consumed as Size & Color (scaled)"
        },
        "xaxis": {
         "anchor": "y",
         "domain": [
          0,
          1
         ],
         "title": {
          "text": "Date"
         }
        },
        "yaxis": {
         "anchor": "x",
         "domain": [
          0,
          1
         ],
         "title": {
          "text": "Hair_Loss_Encoding"
         }
        }
       }
      }
     },
     "metadata": {},
     "output_type": "display_data"
    },
    {
     "name": "stderr",
     "output_type": "stream",
     "text": [
      "/opt/anaconda3/lib/python3.11/site-packages/_plotly_utils/basevalidators.py:106: FutureWarning:\n",
      "\n",
      "The behavior of DatetimeProperties.to_pydatetime is deprecated, in a future version this will return a Series containing python datetime objects instead of an ndarray. To retain the old behavior, call `np.array` on the result\n",
      "\n"
     ]
    },
    {
     "data": {
      "application/vnd.plotly.v1+json": {
       "config": {
        "plotlyServerURL": "https://plot.ly"
       },
       "data": [
        {
         "customdata": [
          [
           "Few",
           1,
           "Low"
          ],
          [
           "Few",
           3,
           "Low"
          ],
          [
           "Medium",
           0,
           "Low"
          ],
          [
           "Few",
           1,
           "Low"
          ],
          [
           "Few",
           1,
           "Low"
          ],
          [
           "Few",
           3,
           "Low"
          ],
          [
           "Medium",
           1,
           "Low"
          ],
          [
           "Few",
           1,
           "Low"
          ],
          [
           "Few",
           2,
           "Low"
          ],
          [
           "Medium",
           2,
           "Low"
          ],
          [
           "Medium",
           2,
           "Low"
          ],
          [
           "Medium",
           1,
           "Low"
          ],
          [
           "Medium",
           2,
           "Low"
          ],
          [
           "Medium",
           1,
           "Low"
          ],
          [
           "Medium",
           1,
           "Low"
          ],
          [
           "Few",
           1,
           "Low"
          ],
          [
           "Few",
           0,
           "Low"
          ],
          [
           "Few",
           1,
           "Low"
          ],
          [
           "Few",
           2,
           "Low"
          ],
          [
           "Few",
           0,
           "Low"
          ],
          [
           "Few",
           2,
           "Low"
          ],
          [
           "Few",
           2,
           "Low"
          ],
          [
           "Few",
           1,
           "Low"
          ],
          [
           "Few",
           2,
           "Low"
          ],
          [
           "Few",
           0,
           "Low"
          ],
          [
           "Few",
           2,
           "Low"
          ],
          [
           "Medium",
           2,
           "Low"
          ],
          [
           "Medium",
           0,
           "Low"
          ],
          [
           "Medium",
           1,
           "Low"
          ],
          [
           "Medium",
           1,
           "Low"
          ],
          [
           "Medium",
           1,
           "Low"
          ],
          [
           "Few",
           0,
           "Low"
          ],
          [
           "Few",
           3,
           "Low"
          ],
          [
           "Medium",
           1,
           "Low"
          ],
          [
           "Medium",
           1,
           "Low"
          ],
          [
           "Few",
           2,
           "Low"
          ],
          [
           "Few",
           2,
           "Low"
          ],
          [
           "Few",
           3,
           "Low"
          ],
          [
           "Medium",
           2,
           "Low"
          ],
          [
           "Medium",
           2,
           "Low"
          ],
          [
           "Medium",
           3,
           "Low"
          ],
          [
           "Medium",
           0,
           "Low"
          ],
          [
           "Medium",
           2,
           "Low"
          ],
          [
           "Few",
           2,
           "Low"
          ],
          [
           "Medium",
           2,
           "Low"
          ],
          [
           "Medium",
           1,
           "Low"
          ],
          [
           "Medium",
           3,
           "Low"
          ],
          [
           "Few",
           3,
           "Low"
          ],
          [
           "Few",
           1,
           "Low"
          ],
          [
           "Few",
           1,
           "Low"
          ],
          [
           "Few",
           2,
           "Low"
          ],
          [
           "Few",
           1,
           "Low"
          ],
          [
           "Medium",
           1,
           "Low"
          ],
          [
           "Medium",
           0,
           "Low"
          ],
          [
           "Medium",
           1,
           "Low"
          ],
          [
           "Medium",
           3,
           "Low"
          ],
          [
           "Medium",
           0,
           "Low"
          ],
          [
           "Few",
           2,
           "Low"
          ],
          [
           "Few",
           3,
           "Low"
          ],
          [
           "Few",
           0,
           "Low"
          ],
          [
           "Few",
           1,
           "Low"
          ],
          [
           "Few",
           2,
           "Low"
          ],
          [
           "Medium",
           2,
           "Low"
          ],
          [
           "Few",
           2,
           "Low"
          ],
          [
           "Medium",
           2,
           "Low"
          ],
          [
           "Few",
           2,
           "Low"
          ],
          [
           "Few",
           6,
           "Low"
          ],
          [
           "Few",
           0,
           "Low"
          ],
          [
           "Medium",
           7,
           "Low"
          ],
          [
           "Medium",
           1,
           "Low"
          ],
          [
           "Medium",
           5,
           "Low"
          ],
          [
           "Medium",
           0,
           "Low"
          ],
          [
           "Few",
           1,
           "Low"
          ],
          [
           "Few",
           6,
           "Low"
          ],
          [
           "Few",
           2,
           "Low"
          ],
          [
           "Few",
           7,
           "Low"
          ],
          [
           "Few",
           1,
           "Low"
          ],
          [
           "Medium",
           5,
           "Low"
          ],
          [
           "Few",
           2,
           "Low"
          ],
          [
           "Few",
           1,
           "Medium"
          ],
          [
           "Medium",
           8,
           "Medium"
          ],
          [
           "Medium",
           8,
           "Medium"
          ],
          [
           "Medium",
           9,
           "Medium"
          ],
          [
           "Medium",
           9,
           "Medium"
          ],
          [
           "Few",
           10,
           "Medium"
          ],
          [
           "Medium",
           10,
           "Medium"
          ],
          [
           "Medium",
           2,
           "Low"
          ],
          [
           "Medium",
           6,
           "Low"
          ],
          [
           "Few",
           0,
           "Low"
          ],
          [
           "Few",
           7,
           "Low"
          ],
          [
           "Few",
           2,
           "Low"
          ],
          [
           "Few",
           8,
           "Low"
          ],
          [
           "Medium",
           8,
           "Low"
          ],
          [
           "Medium",
           1,
           "Low"
          ],
          [
           "Medium",
           6,
           "Low"
          ],
          [
           "Medium",
           3,
           "Medium"
          ],
          [
           "Medium",
           7,
           "High"
          ],
          [
           "Medium",
           7,
           "High"
          ],
          [
           "Many",
           7,
           "High"
          ],
          [
           "Many",
           8,
           "High"
          ],
          [
           "Many",
           7,
           "High"
          ],
          [
           "Many",
           7,
           "High"
          ],
          [
           "Many",
           10,
           "High"
          ],
          [
           "Many",
           7,
           "High"
          ],
          [
           "Many",
           2,
           "High"
          ],
          [
           "Many",
           12,
           "Very High"
          ],
          [
           "A lot",
           13,
           "Very High"
          ],
          [
           "A lot",
           13,
           "Very High"
          ],
          [
           "A lot",
           13,
           "Very High"
          ],
          [
           "A lot",
           16,
           "Very High"
          ],
          [
           "A lot",
           18,
           "Very High"
          ],
          [
           "A lot",
           0,
           "High"
          ],
          [
           "A lot",
           0,
           "High"
          ],
          [
           "Many",
           10,
           "High"
          ],
          [
           "Medium",
           10,
           "High"
          ],
          [
           "Medium",
           10,
           "High"
          ],
          [
           "Medium",
           10,
           "High"
          ],
          [
           "Many",
           18,
           "Very High"
          ],
          [
           "Medium",
           6,
           "Very High"
          ],
          [
           "Medium",
           6,
           "Very High"
          ],
          [
           "Many",
           6,
           "Very High"
          ],
          [
           "Many",
           6,
           "Very High"
          ],
          [
           "Many",
           18,
           "Very High"
          ],
          [
           "Many",
           16,
           "Very High"
          ],
          [
           "Many",
           7,
           "Medium"
          ],
          [
           "Medium",
           3,
           "Medium"
          ],
          [
           "Medium",
           5,
           "Medium"
          ],
          [
           "Medium",
           2,
           "Medium"
          ],
          [
           "Medium",
           1,
           "Medium"
          ],
          [
           "Medium",
           6,
           "Low"
          ],
          [
           "Few",
           3,
           "Low"
          ],
          [
           "Few",
           7,
           "Low"
          ],
          [
           "Few",
           1,
           "Low"
          ],
          [
           "Few",
           5,
           "Low"
          ],
          [
           "Medium",
           2,
           "Low"
          ],
          [
           "Few",
           1,
           "Low"
          ],
          [
           "Few",
           2,
           "Low"
          ],
          [
           "Few",
           2,
           "Medium"
          ],
          [
           "Few",
           2,
           "Medium"
          ],
          [
           "Few",
           2,
           "Medium"
          ],
          [
           "Medium",
           1,
           "Medium"
          ],
          [
           "Few",
           0,
           "Medium"
          ],
          [
           "Few",
           3,
           "Medium"
          ],
          [
           "Few",
           2,
           "Medium"
          ],
          [
           "Medium",
           1,
           "Medium"
          ],
          [
           "Medium",
           0,
           "Medium"
          ],
          [
           "Medium",
           1,
           "Medium"
          ],
          [
           "Few",
           1,
           "Low"
          ],
          [
           "Few",
           2,
           "Low"
          ],
          [
           "Few",
           1,
           "Low"
          ],
          [
           "Few",
           0,
           "Low"
          ],
          [
           "Few",
           1,
           "Medium"
          ],
          [
           "Few",
           3,
           "Medium"
          ],
          [
           "Medium",
           2,
           "Medium"
          ],
          [
           "Few",
           2,
           "Medium"
          ],
          [
           "Few",
           2,
           "Medium"
          ],
          [
           "Medium",
           0,
           "Low"
          ],
          [
           "Few",
           2,
           "Low"
          ],
          [
           "Few",
           0,
           "Low"
          ],
          [
           "Few",
           1,
           "Low"
          ],
          [
           "Few",
           2,
           "Low"
          ],
          [
           "Medium",
           2,
           "Low"
          ],
          [
           "Medium",
           2,
           "Low"
          ],
          [
           "Medium",
           1,
           "Low"
          ],
          [
           "Medium",
           2,
           "Low"
          ],
          [
           "Medium",
           1,
           "Low"
          ],
          [
           "Few",
           1,
           "Low"
          ],
          [
           "Few",
           0,
           "Low"
          ],
          [
           "Few",
           2,
           "Low"
          ],
          [
           "Medium",
           2,
           "Low"
          ],
          [
           "Few",
           0,
           "Low"
          ],
          [
           "Few",
           2,
           "Low"
          ],
          [
           "Few",
           2,
           "Low"
          ],
          [
           "Few",
           0,
           "Low"
          ],
          [
           "Few",
           0,
           "Low"
          ],
          [
           "Few",
           6,
           "Low"
          ],
          [
           "Few",
           2,
           "Low"
          ],
          [
           "Medium",
           7,
           "Low"
          ],
          [
           "Medium",
           0,
           "Low"
          ],
          [
           "Medium",
           5,
           "Low"
          ],
          [
           "Medium",
           1,
           "Low"
          ],
          [
           "Few",
           1,
           "Low"
          ],
          [
           "Few",
           6,
           "Low"
          ],
          [
           "Few",
           3,
           "Low"
          ],
          [
           "Medium",
           7,
           "Low"
          ],
          [
           "Few",
           1,
           "Low"
          ],
          [
           "Few",
           5,
           "Low"
          ],
          [
           "Medium",
           2,
           "Low"
          ],
          [
           "Medium",
           1,
           "Low"
          ],
          [
           "Medium",
           8,
           "Medium"
          ],
          [
           "Medium",
           8,
           "Medium"
          ],
          [
           "Medium",
           9,
           "Medium"
          ],
          [
           "Medium",
           9,
           "Medium"
          ],
          [
           "Few",
           10,
           "Medium"
          ],
          [
           "A lot",
           10,
           "Medium"
          ],
          [
           "Medium",
           2,
           "Low"
          ],
          [
           "Medium",
           6,
           "Low"
          ],
          [
           "Few",
           1,
           "Low"
          ],
          [
           "Few",
           7,
           "Low"
          ],
          [
           "Few",
           1,
           "Low"
          ],
          [
           "Few",
           8,
           "Low"
          ],
          [
           "Medium",
           8,
           "Low"
          ],
          [
           "Medium",
           1,
           "Low"
          ],
          [
           "Medium",
           6,
           "Low"
          ],
          [
           "Medium",
           3,
           "Medium"
          ],
          [
           "Medium",
           7,
           "High"
          ],
          [
           "Medium",
           7,
           "High"
          ],
          [
           "Many",
           7,
           "High"
          ],
          [
           "Many",
           8,
           "High"
          ],
          [
           "Many",
           7,
           "High"
          ],
          [
           "A lot",
           7,
           "High"
          ],
          [
           "A lot",
           10,
           "High"
          ],
          [
           "A lot",
           7,
           "High"
          ],
          [
           "Many",
           0,
           "High"
          ],
          [
           "Many",
           12,
           "Very High"
          ],
          [
           "A lot",
           13,
           "Very High"
          ],
          [
           "A lot",
           13,
           "Very High"
          ],
          [
           "A lot",
           13,
           "Very High"
          ],
          [
           "A lot",
           16,
           "Very High"
          ],
          [
           "A lot",
           18,
           "Very High"
          ],
          [
           "A lot",
           0,
           "High"
          ],
          [
           "Many",
           0,
           "High"
          ],
          [
           "Many",
           10,
           "High"
          ],
          [
           "Medium",
           10,
           "High"
          ],
          [
           "Medium",
           10,
           "High"
          ],
          [
           "Medium",
           10,
           "High"
          ],
          [
           "Medium",
           11,
           "Very High"
          ],
          [
           "Medium",
           6,
           "Very High"
          ],
          [
           "Many",
           18,
           "Very High"
          ],
          [
           "Many",
           6,
           "Very High"
          ],
          [
           "Many",
           6,
           "Very High"
          ],
          [
           "Many",
           18,
           "Very High"
          ],
          [
           "Medium",
           5,
           "Medium"
          ],
          [
           "Medium",
           2,
           "Medium"
          ],
          [
           "Medium",
           2,
           "Medium"
          ],
          [
           "Medium",
           6,
           "Low"
          ],
          [
           "Few",
           0,
           "Low"
          ],
          [
           "Few",
           7,
           "Low"
          ],
          [
           "Medium",
           2,
           "Low"
          ],
          [
           "Few",
           5,
           "Low"
          ],
          [
           "Few",
           0,
           "Low"
          ],
          [
           "Few",
           2,
           "Low"
          ],
          [
           "Medium",
           2,
           "Medium"
          ],
          [
           "Medium",
           0,
           "Medium"
          ],
          [
           "Medium",
           6,
           "Low"
          ],
          [
           "Few",
           3,
           "Low"
          ],
          [
           "Few",
           7,
           "Low"
          ],
          [
           "Few",
           3,
           "Low"
          ],
          [
           "Few",
           5,
           "Low"
          ],
          [
           "Few",
           1,
           "Low"
          ],
          [
           "Few",
           2,
           "Low"
          ],
          [
           "Few",
           2,
           "Low"
          ],
          [
           "Medium",
           1,
           "Medium"
          ],
          [
           "Medium",
           3,
           "Medium"
          ],
          [
           "Few",
           0,
           "Medium"
          ],
          [
           "Few",
           2,
           "Medium"
          ],
          [
           "Few",
           1,
           "Medium"
          ],
          [
           "Few",
           0,
           "Medium"
          ],
          [
           "Few",
           1,
           "Medium"
          ],
          [
           "Medium",
           3,
           "Medium"
          ],
          [
           "Medium",
           0,
           "Medium"
          ],
          [
           "Medium",
           2,
           "Low"
          ],
          [
           "Medium",
           0,
           "Low"
          ],
          [
           "Medium",
           0,
           "Low"
          ],
          [
           "Medium",
           2,
           "Low"
          ],
          [
           "Medium",
           3,
           "Low"
          ],
          [
           "Medium",
           0,
           "Low"
          ],
          [
           "Medium",
           2,
           "Low"
          ],
          [
           "Few",
           1,
           "Low"
          ],
          [
           "Few",
           2,
           "Low"
          ],
          [
           "Few",
           2,
           "Low"
          ],
          [
           "Few",
           0,
           "Low"
          ],
          [
           "Few",
           1,
           "Low"
          ],
          [
           "Few",
           2,
           "Low"
          ],
          [
           "Medium",
           3,
           "Low"
          ],
          [
           "Few",
           1,
           "Low"
          ],
          [
           "Few",
           3,
           "Low"
          ],
          [
           "Few",
           6,
           "Low"
          ],
          [
           "Few",
           2,
           "Low"
          ],
          [
           "Medium",
           7,
           "Low"
          ],
          [
           "Medium",
           0,
           "Low"
          ],
          [
           "Medium",
           5,
           "Low"
          ],
          [
           "Medium",
           2,
           "Low"
          ],
          [
           "Few",
           0,
           "Low"
          ],
          [
           "Few",
           6,
           "Low"
          ],
          [
           "Few",
           0,
           "Low"
          ],
          [
           "Few",
           7,
           "Low"
          ],
          [
           "Few",
           2,
           "Low"
          ],
          [
           "Medium",
           5,
           "Low"
          ],
          [
           "Few",
           3,
           "Low"
          ],
          [
           "Few",
           0,
           "Low"
          ],
          [
           "Medium",
           8,
           "Medium"
          ],
          [
           "Medium",
           8,
           "Medium"
          ],
          [
           "Medium",
           9,
           "Medium"
          ],
          [
           "Medium",
           9,
           "Medium"
          ],
          [
           "Few",
           10,
           "Medium"
          ],
          [
           "Medium",
           10,
           "Medium"
          ],
          [
           "Medium",
           3,
           "Low"
          ],
          [
           "Medium",
           6,
           "Low"
          ],
          [
           "Few",
           2,
           "Low"
          ],
          [
           "Few",
           7,
           "Low"
          ],
          [
           "Few",
           3,
           "Low"
          ],
          [
           "Few",
           8,
           "Low"
          ],
          [
           "Medium",
           8,
           "Low"
          ],
          [
           "Medium",
           1,
           "Low"
          ],
          [
           "Medium",
           6,
           "Low"
          ],
          [
           "Medium",
           0,
           "Medium"
          ],
          [
           "Medium",
           7,
           "High"
          ],
          [
           "Medium",
           7,
           "High"
          ],
          [
           "Many",
           7,
           "High"
          ],
          [
           "Many",
           8,
           "High"
          ],
          [
           "Many",
           7,
           "High"
          ],
          [
           "Many",
           7,
           "High"
          ],
          [
           "Many",
           10,
           "High"
          ],
          [
           "Many",
           7,
           "High"
          ],
          [
           "Many",
           1,
           "High"
          ],
          [
           "Many",
           12,
           "Very High"
          ],
          [
           "Many",
           13,
           "Very High"
          ],
          [
           "A lot",
           13,
           "Very High"
          ],
          [
           "A lot",
           13,
           "Very High"
          ],
          [
           "A lot",
           16,
           "Very High"
          ],
          [
           "A lot",
           18,
           "Very High"
          ],
          [
           "A lot",
           0,
           "High"
          ],
          [
           "Many",
           0,
           "High"
          ],
          [
           "Many",
           10,
           "High"
          ],
          [
           "Medium",
           10,
           "High"
          ],
          [
           "Medium",
           10,
           "High"
          ],
          [
           "Medium",
           10,
           "High"
          ],
          [
           "Medium",
           11,
           "Very High"
          ],
          [
           "Medium",
           6,
           "Very High"
          ],
          [
           "Many",
           18,
           "Very High"
          ],
          [
           "Many",
           6,
           "Very High"
          ],
          [
           "Many",
           6,
           "Very High"
          ],
          [
           "Many",
           18,
           "Very High"
          ],
          [
           "Many",
           16,
           "Very High"
          ],
          [
           "Few",
           0,
           "Low"
          ],
          [
           "Few",
           0,
           "Low"
          ],
          [
           "Few",
           1,
           "Low"
          ],
          [
           "Few",
           1,
           "Low"
          ],
          [
           "Few",
           2,
           "Low"
          ],
          [
           "Medium",
           2,
           "Low"
          ],
          [
           "Few",
           1,
           "Low"
          ],
          [
           "Few",
           3,
           "Low"
          ],
          [
           "Few",
           2,
           "Low"
          ],
          [
           "Medium",
           3,
           "Low"
          ],
          [
           "Medium",
           2,
           "Low"
          ],
          [
           "Medium",
           0,
           "Low"
          ],
          [
           "Medium",
           2,
           "Low"
          ],
          [
           "Medium",
           3,
           "Low"
          ],
          [
           "Medium",
           2,
           "Low"
          ],
          [
           "Medium",
           0,
           "Low"
          ],
          [
           "Few",
           1,
           "Low"
          ],
          [
           "Few",
           3,
           "Low"
          ],
          [
           "Few",
           2,
           "Low"
          ],
          [
           "Few",
           0,
           "Low"
          ],
          [
           "Few",
           1,
           "Low"
          ],
          [
           "Few",
           0,
           "Low"
          ],
          [
           "Medium",
           3,
           "Low"
          ],
          [
           "Few",
           1,
           "Low"
          ],
          [
           "Few",
           0,
           "Low"
          ],
          [
           "Medium",
           1,
           "Low"
          ],
          [
           "Medium",
           1,
           "Low"
          ],
          [
           "Medium",
           1,
           "Low"
          ],
          [
           "Medium",
           0,
           "Low"
          ],
          [
           "Medium",
           2,
           "Low"
          ],
          [
           "Few",
           2,
           "Low"
          ],
          [
           "Few",
           0,
           "Low"
          ],
          [
           "Few",
           1,
           "Low"
          ],
          [
           "Few",
           0,
           "Low"
          ],
          [
           "Few",
           2,
           "Low"
          ],
          [
           "Medium",
           1,
           "Low"
          ],
          [
           "Medium",
           2,
           "Low"
          ],
          [
           "Few",
           2,
           "Low"
          ],
          [
           "Few",
           1,
           "Low"
          ],
          [
           "Medium",
           0,
           "Low"
          ],
          [
           "Medium",
           1,
           "Low"
          ],
          [
           "Medium",
           3,
           "Low"
          ],
          [
           "Medium",
           0,
           "Low"
          ],
          [
           "Medium",
           3,
           "Low"
          ],
          [
           "Medium",
           2,
           "Low"
          ],
          [
           "Few",
           1,
           "Low"
          ],
          [
           "Few",
           1,
           "Low"
          ],
          [
           "Few",
           0,
           "Low"
          ],
          [
           "Few",
           3,
           "Low"
          ],
          [
           "Few",
           2,
           "Low"
          ],
          [
           "Few",
           2,
           "Low"
          ],
          [
           "Few",
           2,
           "Low"
          ],
          [
           "Few",
           3,
           "Low"
          ],
          [
           "Few",
           1,
           "Low"
          ],
          [
           "Few",
           0,
           "Low"
          ],
          [
           "Few",
           2,
           "Low"
          ],
          [
           "Medium",
           0,
           "Low"
          ],
          [
           "Medium",
           2,
           "Low"
          ],
          [
           "Medium",
           0,
           "Low"
          ],
          [
           "Medium",
           2,
           "Low"
          ],
          [
           "Medium",
           2,
           "Low"
          ],
          [
           "Few",
           3,
           "Low"
          ],
          [
           "Medium",
           1,
           "Low"
          ],
          [
           "Medium",
           1,
           "Low"
          ],
          [
           "Few",
           2,
           "Low"
          ]
         ],
         "hovertemplate": "Date=%{x}<br>Hair_Loss_Encoding=%{y}<br>Coffee_Consumed_scaled=%{marker.color}<br>Hair_Loss=%{customdata[0]}<br>Brain_Working_Duration=%{customdata[1]}<br>Stress_Level=%{customdata[2]}<extra></extra>",
         "legendgroup": "",
         "marker": {
          "color": [
           0,
           0,
           0.1,
           0,
           0,
           0,
           0.1,
           0,
           0,
           0.1,
           0.1,
           0.1,
           0.1,
           0.1,
           0.1,
           0,
           0,
           0,
           0,
           0,
           0,
           0,
           0,
           0,
           0,
           0,
           0.1,
           0.1,
           0.1,
           0.1,
           0.1,
           0,
           0,
           0.1,
           0.1,
           0,
           0,
           0,
           0.1,
           0.1,
           0.1,
           0.1,
           0.1,
           0,
           0.1,
           0.1,
           0.1,
           0,
           0,
           0,
           0,
           0,
           0.1,
           0.1,
           0.1,
           0.1,
           0.1,
           0,
           0,
           0,
           0,
           0,
           0.1,
           0,
           0.1,
           0,
           0,
           0,
           0.1,
           0.1,
           0.1,
           0.1,
           0,
           0,
           0,
           0,
           0,
           0.1,
           0,
           0,
           0.1,
           0.2,
           0.3,
           0.3,
           0.3,
           0.2,
           0,
           0,
           0,
           0,
           0,
           0.3,
           0.3,
           0,
           0,
           0,
           0.3,
           0.4,
           0.4,
           0.4,
           0.4,
           0.3,
           0.5,
           0,
           0,
           0.5,
           0.6,
           0.6,
           0.6,
           0.7,
           0.8,
           0,
           0,
           0.2,
           0.2,
           0.2,
           0.2,
           0.9,
           0.2,
           0.1,
           0.2,
           0.2,
           1,
           0.9,
           0,
           0,
           0,
           0,
           0,
           0,
           0,
           0,
           0,
           0,
           0,
           0,
           0,
           0,
           0,
           0,
           0,
           0,
           0,
           0,
           0,
           0,
           0,
           0,
           0,
           0,
           0,
           0,
           0,
           0,
           0,
           0,
           0,
           0,
           0,
           0,
           0,
           0.1,
           0.1,
           0.1,
           0.1,
           0.1,
           0,
           0,
           0,
           0.1,
           0,
           0,
           0,
           0,
           0,
           0,
           0,
           0.1,
           0.1,
           0.1,
           0.1,
           0,
           0,
           0,
           0.1,
           0,
           0,
           0.1,
           0.1,
           0.1,
           0.2,
           0.3,
           0.3,
           0.3,
           0.2,
           0,
           0,
           0,
           0,
           0,
           0.3,
           0.3,
           0,
           0,
           0,
           0.3,
           0.4,
           0.4,
           0.4,
           0.4,
           0.3,
           0.5,
           0,
           0,
           0.5,
           0.6,
           0.6,
           0.6,
           0.7,
           0.8,
           0,
           0,
           0.2,
           0.2,
           0.2,
           0.2,
           0.2,
           0.1,
           0.9,
           0.2,
           0.2,
           1,
           0,
           0,
           0,
           0,
           0,
           0,
           0,
           0,
           0,
           0,
           0,
           0,
           0,
           0,
           0,
           0,
           0,
           0,
           0,
           0,
           0,
           0,
           0,
           0,
           0,
           0,
           0,
           0,
           0,
           0.1,
           0.1,
           0.1,
           0.1,
           0.1,
           0.1,
           0.1,
           0,
           0,
           0,
           0,
           0,
           0,
           0.1,
           0,
           0,
           0,
           0,
           0.1,
           0.1,
           0.1,
           0.1,
           0,
           0,
           0,
           0,
           0,
           0.1,
           0,
           0,
           0.1,
           0.2,
           0.3,
           0.3,
           0.3,
           0.2,
           0,
           0,
           0,
           0,
           0,
           0.3,
           0.3,
           0,
           0,
           0,
           0.3,
           0.4,
           0.4,
           0.4,
           0.4,
           0.3,
           0.5,
           0,
           0,
           0.5,
           0.6,
           0.6,
           0.6,
           0.7,
           0.8,
           0,
           0,
           0.2,
           0.2,
           0.2,
           0.2,
           0.2,
           0.1,
           0.9,
           0.2,
           0.2,
           1,
           0.9,
           0,
           0,
           0,
           0,
           0,
           0.1,
           0,
           0,
           0,
           0.1,
           0.1,
           0.1,
           0.1,
           0.1,
           0.1,
           0.1,
           0,
           0,
           0,
           0,
           0,
           0,
           0.1,
           0,
           0,
           0.1,
           0.1,
           0.1,
           0.1,
           0.1,
           0,
           0,
           0,
           0,
           0,
           0.1,
           0.1,
           0,
           0,
           0.1,
           0.1,
           0.1,
           0.1,
           0.1,
           0.1,
           0,
           0,
           0,
           0,
           0,
           0,
           0,
           0,
           0,
           0,
           0,
           0.1,
           0.1,
           0.1,
           0.1,
           0.1,
           0,
           0.1,
           0.1,
           0
          ],
          "coloraxis": "coloraxis",
          "symbol": "circle"
         },
         "mode": "markers",
         "name": "",
         "scene": "scene",
         "showlegend": false,
         "type": "scatter3d",
         "x": [
          "2021-01-01T00:00:00",
          "2021-01-02T00:00:00",
          "2021-01-03T00:00:00",
          "2021-01-04T00:00:00",
          "2021-01-05T00:00:00",
          "2021-01-06T00:00:00",
          "2021-01-07T00:00:00",
          "2021-01-08T00:00:00",
          "2021-01-09T00:00:00",
          "2021-01-10T00:00:00",
          "2021-01-11T00:00:00",
          "2021-01-12T00:00:00",
          "2021-01-13T00:00:00",
          "2021-01-14T00:00:00",
          "2021-01-15T00:00:00",
          "2021-01-16T00:00:00",
          "2021-01-17T00:00:00",
          "2021-01-18T00:00:00",
          "2021-01-19T00:00:00",
          "2021-01-20T00:00:00",
          "2021-01-21T00:00:00",
          "2021-01-22T00:00:00",
          "2021-01-23T00:00:00",
          "2021-01-24T00:00:00",
          "2021-01-25T00:00:00",
          "2021-01-26T00:00:00",
          "2021-01-27T00:00:00",
          "2021-01-28T00:00:00",
          "2021-01-29T00:00:00",
          "2021-01-30T00:00:00",
          "2021-01-31T00:00:00",
          "2021-02-01T00:00:00",
          "2021-02-02T00:00:00",
          "2021-02-03T00:00:00",
          "2021-02-04T00:00:00",
          "2021-02-05T00:00:00",
          "2021-02-06T00:00:00",
          "2021-02-07T00:00:00",
          "2021-02-08T00:00:00",
          "2021-02-09T00:00:00",
          "2021-02-10T00:00:00",
          "2021-02-11T00:00:00",
          "2021-02-12T00:00:00",
          "2021-02-13T00:00:00",
          "2021-02-14T00:00:00",
          "2021-02-15T00:00:00",
          "2021-02-16T00:00:00",
          "2021-02-17T00:00:00",
          "2021-02-18T00:00:00",
          "2021-02-19T00:00:00",
          "2021-02-20T00:00:00",
          "2021-02-21T00:00:00",
          "2021-02-22T00:00:00",
          "2021-02-23T00:00:00",
          "2021-02-24T00:00:00",
          "2021-02-25T00:00:00",
          "2021-02-26T00:00:00",
          "2021-02-27T00:00:00",
          "2021-02-28T00:00:00",
          "2021-03-01T00:00:00",
          "2021-03-02T00:00:00",
          "2021-03-03T00:00:00",
          "2021-03-04T00:00:00",
          "2021-03-05T00:00:00",
          "2021-03-06T00:00:00",
          "2021-03-07T00:00:00",
          "2021-03-08T00:00:00",
          "2021-03-09T00:00:00",
          "2021-03-10T00:00:00",
          "2021-03-11T00:00:00",
          "2021-03-12T00:00:00",
          "2021-03-13T00:00:00",
          "2021-03-14T00:00:00",
          "2021-03-15T00:00:00",
          "2021-03-16T00:00:00",
          "2021-03-17T00:00:00",
          "2021-03-18T00:00:00",
          "2021-03-19T00:00:00",
          "2021-03-20T00:00:00",
          "2021-03-21T00:00:00",
          "2021-03-22T00:00:00",
          "2021-03-23T00:00:00",
          "2021-03-24T00:00:00",
          "2021-03-25T00:00:00",
          "2021-03-26T00:00:00",
          "2021-03-27T00:00:00",
          "2021-03-28T00:00:00",
          "2021-03-29T00:00:00",
          "2021-03-30T00:00:00",
          "2021-03-31T00:00:00",
          "2021-04-01T00:00:00",
          "2021-04-02T00:00:00",
          "2021-04-03T00:00:00",
          "2021-04-04T00:00:00",
          "2021-04-05T00:00:00",
          "2021-04-06T00:00:00",
          "2021-04-07T00:00:00",
          "2021-04-08T00:00:00",
          "2021-04-09T00:00:00",
          "2021-04-10T00:00:00",
          "2021-04-11T00:00:00",
          "2021-04-12T00:00:00",
          "2021-04-13T00:00:00",
          "2021-04-14T00:00:00",
          "2021-04-15T00:00:00",
          "2021-04-16T00:00:00",
          "2021-04-17T00:00:00",
          "2021-04-18T00:00:00",
          "2021-04-19T00:00:00",
          "2021-04-20T00:00:00",
          "2021-04-21T00:00:00",
          "2021-04-22T00:00:00",
          "2021-04-23T00:00:00",
          "2021-04-24T00:00:00",
          "2021-04-25T00:00:00",
          "2021-04-26T00:00:00",
          "2021-04-27T00:00:00",
          "2021-04-28T00:00:00",
          "2021-04-29T00:00:00",
          "2021-04-30T00:00:00",
          "2021-05-01T00:00:00",
          "2021-05-02T00:00:00",
          "2021-05-03T00:00:00",
          "2021-05-04T00:00:00",
          "2021-05-05T00:00:00",
          "2021-05-06T00:00:00",
          "2021-05-07T00:00:00",
          "2021-05-08T00:00:00",
          "2021-05-09T00:00:00",
          "2021-05-10T00:00:00",
          "2021-05-11T00:00:00",
          "2021-05-12T00:00:00",
          "2021-05-13T00:00:00",
          "2021-05-14T00:00:00",
          "2021-05-15T00:00:00",
          "2021-05-16T00:00:00",
          "2021-05-17T00:00:00",
          "2021-05-18T00:00:00",
          "2021-05-19T00:00:00",
          "2021-05-20T00:00:00",
          "2021-05-21T00:00:00",
          "2021-05-22T00:00:00",
          "2021-05-23T00:00:00",
          "2021-05-24T00:00:00",
          "2021-05-25T00:00:00",
          "2021-05-26T00:00:00",
          "2021-05-27T00:00:00",
          "2021-05-28T00:00:00",
          "2021-05-29T00:00:00",
          "2021-05-30T00:00:00",
          "2021-05-31T00:00:00",
          "2021-06-01T00:00:00",
          "2021-06-02T00:00:00",
          "2021-06-03T00:00:00",
          "2021-06-04T00:00:00",
          "2021-06-05T00:00:00",
          "2021-06-06T00:00:00",
          "2021-06-07T00:00:00",
          "2021-06-08T00:00:00",
          "2021-06-09T00:00:00",
          "2021-06-10T00:00:00",
          "2021-06-11T00:00:00",
          "2021-06-12T00:00:00",
          "2021-06-13T00:00:00",
          "2021-06-14T00:00:00",
          "2021-06-15T00:00:00",
          "2021-06-16T00:00:00",
          "2021-06-17T00:00:00",
          "2021-06-18T00:00:00",
          "2021-06-19T00:00:00",
          "2021-06-20T00:00:00",
          "2021-06-21T00:00:00",
          "2021-06-22T00:00:00",
          "2021-06-23T00:00:00",
          "2021-06-24T00:00:00",
          "2021-06-25T00:00:00",
          "2021-06-26T00:00:00",
          "2021-06-27T00:00:00",
          "2021-06-28T00:00:00",
          "2021-06-29T00:00:00",
          "2021-06-30T00:00:00",
          "2021-07-01T00:00:00",
          "2021-07-02T00:00:00",
          "2021-07-03T00:00:00",
          "2021-07-04T00:00:00",
          "2021-07-05T00:00:00",
          "2021-07-06T00:00:00",
          "2021-07-07T00:00:00",
          "2021-07-08T00:00:00",
          "2021-07-09T00:00:00",
          "2021-07-10T00:00:00",
          "2021-07-11T00:00:00",
          "2021-07-12T00:00:00",
          "2021-07-13T00:00:00",
          "2021-07-14T00:00:00",
          "2021-07-15T00:00:00",
          "2021-07-16T00:00:00",
          "2021-07-17T00:00:00",
          "2021-07-18T00:00:00",
          "2021-07-19T00:00:00",
          "2021-07-20T00:00:00",
          "2021-07-21T00:00:00",
          "2021-07-22T00:00:00",
          "2021-07-23T00:00:00",
          "2021-07-24T00:00:00",
          "2021-07-25T00:00:00",
          "2021-07-26T00:00:00",
          "2021-07-27T00:00:00",
          "2021-07-28T00:00:00",
          "2021-07-29T00:00:00",
          "2021-07-30T00:00:00",
          "2021-07-31T00:00:00",
          "2021-08-01T00:00:00",
          "2021-08-02T00:00:00",
          "2021-08-03T00:00:00",
          "2021-08-04T00:00:00",
          "2021-08-05T00:00:00",
          "2021-08-06T00:00:00",
          "2021-08-07T00:00:00",
          "2021-08-08T00:00:00",
          "2021-08-09T00:00:00",
          "2021-08-10T00:00:00",
          "2021-08-11T00:00:00",
          "2021-08-12T00:00:00",
          "2021-08-13T00:00:00",
          "2021-08-14T00:00:00",
          "2021-08-15T00:00:00",
          "2021-08-16T00:00:00",
          "2021-08-17T00:00:00",
          "2021-08-18T00:00:00",
          "2021-08-19T00:00:00",
          "2021-08-20T00:00:00",
          "2021-08-21T00:00:00",
          "2021-08-22T00:00:00",
          "2021-08-23T00:00:00",
          "2021-08-24T00:00:00",
          "2021-08-25T00:00:00",
          "2021-08-26T00:00:00",
          "2021-08-27T00:00:00",
          "2021-08-28T00:00:00",
          "2021-08-29T00:00:00",
          "2021-08-30T00:00:00",
          "2021-08-31T00:00:00",
          "2021-09-01T00:00:00",
          "2021-09-02T00:00:00",
          "2021-09-03T00:00:00",
          "2021-09-04T00:00:00",
          "2021-09-05T00:00:00",
          "2021-09-06T00:00:00",
          "2021-09-07T00:00:00",
          "2021-09-08T00:00:00",
          "2021-09-09T00:00:00",
          "2021-09-10T00:00:00",
          "2021-09-11T00:00:00",
          "2021-09-12T00:00:00",
          "2021-09-13T00:00:00",
          "2021-09-14T00:00:00",
          "2021-09-15T00:00:00",
          "2021-09-16T00:00:00",
          "2021-09-17T00:00:00",
          "2021-09-18T00:00:00",
          "2021-09-19T00:00:00",
          "2021-09-20T00:00:00",
          "2021-09-21T00:00:00",
          "2021-09-22T00:00:00",
          "2021-09-23T00:00:00",
          "2021-09-24T00:00:00",
          "2021-09-25T00:00:00",
          "2021-09-26T00:00:00",
          "2021-09-27T00:00:00",
          "2021-09-28T00:00:00",
          "2021-09-29T00:00:00",
          "2021-09-30T00:00:00",
          "2021-10-01T00:00:00",
          "2021-10-02T00:00:00",
          "2021-10-03T00:00:00",
          "2021-10-04T00:00:00",
          "2021-10-05T00:00:00",
          "2021-10-06T00:00:00",
          "2021-10-07T00:00:00",
          "2021-10-08T00:00:00",
          "2021-10-09T00:00:00",
          "2021-10-10T00:00:00",
          "2021-10-11T00:00:00",
          "2021-10-12T00:00:00",
          "2021-10-13T00:00:00",
          "2021-10-14T00:00:00",
          "2021-10-15T00:00:00",
          "2021-10-16T00:00:00",
          "2021-10-17T00:00:00",
          "2021-10-18T00:00:00",
          "2021-10-19T00:00:00",
          "2021-10-20T00:00:00",
          "2021-10-21T00:00:00",
          "2021-10-22T00:00:00",
          "2021-10-23T00:00:00",
          "2021-10-24T00:00:00",
          "2021-10-25T00:00:00",
          "2021-10-26T00:00:00",
          "2021-10-27T00:00:00",
          "2021-10-28T00:00:00",
          "2021-10-29T00:00:00",
          "2021-10-30T00:00:00",
          "2021-10-31T00:00:00",
          "2021-11-01T00:00:00",
          "2021-11-02T00:00:00",
          "2021-11-03T00:00:00",
          "2021-11-04T00:00:00",
          "2021-11-05T00:00:00",
          "2021-11-06T00:00:00",
          "2021-11-07T00:00:00",
          "2021-11-08T00:00:00",
          "2021-11-09T00:00:00",
          "2021-11-10T00:00:00",
          "2021-11-11T00:00:00",
          "2021-11-12T00:00:00",
          "2021-11-13T00:00:00",
          "2021-11-14T00:00:00",
          "2021-11-15T00:00:00",
          "2021-11-16T00:00:00",
          "2021-11-17T00:00:00",
          "2021-11-18T00:00:00",
          "2021-11-19T00:00:00",
          "2021-11-20T00:00:00",
          "2021-11-21T00:00:00",
          "2021-11-22T00:00:00",
          "2021-11-23T00:00:00",
          "2021-11-24T00:00:00",
          "2021-11-25T00:00:00",
          "2021-11-26T00:00:00",
          "2021-11-27T00:00:00",
          "2021-11-28T00:00:00",
          "2021-11-29T00:00:00",
          "2021-11-30T00:00:00",
          "2021-12-01T00:00:00",
          "2021-12-02T00:00:00",
          "2021-12-03T00:00:00",
          "2021-12-04T00:00:00",
          "2021-12-05T00:00:00",
          "2021-12-06T00:00:00",
          "2021-12-07T00:00:00",
          "2021-12-08T00:00:00",
          "2021-12-09T00:00:00",
          "2021-12-10T00:00:00",
          "2021-12-11T00:00:00",
          "2021-12-12T00:00:00",
          "2021-12-13T00:00:00",
          "2021-12-14T00:00:00",
          "2021-12-15T00:00:00",
          "2021-12-16T00:00:00",
          "2021-12-17T00:00:00",
          "2021-12-18T00:00:00",
          "2021-12-19T00:00:00",
          "2021-12-20T00:00:00",
          "2021-12-21T00:00:00",
          "2021-12-22T00:00:00",
          "2021-12-23T00:00:00",
          "2021-12-24T00:00:00",
          "2021-12-25T00:00:00",
          "2021-12-26T00:00:00",
          "2021-12-27T00:00:00",
          "2021-12-28T00:00:00",
          "2021-12-29T00:00:00",
          "2021-12-30T00:00:00",
          "2021-12-31T00:00:00",
          "2022-01-01T00:00:00",
          "2022-01-02T00:00:00",
          "2022-01-03T00:00:00",
          "2022-01-04T00:00:00",
          "2022-01-05T00:00:00",
          "2022-01-06T00:00:00",
          "2022-01-07T00:00:00",
          "2022-01-08T00:00:00",
          "2022-01-09T00:00:00",
          "2022-01-10T00:00:00",
          "2022-01-11T00:00:00",
          "2022-01-12T00:00:00",
          "2022-01-13T00:00:00",
          "2022-01-14T00:00:00",
          "2022-01-15T00:00:00",
          "2022-01-16T00:00:00",
          "2022-01-17T00:00:00",
          "2022-01-18T00:00:00",
          "2022-01-19T00:00:00",
          "2022-01-20T00:00:00",
          "2022-01-21T00:00:00",
          "2022-01-22T00:00:00",
          "2022-01-23T00:00:00",
          "2022-01-24T00:00:00",
          "2022-01-25T00:00:00",
          "2022-01-26T00:00:00",
          "2022-01-27T00:00:00",
          "2022-01-28T00:00:00",
          "2022-01-29T00:00:00",
          "2022-01-30T00:00:00",
          "2022-01-31T00:00:00",
          "2022-02-01T00:00:00",
          "2022-02-02T00:00:00",
          "2022-02-03T00:00:00",
          "2022-02-04T00:00:00"
         ],
         "y": [
          1,
          1,
          2,
          1,
          1,
          1,
          2,
          1,
          1,
          2,
          2,
          2,
          2,
          2,
          2,
          1,
          1,
          1,
          1,
          1,
          1,
          1,
          1,
          1,
          1,
          1,
          2,
          2,
          2,
          2,
          2,
          1,
          1,
          2,
          2,
          1,
          1,
          1,
          2,
          2,
          2,
          2,
          2,
          1,
          2,
          2,
          2,
          1,
          1,
          1,
          1,
          1,
          2,
          2,
          2,
          2,
          2,
          1,
          1,
          1,
          1,
          1,
          2,
          1,
          2,
          1,
          1,
          1,
          2,
          2,
          2,
          2,
          1,
          1,
          1,
          1,
          1,
          2,
          1,
          1,
          2,
          2,
          2,
          2,
          1,
          2,
          2,
          2,
          1,
          1,
          1,
          1,
          2,
          2,
          2,
          2,
          2,
          2,
          3,
          3,
          3,
          3,
          3,
          3,
          3,
          3,
          4,
          4,
          4,
          4,
          4,
          4,
          4,
          3,
          2,
          2,
          2,
          3,
          2,
          2,
          3,
          3,
          3,
          3,
          3,
          2,
          2,
          2,
          2,
          2,
          1,
          1,
          1,
          1,
          2,
          1,
          1,
          1,
          1,
          1,
          2,
          1,
          1,
          1,
          2,
          2,
          2,
          1,
          1,
          1,
          1,
          1,
          1,
          2,
          1,
          1,
          2,
          1,
          1,
          1,
          1,
          2,
          2,
          2,
          2,
          2,
          1,
          1,
          1,
          2,
          1,
          1,
          1,
          1,
          1,
          1,
          1,
          2,
          2,
          2,
          2,
          1,
          1,
          1,
          2,
          1,
          1,
          2,
          2,
          2,
          2,
          2,
          2,
          1,
          4,
          2,
          2,
          1,
          1,
          1,
          1,
          2,
          2,
          2,
          2,
          2,
          2,
          3,
          3,
          3,
          4,
          4,
          4,
          3,
          3,
          4,
          4,
          4,
          4,
          4,
          4,
          3,
          3,
          2,
          2,
          2,
          2,
          2,
          3,
          3,
          3,
          3,
          2,
          2,
          2,
          2,
          1,
          1,
          2,
          1,
          1,
          1,
          2,
          2,
          2,
          1,
          1,
          1,
          1,
          1,
          1,
          1,
          2,
          2,
          1,
          1,
          1,
          1,
          1,
          2,
          2,
          2,
          2,
          2,
          2,
          2,
          2,
          2,
          1,
          1,
          1,
          1,
          1,
          1,
          2,
          1,
          1,
          1,
          1,
          2,
          2,
          2,
          2,
          1,
          1,
          1,
          1,
          1,
          2,
          1,
          1,
          2,
          2,
          2,
          2,
          1,
          2,
          2,
          2,
          1,
          1,
          1,
          1,
          2,
          2,
          2,
          2,
          2,
          2,
          3,
          3,
          3,
          3,
          3,
          3,
          3,
          3,
          3,
          4,
          4,
          4,
          4,
          4,
          3,
          3,
          2,
          2,
          2,
          2,
          2,
          3,
          3,
          3,
          3,
          3,
          1,
          1,
          1,
          1,
          1,
          2,
          1,
          1,
          1,
          2,
          2,
          2,
          2,
          2,
          2,
          2,
          1,
          1,
          1,
          1,
          1,
          1,
          2,
          1,
          1,
          2,
          2,
          2,
          2,
          2,
          1,
          1,
          1,
          1,
          1,
          2,
          2,
          1,
          1,
          2,
          2,
          2,
          2,
          2,
          2,
          1,
          1,
          1,
          1,
          1,
          1,
          1,
          1,
          1,
          1,
          1,
          2,
          2,
          2,
          2,
          2,
          1,
          2,
          2,
          1
         ],
         "z": [
          0,
          0,
          0.1,
          0,
          0,
          0,
          0.1,
          0,
          0,
          0.1,
          0.1,
          0.1,
          0.1,
          0.1,
          0.1,
          0,
          0,
          0,
          0,
          0,
          0,
          0,
          0,
          0,
          0,
          0,
          0.1,
          0.1,
          0.1,
          0.1,
          0.1,
          0,
          0,
          0.1,
          0.1,
          0,
          0,
          0,
          0.1,
          0.1,
          0.1,
          0.1,
          0.1,
          0,
          0.1,
          0.1,
          0.1,
          0,
          0,
          0,
          0,
          0,
          0.1,
          0.1,
          0.1,
          0.1,
          0.1,
          0,
          0,
          0,
          0,
          0,
          0.1,
          0,
          0.1,
          0,
          0,
          0,
          0.1,
          0.1,
          0.1,
          0.1,
          0,
          0,
          0,
          0,
          0,
          0.1,
          0,
          0,
          0.1,
          0.2,
          0.3,
          0.3,
          0.3,
          0.2,
          0,
          0,
          0,
          0,
          0,
          0.3,
          0.3,
          0,
          0,
          0,
          0.3,
          0.4,
          0.4,
          0.4,
          0.4,
          0.3,
          0.5,
          0,
          0,
          0.5,
          0.6,
          0.6,
          0.6,
          0.7,
          0.8,
          0,
          0,
          0.2,
          0.2,
          0.2,
          0.2,
          0.9,
          0.2,
          0.1,
          0.2,
          0.2,
          1,
          0.9,
          0,
          0,
          0,
          0,
          0,
          0,
          0,
          0,
          0,
          0,
          0,
          0,
          0,
          0,
          0,
          0,
          0,
          0,
          0,
          0,
          0,
          0,
          0,
          0,
          0,
          0,
          0,
          0,
          0,
          0,
          0,
          0,
          0,
          0,
          0,
          0,
          0,
          0.1,
          0.1,
          0.1,
          0.1,
          0.1,
          0,
          0,
          0,
          0.1,
          0,
          0,
          0,
          0,
          0,
          0,
          0,
          0.1,
          0.1,
          0.1,
          0.1,
          0,
          0,
          0,
          0.1,
          0,
          0,
          0.1,
          0.1,
          0.1,
          0.2,
          0.3,
          0.3,
          0.3,
          0.2,
          0,
          0,
          0,
          0,
          0,
          0.3,
          0.3,
          0,
          0,
          0,
          0.3,
          0.4,
          0.4,
          0.4,
          0.4,
          0.3,
          0.5,
          0,
          0,
          0.5,
          0.6,
          0.6,
          0.6,
          0.7,
          0.8,
          0,
          0,
          0.2,
          0.2,
          0.2,
          0.2,
          0.2,
          0.1,
          0.9,
          0.2,
          0.2,
          1,
          0,
          0,
          0,
          0,
          0,
          0,
          0,
          0,
          0,
          0,
          0,
          0,
          0,
          0,
          0,
          0,
          0,
          0,
          0,
          0,
          0,
          0,
          0,
          0,
          0,
          0,
          0,
          0,
          0,
          0.1,
          0.1,
          0.1,
          0.1,
          0.1,
          0.1,
          0.1,
          0,
          0,
          0,
          0,
          0,
          0,
          0.1,
          0,
          0,
          0,
          0,
          0.1,
          0.1,
          0.1,
          0.1,
          0,
          0,
          0,
          0,
          0,
          0.1,
          0,
          0,
          0.1,
          0.2,
          0.3,
          0.3,
          0.3,
          0.2,
          0,
          0,
          0,
          0,
          0,
          0.3,
          0.3,
          0,
          0,
          0,
          0.3,
          0.4,
          0.4,
          0.4,
          0.4,
          0.3,
          0.5,
          0,
          0,
          0.5,
          0.6,
          0.6,
          0.6,
          0.7,
          0.8,
          0,
          0,
          0.2,
          0.2,
          0.2,
          0.2,
          0.2,
          0.1,
          0.9,
          0.2,
          0.2,
          1,
          0.9,
          0,
          0,
          0,
          0,
          0,
          0.1,
          0,
          0,
          0,
          0.1,
          0.1,
          0.1,
          0.1,
          0.1,
          0.1,
          0.1,
          0,
          0,
          0,
          0,
          0,
          0,
          0.1,
          0,
          0,
          0.1,
          0.1,
          0.1,
          0.1,
          0.1,
          0,
          0,
          0,
          0,
          0,
          0.1,
          0.1,
          0,
          0,
          0.1,
          0.1,
          0.1,
          0.1,
          0.1,
          0.1,
          0,
          0,
          0,
          0,
          0,
          0,
          0,
          0,
          0,
          0,
          0,
          0.1,
          0.1,
          0.1,
          0.1,
          0.1,
          0,
          0.1,
          0.1,
          0
         ]
        }
       ],
       "layout": {
        "coloraxis": {
         "colorbar": {
          "title": {
           "text": "Coffee_Consumed_scaled"
          }
         },
         "colorscale": [
          [
           0,
           "#440154"
          ],
          [
           0.1111111111111111,
           "#482878"
          ],
          [
           0.2222222222222222,
           "#3e4989"
          ],
          [
           0.3333333333333333,
           "#31688e"
          ],
          [
           0.4444444444444444,
           "#26828e"
          ],
          [
           0.5555555555555556,
           "#1f9e89"
          ],
          [
           0.6666666666666666,
           "#35b779"
          ],
          [
           0.7777777777777778,
           "#6ece58"
          ],
          [
           0.8888888888888888,
           "#b5de2b"
          ],
          [
           1,
           "#fde725"
          ]
         ]
        },
        "legend": {
         "tracegroupgap": 0
        },
        "scene": {
         "domain": {
          "x": [
           0,
           1
          ],
          "y": [
           0,
           1
          ]
         },
         "xaxis": {
          "title": {
           "text": "Date"
          }
         },
         "yaxis": {
          "title": {
           "text": "Hair_Loss_Encoding"
          }
         },
         "zaxis": {
          "title": {
           "text": "Coffee_Consumed_scaled"
          }
         }
        },
        "template": {
         "data": {
          "candlestick": [
           {
            "decreasing": {
             "line": {
              "color": "#000033"
             }
            },
            "increasing": {
             "line": {
              "color": "#000032"
             }
            },
            "type": "candlestick"
           }
          ],
          "contour": [
           {
            "colorscale": [
             [
              0,
              "#000011"
             ],
             [
              0.1111111111111111,
              "#000012"
             ],
             [
              0.2222222222222222,
              "#000013"
             ],
             [
              0.3333333333333333,
              "#000014"
             ],
             [
              0.4444444444444444,
              "#000015"
             ],
             [
              0.5555555555555556,
              "#000016"
             ],
             [
              0.6666666666666666,
              "#000017"
             ],
             [
              0.7777777777777778,
              "#000018"
             ],
             [
              0.8888888888888888,
              "#000019"
             ],
             [
              1,
              "#000020"
             ]
            ],
            "type": "contour"
           }
          ],
          "contourcarpet": [
           {
            "colorscale": [
             [
              0,
              "#000011"
             ],
             [
              0.1111111111111111,
              "#000012"
             ],
             [
              0.2222222222222222,
              "#000013"
             ],
             [
              0.3333333333333333,
              "#000014"
             ],
             [
              0.4444444444444444,
              "#000015"
             ],
             [
              0.5555555555555556,
              "#000016"
             ],
             [
              0.6666666666666666,
              "#000017"
             ],
             [
              0.7777777777777778,
              "#000018"
             ],
             [
              0.8888888888888888,
              "#000019"
             ],
             [
              1,
              "#000020"
             ]
            ],
            "type": "contourcarpet"
           }
          ],
          "heatmap": [
           {
            "colorscale": [
             [
              0,
              "#000011"
             ],
             [
              0.1111111111111111,
              "#000012"
             ],
             [
              0.2222222222222222,
              "#000013"
             ],
             [
              0.3333333333333333,
              "#000014"
             ],
             [
              0.4444444444444444,
              "#000015"
             ],
             [
              0.5555555555555556,
              "#000016"
             ],
             [
              0.6666666666666666,
              "#000017"
             ],
             [
              0.7777777777777778,
              "#000018"
             ],
             [
              0.8888888888888888,
              "#000019"
             ],
             [
              1,
              "#000020"
             ]
            ],
            "type": "heatmap"
           }
          ],
          "histogram2d": [
           {
            "colorscale": [
             [
              0,
              "#000011"
             ],
             [
              0.1111111111111111,
              "#000012"
             ],
             [
              0.2222222222222222,
              "#000013"
             ],
             [
              0.3333333333333333,
              "#000014"
             ],
             [
              0.4444444444444444,
              "#000015"
             ],
             [
              0.5555555555555556,
              "#000016"
             ],
             [
              0.6666666666666666,
              "#000017"
             ],
             [
              0.7777777777777778,
              "#000018"
             ],
             [
              0.8888888888888888,
              "#000019"
             ],
             [
              1,
              "#000020"
             ]
            ],
            "type": "histogram2d"
           }
          ],
          "icicle": [
           {
            "textfont": {
             "color": "white"
            },
            "type": "icicle"
           }
          ],
          "sankey": [
           {
            "textfont": {
             "color": "#000036"
            },
            "type": "sankey"
           }
          ],
          "scatter": [
           {
            "marker": {
             "line": {
              "width": 0
             }
            },
            "type": "scatter"
           }
          ],
          "table": [
           {
            "cells": {
             "fill": {
              "color": "#000038"
             },
             "font": {
              "color": "#000037"
             },
             "line": {
              "color": "#000039"
             }
            },
            "header": {
             "fill": {
              "color": "#000040"
             },
             "font": {
              "color": "#000036"
             },
             "line": {
              "color": "#000039"
             }
            },
            "type": "table"
           }
          ],
          "waterfall": [
           {
            "connector": {
             "line": {
              "color": "#000036",
              "width": 2
             }
            },
            "decreasing": {
             "marker": {
              "color": "#000033"
             }
            },
            "increasing": {
             "marker": {
              "color": "#000032"
             }
            },
            "totals": {
             "marker": {
              "color": "#000034"
             }
            },
            "type": "waterfall"
           }
          ]
         },
         "layout": {
          "coloraxis": {
           "colorscale": [
            [
             0,
             "#000011"
            ],
            [
             0.1111111111111111,
             "#000012"
            ],
            [
             0.2222222222222222,
             "#000013"
            ],
            [
             0.3333333333333333,
             "#000014"
            ],
            [
             0.4444444444444444,
             "#000015"
            ],
            [
             0.5555555555555556,
             "#000016"
            ],
            [
             0.6666666666666666,
             "#000017"
            ],
            [
             0.7777777777777778,
             "#000018"
            ],
            [
             0.8888888888888888,
             "#000019"
            ],
            [
             1,
             "#000020"
            ]
           ]
          },
          "colorscale": {
           "diverging": [
            [
             0,
             "#000021"
            ],
            [
             0.1,
             "#000022"
            ],
            [
             0.2,
             "#000023"
            ],
            [
             0.3,
             "#000024"
            ],
            [
             0.4,
             "#000025"
            ],
            [
             0.5,
             "#000026"
            ],
            [
             0.6,
             "#000027"
            ],
            [
             0.7,
             "#000028"
            ],
            [
             0.8,
             "#000029"
            ],
            [
             0.9,
             "#000030"
            ],
            [
             1,
             "#000031"
            ]
           ],
           "sequential": [
            [
             0,
             "#000011"
            ],
            [
             0.1111111111111111,
             "#000012"
            ],
            [
             0.2222222222222222,
             "#000013"
            ],
            [
             0.3333333333333333,
             "#000014"
            ],
            [
             0.4444444444444444,
             "#000015"
            ],
            [
             0.5555555555555556,
             "#000016"
            ],
            [
             0.6666666666666666,
             "#000017"
            ],
            [
             0.7777777777777778,
             "#000018"
            ],
            [
             0.8888888888888888,
             "#000019"
            ],
            [
             1,
             "#000020"
            ]
           ],
           "sequentialminus": [
            [
             0,
             "#000011"
            ],
            [
             0.1111111111111111,
             "#000012"
            ],
            [
             0.2222222222222222,
             "#000013"
            ],
            [
             0.3333333333333333,
             "#000014"
            ],
            [
             0.4444444444444444,
             "#000015"
            ],
            [
             0.5555555555555556,
             "#000016"
            ],
            [
             0.6666666666666666,
             "#000017"
            ],
            [
             0.7777777777777778,
             "#000018"
            ],
            [
             0.8888888888888888,
             "#000019"
            ],
            [
             1,
             "#000020"
            ]
           ]
          },
          "colorway": [
           "#000001",
           "#000002",
           "#000003",
           "#000004",
           "#000005",
           "#000006",
           "#000007",
           "#000008",
           "#000009",
           "#000010"
          ]
         }
        },
        "title": {
         "text": "3D Scatter Plot: Hair Loss vs Date vs Coffee_Consumed (scaled)"
        }
       }
      }
     },
     "metadata": {},
     "output_type": "display_data"
    }
   ],
   "source": [
    "# %%\n",
    "# Import libraries\n",
    "import pandas as pd\n",
    "import numpy as np\n",
    "import plotly.express as px\n",
    "from scipy.interpolate import make_interp_spline\n",
    "\n",
    "# %%\n",
    "# Prepare dataset\n",
    "df = luke_hair_data.copy()\n",
    "df['Date'] = pd.to_datetime(df['Date'], format='%d/%m/%Y')\n",
    "df = df.sort_values('Date')\n",
    "\n",
    "# Choose third variable\n",
    "third_var = 'Coffee_Consumed'  # change to Brain_Working_Duration, Stress_Level_Encoding, etc.\n",
    "\n",
    "# %%\n",
    "# --- Automatic Min-Max Scaling ---\n",
    "scaled_var = third_var + '_scaled'\n",
    "df[scaled_var] = (df[third_var] - df[third_var].min()) / (df[third_var].max() - df[third_var].min())\n",
    "\n",
    "# %%\n",
    "# Option 1: Color-coded scatter plot\n",
    "fig1 = px.scatter(\n",
    "    df,\n",
    "    x='Date',\n",
    "    y='Hair_Loss_Encoding',\n",
    "    color=scaled_var,                      # scaled variable for color\n",
    "    color_continuous_scale='Viridis',      # smooth gradient\n",
    "    hover_data=['Hair_Loss', 'Brain_Working_Duration', 'Stress_Level'],\n",
    "    title=f'Scatter Plot of Hair Loss vs Date colored by {third_var} (scaled)'\n",
    ")\n",
    "fig1.show()\n",
    "\n",
    "\n",
    "# %%\n",
    "# Option 3: Bubble chart (size = scaled third variable)\n",
    "fig3 = px.scatter(\n",
    "    df,\n",
    "    x='Date',\n",
    "    y='Hair_Loss_Encoding',\n",
    "    size=scaled_var,                        # size proportional to scaled variable\n",
    "    color=scaled_var,                       # color gradient\n",
    "    color_continuous_scale='Viridis',\n",
    "    hover_data=['Hair_Loss', 'Brain_Working_Duration', 'Stress_Level'],\n",
    "    title=f'Bubble Chart of Hair Loss vs Date with {third_var} as Size & Color (scaled)'\n",
    ")\n",
    "fig3.show()\n",
    "\n",
    "# %%\n",
    "# Option 4: 3D scatter plot\n",
    "fig4 = px.scatter_3d(\n",
    "    df,\n",
    "    x='Date',\n",
    "    y='Hair_Loss_Encoding',\n",
    "    z=scaled_var,\n",
    "    color=scaled_var,\n",
    "    color_continuous_scale='Viridis',\n",
    "    hover_data=['Hair_Loss', 'Brain_Working_Duration', 'Stress_Level'],\n",
    "    title=f'3D Scatter Plot: Hair Loss vs Date vs {third_var} (scaled)'\n",
    ")\n",
    "fig4.show()\n",
    "\n"
   ]
  },
  {
   "cell_type": "code",
   "execution_count": 375,
   "id": "2d99a50b",
   "metadata": {},
   "outputs": [
    {
     "name": "stdout",
     "output_type": "stream",
     "text": [
      "Index(['Date', 'Hair_Loss', 'Stay_Up_Late', 'Pressure_Level',\n",
      "       'Coffee_Consumed', 'Brain_Working_Duration', 'School_Assesssment',\n",
      "       'Stress_Level', 'Shampoo_Brand', 'Swimming', 'Hair_Washing',\n",
      "       'Hair_Grease', 'Dandruff', 'Libido', 'Hair_Loss_Encoding',\n",
      "       'Pressure_Level_Encoding', 'Stress_Level_Encoding', 'Swimming_Encoding',\n",
      "       'Hair_Washing_Encoding', 'Dandruff_Encoding'],\n",
      "      dtype='object')\n"
     ]
    }
   ],
   "source": [
    "print(luke_hair_data.columns)"
   ]
  },
  {
   "cell_type": "code",
   "execution_count": 376,
   "id": "00ddde26",
   "metadata": {},
   "outputs": [],
   "source": [
    "# Saving as csv\n",
    "luke_hair_data.to_csv('Data/Luke_hair_loss_documentation Cleaned.csv', index=False)"
   ]
  }
 ],
 "metadata": {
  "kernelspec": {
   "display_name": "base",
   "language": "python",
   "name": "python3"
  },
  "language_info": {
   "codemirror_mode": {
    "name": "ipython",
    "version": 3
   },
   "file_extension": ".py",
   "mimetype": "text/x-python",
   "name": "python",
   "nbconvert_exporter": "python",
   "pygments_lexer": "ipython3",
   "version": "3.11.7"
  }
 },
 "nbformat": 4,
 "nbformat_minor": 5
}
